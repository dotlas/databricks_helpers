{
 "cells": [
  {
   "cell_type": "markdown",
   "metadata": {
    "application/vnd.databricks.v1+cell": {
     "cellMetadata": {
      "byteLimit": 2048000,
      "rowLimit": 10000
     },
     "inputWidgets": {},
     "nuid": "cde53784-c3c7-4e18-8a3b-908968db7093",
     "showTitle": false,
     "tableResultSettingsMap": {},
     "title": ""
    }
   },
   "source": [
    "## Databricks Workflow Pause/Unpause Utility\n",
    "\n",
    "### Overview  \n",
    "This notebook enables safe and efficient pausing or unpausing of scheduled Databricks jobs based on a user-defined keyword. It is ideal for operational testing, deployment workflows, and temporary job management.\n",
    "\n",
    "---\n",
    "\n",
    "### Core Functionality  \n",
    "The notebook accepts two parameters to control its behavior:\n",
    "\n",
    "- **`KEYWORD`**: Filters jobs by name (case-insensitive substring match)  \n",
    "- **`OPERATION`**: Specifies whether to `PAUSE` or `UNPAUSE` matching jobs  \n",
    "\n",
    "It performs the following operations:\n",
    "- Identifies jobs whose names contain the keyword and have a defined schedule\n",
    "- Applies the selected operation only to jobs that are currently in the opposite state:\n",
    "  - `PAUSE` only affects jobs that are currently unpaused\n",
    "  - `UNPAUSE` only affects jobs that are currently paused\n",
    "- Logs all updates and skips for full traceability\n",
    "\n",
    "---\n",
    "\n",
    "### Parameters\n",
    "\n",
    "| Name        | Description                                | Default | Allowed Values      |\n",
    "|-------------|--------------------------------------------|---------|---------------------|\n",
    "| `KEYWORD`   | Required string to match in job names       | (empty) | Any string          |\n",
    "| `OPERATION` | Action to apply to matching jobs            | PAUSE   | `PAUSE`, `UNPAUSE`  |\n",
    "\n",
    "---\n",
    "\n",
    "### Behavior Summary\n",
    "- Only scheduled jobs matching the keyword are considered  \n",
    "- Only jobs that need to be updated (based on current pause status) are affected  \n",
    "- Detailed logging ensures transparency of operations"
   ]
  },
  {
   "cell_type": "code",
   "execution_count": 0,
   "metadata": {
    "application/vnd.databricks.v1+cell": {
     "cellMetadata": {
      "byteLimit": 2048000,
      "rowLimit": 10000
     },
     "inputWidgets": {},
     "nuid": "091f03c7-8b9a-4073-b448-2d888ab76ec2",
     "showTitle": true,
     "tableResultSettingsMap": {},
     "title": "Imports"
    }
   },
   "outputs": [],
   "source": [
    "from databricks.sdk import WorkspaceClient\n",
    "from databricks.sdk.service.jobs import CronSchedule, PauseStatus\n",
    "import logging"
   ]
  },
  {
   "cell_type": "code",
   "execution_count": 0,
   "metadata": {
    "application/vnd.databricks.v1+cell": {
     "cellMetadata": {
      "byteLimit": 2048000,
      "rowLimit": 10000
     },
     "inputWidgets": {},
     "nuid": "c61ad1b6-231c-430d-a254-1f0ffc0f5cea",
     "showTitle": true,
     "tableResultSettingsMap": {},
     "title": "Initialize Logging"
    }
   },
   "outputs": [],
   "source": [
    "logger = logging.getLogger(\"pause_jobs\")\n",
    "logger.setLevel(logging.INFO)"
   ]
  },
  {
   "cell_type": "code",
   "execution_count": 0,
   "metadata": {
    "application/vnd.databricks.v1+cell": {
     "cellMetadata": {
      "byteLimit": 2048000,
      "rowLimit": 10000
     },
     "inputWidgets": {},
     "nuid": "0ce1c3dd-392a-4e68-98f8-ae7755541f5c",
     "showTitle": true,
     "tableResultSettingsMap": {},
     "title": "Parameters"
    }
   },
   "outputs": [],
   "source": [
    "KEYWORD = dbutils.widgets.get(\"KEYWORD\").strip().lower()\n",
    "OPERATION = dbutils.widgets.get(\"OPERATION\").strip().upper()\n",
    "\n",
    "assert KEYWORD, \"KEYWORD cannot be empty — please provide a keyword to filter jobs.\"\n",
    "\n",
    "logger.info(f\"Filtering jobs using keyword: '{KEYWORD}'\")\n",
    "logger.info(f\"Operation: {OPERATION}\")"
   ]
  },
  {
   "cell_type": "code",
   "execution_count": 0,
   "metadata": {
    "application/vnd.databricks.v1+cell": {
     "cellMetadata": {
      "byteLimit": 2048000,
      "rowLimit": 10000
     },
     "inputWidgets": {},
     "nuid": "f95abb50-c908-4059-89da-1a72137b46cd",
     "showTitle": true,
     "tableResultSettingsMap": {},
     "title": "Databricks Workspace Client"
    }
   },
   "outputs": [],
   "source": [
    "w = WorkspaceClient()"
   ]
  },
  {
   "cell_type": "code",
   "execution_count": 0,
   "metadata": {
    "application/vnd.databricks.v1+cell": {
     "cellMetadata": {
      "byteLimit": 2048000,
      "rowLimit": 10000
     },
     "inputWidgets": {},
     "nuid": "0508f2c3-02fd-402f-82a5-95ac4dc4f0cd",
     "showTitle": true,
     "tableResultSettingsMap": {},
     "title": "Filter jobs with keyword and defined schedule"
    }
   },
   "outputs": [],
   "source": [
    "all_jobs = list(w.jobs.list())\n",
    "filtered_jobs = [\n",
    "    job for job in all_jobs\n",
    "    if KEYWORD in job.settings.name.lower() and job.settings.schedule is not None\n",
    "]\n",
    "\n",
    "logger.info(f\"Matched {len(filtered_jobs)} jobs with keyword '{KEYWORD}' and schedules.\")"
   ]
  },
  {
   "cell_type": "code",
   "execution_count": 0,
   "metadata": {
    "application/vnd.databricks.v1+cell": {
     "cellMetadata": {
      "byteLimit": 2048000,
      "rowLimit": 10000
     },
     "inputWidgets": {},
     "nuid": "44eb628c-a687-4d7d-ade1-3a5c1e439596",
     "showTitle": true,
     "tableResultSettingsMap": {},
     "title": "Switch Status based on `OPERATION`"
    }
   },
   "outputs": [],
   "source": [
    "for job in filtered_jobs:\n",
    "    job_name = job.settings.name\n",
    "    schedule = job.settings.schedule\n",
    "    current_status = schedule.pause_status.value\n",
    "\n",
    "    # Determine target status\n",
    "    target_status = PauseStatus.PAUSED if OPERATION == \"PAUSE\" else PauseStatus.UNPAUSED\n",
    "\n",
    "    if current_status == target_status.value:\n",
    "        logger.info(f\"[SKIP] '{job_name}' already {current_status.lower()}.\")\n",
    "        continue\n",
    "\n",
    "    logger.info(f\"[{OPERATION}] '{job_name}' is currently {current_status.lower()}. Updating...\")\n",
    "\n",
    "    # Update schedule with new pause status\n",
    "    new_schedule = CronSchedule(\n",
    "        quartz_cron_expression=schedule.quartz_cron_expression,\n",
    "        timezone_id=schedule.timezone_id,\n",
    "        pause_status=target_status\n",
    "    )\n",
    "\n",
    "    updated_settings = job.settings\n",
    "    updated_settings.schedule = new_schedule\n",
    "\n",
    "    # Apply the update\n",
    "    w.jobs.update(\n",
    "        job_id=job.job_id,\n",
    "        new_settings=updated_settings\n",
    "    )\n",
    "\n",
    "    logger.info(f\"[SUCCESS] {OPERATION}D job: '{job_name}'\")"
   ]
  }
 ],
 "metadata": {
  "application/vnd.databricks.v1+notebook": {
   "computePreferences": null,
   "dashboards": [],
   "environmentMetadata": null,
   "inputWidgetPreferences": null,
   "language": "python",
   "notebookMetadata": {
    "pythonIndentUnit": 4
   },
   "notebookName": "workflows_semaphore_pipeline",
   "widgets": {
    "KEYWORD": {
     "currentValue": " Foursquare",
     "nuid": "24b59a33-bd08-45f6-b7a4-b15db2b99c80",
     "typedWidgetInfo": {
      "autoCreated": false,
      "defaultValue": "",
      "label": null,
      "name": "KEYWORD",
      "options": {
       "widgetDisplayType": "Text",
       "validationRegex": null
      },
      "parameterDataType": "String"
     },
     "widgetInfo": {
      "widgetType": "text",
      "defaultValue": "",
      "label": null,
      "name": "KEYWORD",
      "options": {
       "widgetType": "text",
       "autoCreated": null,
       "validationRegex": null
      }
     }
    },
    "OPERATION": {
     "currentValue": "UNPAUSE",
     "nuid": "499ba957-c5a7-4df3-a152-77b6304f3bcf",
     "typedWidgetInfo": {
      "autoCreated": false,
      "defaultValue": "PAUSE",
      "label": null,
      "name": "OPERATION",
      "options": {
       "widgetDisplayType": "Dropdown",
       "choices": [
        "PAUSE",
        "UNPAUSE"
       ],
       "fixedDomain": true,
       "multiselect": false
      },
      "parameterDataType": "String"
     },
     "widgetInfo": {
      "widgetType": "dropdown",
      "defaultValue": "PAUSE",
      "label": null,
      "name": "OPERATION",
      "options": {
       "widgetType": "dropdown",
       "autoCreated": null,
       "choices": [
        "PAUSE",
        "UNPAUSE"
       ]
      }
     }
    }
   }
  },
  "language_info": {
   "name": "python"
  }
 },
 "nbformat": 4,
 "nbformat_minor": 0
}
