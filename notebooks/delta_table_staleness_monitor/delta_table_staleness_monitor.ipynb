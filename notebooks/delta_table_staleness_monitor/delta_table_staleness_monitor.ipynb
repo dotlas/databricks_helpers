{
 "cells": [
  {
   "cell_type": "markdown",
   "metadata": {
    "application/vnd.databricks.v1+cell": {
     "cellMetadata": {
      "byteLimit": 2048000,
      "rowLimit": 10000
     },
     "inputWidgets": {},
     "nuid": "e6e53af0-18e0-46fc-89db-409c47bc55e5",
     "showTitle": false,
     "tableResultSettingsMap": {},
     "title": ""
    }
   },
   "source": [
    "# Delta Table Staleness Monitor\n",
    "\n",
    "## Overview\n",
    "This notebook monitors Delta tables across your Databricks Unity Catalog environment to identify stale tables that may need attention. It uses `DESCRIBE HISTORY` to evaluate the freshness of tables and classifies them for action (e.g., warn or auto-delete) based on configurable thresholds and catalog-specific rules.\n",
    "\n",
    "## ⚙️ Configuration Guide\n",
    "This notebook is designed to be highly configurable. Before running, you will need to customize several sections to match your environment's specific needs. This guide points you to the key areas that require your attention.\n",
    "\n",
    "**1. Skipping Specific Assets:**\n",
    "You must define which catalogs, schemas, or tables should be ignored by the monitor. This is critical for excluding system tables, temporary schemas, or irrelevant data.\n",
    "\n",
    "**2. Defining Staleness Thresholds:**\n",
    "The core logic of this tool depends on rules that define when a table is considered \"stale.\" You can set different time thresholds (in days) for different catalogs and schemas.\n",
    "\n",
    "**3. Customizing Actions (Warn vs. Auto-Delete):**\n",
    "Based on the staleness rules, the script takes actions like sending a warning or automatically deleting a table. You must configure which action applies to which tables.\n",
    "\n",
    "**4. Setting Up Notifications:**\n",
    "The notebook is pre-configured to send alerts to a Slack channel. You will need to add your `SLACK_WEBHOOK_URL` to databricks secrets.\n",
    "  \n",
    "    \n",
    "      \n",
    "## Core Functionality\n",
    "- Iterates through all eligible tables using the Databricks SDK\n",
    "- Extracts metadata from `DESCRIBE HISTORY`, such as creation date, last data update, and last modified by\n",
    "- Applies staleness thresholds based on catalog and schema pre-defined rules\n",
    "- Flags tables with no recent data changes\n",
    "- Outputs Slack alerts grouped by catalog, summarizing stale tables\n",
    "- Autodeletes stale tables, if configured to do so\n",
    "\n",
    "## Data Sources and Output\n",
    "| Name | Type | Source/Destination | Description |\n",
    "|------|------|--------------------|-------------|\n",
    "| `table_metadata` | Input | Databricks SDK | List of all catalog.schema.table entries |\n",
    "| `history_df` | Input | `DESCRIBE HISTORY` | History logs per Delta table |\n",
    "| `stale_df` | Output | In-memory DataFrame | Table metadata with staleness status and actions |\n",
    "| `Slack Alerts` | Output | Slack channel | Grouped alerts per catalog with stale table summary |\n",
    "\n",
    "## Recommended Actions\n",
    "| Action | Description |\n",
    "|--------|-------------|\n",
    "| AUTO DELETE | Table is in the `developer` catalog and has not had recent data changes; eligible for automatic deletion |\n",
    "| WARN | Table has exceeded the staleness threshold and should be reviewed for potential cleanup |\n",
    "| NONE | Table is either fresh or does not meet the criteria for a warning or deletion |\n"
   ]
  },
  {
   "cell_type": "code",
   "execution_count": 0,
   "metadata": {
    "application/vnd.databricks.v1+cell": {
     "cellMetadata": {
      "byteLimit": 2048000,
      "rowLimit": 10000
     },
     "inputWidgets": {},
     "nuid": "1e4c963c-314b-4c57-83da-08bd0dac72cf",
     "showTitle": false,
     "tableResultSettingsMap": {},
     "title": ""
    }
   },
   "outputs": [
    {
     "name": "stdout",
     "output_type": "stream",
     "text": [
      "\u001b[43mNote: you may need to restart the kernel using %restart_python or dbutils.library.restartPython() to use updated packages.\u001b[0m\n"
     ]
    }
   ],
   "source": [
    "!pip install loguru -q"
   ]
  },
  {
   "cell_type": "code",
   "execution_count": 0,
   "metadata": {
    "application/vnd.databricks.v1+cell": {
     "cellMetadata": {
      "byteLimit": 2048000,
      "rowLimit": 10000
     },
     "inputWidgets": {},
     "nuid": "d34d1c0f-608c-4ae7-b64d-e57243eaeaf2",
     "showTitle": true,
     "tableResultSettingsMap": {},
     "title": "Imports"
    }
   },
   "outputs": [],
   "source": [
    "from loguru import logger\n",
    "import os\n",
    "import pandas as pd\n",
    "import re\n",
    "from databricks.sdk import WorkspaceClient\n",
    "from dateutil.relativedelta import relativedelta\n",
    "import requests"
   ]
  },
  {
   "cell_type": "code",
   "execution_count": 0,
   "metadata": {
    "application/vnd.databricks.v1+cell": {
     "cellMetadata": {
      "byteLimit": 2048000,
      "rowLimit": 10000
     },
     "inputWidgets": {},
     "nuid": "f0971d04-87e0-458f-afca-53b5f6afc06c",
     "showTitle": true,
     "tableResultSettingsMap": {},
     "title": "Constant"
    }
   },
   "outputs": [],
   "source": [
    "NOW = pd.Timestamp.now()"
   ]
  },
  {
   "cell_type": "markdown",
   "metadata": {
    "application/vnd.databricks.v1+cell": {
     "cellMetadata": {
      "byteLimit": 2048000,
      "rowLimit": 10000
     },
     "inputWidgets": {},
     "nuid": "490a1ede-593f-45a9-b7f7-aac596de7f32",
     "showTitle": false,
     "tableResultSettingsMap": {},
     "title": ""
    }
   },
   "source": [
    "### 1. Constants for Skipping\n",
    "This section defines which assets (catalogs, schemas, table types, and tables matching a specific name pattern) should be **excluded** from the staleness check.\n",
    "\n",
    "**ACTION REQUIRED:** Modify the Python sets below to fit your Databricks environment. For example, you may want to skip catalogs used for sandboxing, schemas containing only views, or tables created by specific automated processes.\n",
    "\n",
    "- `SKIP_CATALOGS`: Add any catalogs you wish to ignore entirely. The `system` catalog is included by default.\n",
    "- `SKIP_SCHEMAS`: Add any schemas you wish to ignore. `information_schema` is a common one to exclude.\n",
    "- `SKIP_TABLE_TYPES`: By default, `VIEW` and `MATERIALIZED_VIEW` are skipped as they don't contain their own data. You can add other table types if needed.\n",
    "- `SKIP_TABLE_PATTERN`: Use this for more complex rules. It allows you to skip tables in a specific catalog and schema that match a regular expression.\n",
    "- `SKIP_SECURABLE_KINDS`: Skips catalogs based on their metastore type, such as a PostgreSQL-linked catalog."
   ]
  },
  {
   "cell_type": "code",
   "execution_count": 0,
   "metadata": {
    "application/vnd.databricks.v1+cell": {
     "cellMetadata": {
      "byteLimit": 2048000,
      "rowLimit": 10000
     },
     "inputWidgets": {},
     "nuid": "708383d9-9c88-436b-ad96-6c9906168022",
     "showTitle": true,
     "tableResultSettingsMap": {},
     "title": "Constants for Skipping"
    }
   },
   "outputs": [],
   "source": [
    "SKIP_CATALOGS = {\"system\"}\n",
    "SKIP_SCHEMAS = {\"information_schema\"}\n",
    "SKIP_TABLE_TYPES = {\"VIEW\", \"MATERIALIZED_VIEW\"}\n",
    "SKIP_TABLE_PATTERN = {\n",
    "    (\"forge\", \"restaurants_universe\"): r\".*_[a-z]{2}$\"\n",
    "}\n",
    "SKIP_SECURABLE_KINDS = {\"POSTGRES\"}"
   ]
  },
  {
   "cell_type": "markdown",
   "metadata": {
    "application/vnd.databricks.v1+cell": {
     "cellMetadata": {
      "byteLimit": 2048000,
      "rowLimit": 10000
     },
     "inputWidgets": {},
     "nuid": "89e93b7a-ec42-49b0-8730-bc4986f1ec72",
     "showTitle": false,
     "tableResultSettingsMap": {},
     "title": ""
    }
   },
   "source": [
    "### 2. Stale Threshold Rules\n",
    "This function defines the business logic for what makes a table \"stale.\" The rules are based on the number of days since a table's data was last changed.\n",
    "\n",
    "**ACTION REQUIRED:** Modify the `thresholds` dictionary inside the `get_stale_threshold` function to define your organization's staleness policies.\n",
    "\n",
    "The rules are applied with the following priority:\n",
    "1.  A specific `(catalog, schema)` pair.\n",
    "2.  A general `(catalog, None)` rule that applies to all schemas within that catalog.\n",
    "3.  A default value if no other rule matches.\n"
   ]
  },
  {
   "cell_type": "code",
   "execution_count": 0,
   "metadata": {
    "application/vnd.databricks.v1+cell": {
     "cellMetadata": {
      "byteLimit": 2048000,
      "rowLimit": 10000
     },
     "inputWidgets": {},
     "nuid": "0cf5e546-b34f-4dee-afad-1e1151689663",
     "showTitle": true,
     "tableResultSettingsMap": {},
     "title": "Stale Threshold Rules"
    }
   },
   "outputs": [],
   "source": [
    "def get_stale_threshold(catalog, schema):\n",
    "    \"\"\"\n",
    "    Determines the number of days after which a table is considered stale, based on catalog and schema.\n",
    "\n",
    "    Rules:\n",
    "    - developer.*         → 120 days (auto-delete)\n",
    "    - frontiers.*         → 90 days (Slack warning)\n",
    "    - web.*               → 45 days (Slack warning)\n",
    "    - cargo.samples       → 90 days (Slack warning)\n",
    "    - All other tables    → 45 days (Slack warning)\n",
    "\n",
    "    Parameters:\n",
    "        catalog_name (str): The catalog name (e.g., 'web', 'developer')\n",
    "        schema_name (str): The schema name within the catalog (e.g., 'samples')\n",
    "\n",
    "    Returns:\n",
    "        int: Number of days to consider a table stale\n",
    "    \"\"\"\n",
    "    default_threshold = 45\n",
    "    thresholds = {\n",
    "        (\"developer\", None): 120,\n",
    "        (\"frontiers\", None): 90,\n",
    "        (\"web\", None): 45,\n",
    "        (\"cargo\", \"samples\"): 90\n",
    "    }\n",
    "    return thresholds.get((catalog, schema), thresholds.get((catalog, None), default_threshold))"
   ]
  },
  {
   "cell_type": "markdown",
   "metadata": {
    "application/vnd.databricks.v1+cell": {
     "cellMetadata": {
      "byteLimit": 2048000,
      "rowLimit": 10000
     },
     "inputWidgets": {},
     "nuid": "9fe35aaa-ea9e-424f-9a0e-ae49b6056c73",
     "showTitle": false,
     "tableResultSettingsMap": {},
     "title": ""
    }
   },
   "source": [
    "### 3. Action Logic\n",
    "This section controls which action is taken for a stale table. The configuration is based on simple sets, making it easy to define which catalogs are targeted for which action.\n",
    "\n",
    "**ACTION REQUIRED:**\n",
    "* **`AUTO_DELETE_CATALOGS`**: Add the names of any catalogs where stale tables should be automatically dropped. **Use extreme caution with this list.**\n",
    "\n",
    "The logic in `get_action_for_table` uses this set to assign the final action. If stale, not skipped and not in `AUTO_DELETE_CATALOGS`, it will default to **WARN**."
   ]
  },
  {
   "cell_type": "code",
   "execution_count": 0,
   "metadata": {
    "application/vnd.databricks.v1+cell": {
     "cellMetadata": {
      "byteLimit": 2048000,
      "rowLimit": 10000
     },
     "inputWidgets": {},
     "nuid": "68ddf843-008f-452e-a7b4-f96c22c0d661",
     "showTitle": false,
     "tableResultSettingsMap": {},
     "title": ""
    }
   },
   "outputs": [],
   "source": [
    "AUTO_DELETE_CATALOGS = {\"developer\"}\n",
    "\n",
    "def get_action_for_table(is_stale, table_info):\n",
    "    \"\"\"\n",
    "    Determines the action to take based on table properties and staleness.\n",
    "\n",
    "    Args:\n",
    "        is_stale (bool): Whether the table has been flagged as stale.\n",
    "        table_info (dict): A dictionary containing table metadata \n",
    "                           (e.g., {\"catalog\": \"dev\", \"schema\": \"temp\", ...}).\n",
    "\n",
    "    Returns:\n",
    "        str or None: The action to take (\"AUTO DELETE\", \"WARN\") or None.\n",
    "    \"\"\"\n",
    "    if not is_stale:\n",
    "        return None\n",
    "        \n",
    "    catalog = table_info.get(\"catalog\")\n",
    "    if catalog in AUTO_DELETE_CATALOGS:\n",
    "        return \"AUTO DELETE\"\n",
    "    \n",
    "    # Default action for any other stale table\n",
    "    return \"WARN\""
   ]
  },
  {
   "cell_type": "markdown",
   "metadata": {
    "application/vnd.databricks.v1+cell": {
     "cellMetadata": {
      "byteLimit": 2048000,
      "rowLimit": 10000
     },
     "inputWidgets": {},
     "nuid": "d1befac0-486f-4f45-9dfc-667bdbb8707c",
     "showTitle": false,
     "tableResultSettingsMap": {},
     "title": ""
    }
   },
   "source": [
    "### 4. Slack Warning Config\n",
    "This section sets the function that sends warnings for stale tables to a designated Slack channel.\n",
    "\n",
    "**ACTION REQUIRED:**\n",
    "1.  **Get a Slack Webhook URL**\n",
    "2.  **Set Enviroment Variables:** Update the `SLACK_WEBHOOK_URL` secret variable for the compute."
   ]
  },
  {
   "cell_type": "code",
   "execution_count": 0,
   "metadata": {
    "application/vnd.databricks.v1+cell": {
     "cellMetadata": {
      "byteLimit": 2048000,
      "rowLimit": 10000
     },
     "inputWidgets": {},
     "nuid": "1ada3532-7dd0-45f7-91f5-6a3dd6039a0d",
     "showTitle": false,
     "tableResultSettingsMap": {},
     "title": ""
    }
   },
   "outputs": [],
   "source": [
    "SLACK_WEBHOOK_URL = os.getenv(\"SLACK_WEBHOOK_URL\")\n",
    "SLACK_CHANNEL = \"slack-api-test\"\n",
    "\n",
    "def post_to_slack(payload: dict) -> bool:\n",
    "    \"\"\"Posts a payload to a Slack incoming webhook.\n",
    "\n",
    "    This function sends a JSON payload to the `SLACK_WEBHOOK_URL`. It handles\n",
    "    the request and logs errors if the message fails to send.\n",
    "\n",
    "    Args:\n",
    "        payload (dict): The message payload, typically containing a \"blocks\"\n",
    "                        or \"text\" key, formatted for the Slack API.\n",
    "\n",
    "    Returns:\n",
    "        bool: True if the message was posted successfully (HTTP 200), False otherwise.\n",
    "    \"\"\"\n",
    "    if not SLACK_WEBHOOK_URL:\n",
    "        logger.error(\"SLACK_WEBHOOK_URL environment variable is not set. Cannot post message.\")\n",
    "        return False\n",
    "\n",
    "    try:\n",
    "        # Send the POST request to the Slack webhook URL\n",
    "        response = requests.post(SLACK_WEBHOOK_URL, json=payload)\n",
    "\n",
    "        # Raise an exception if the request returned an unsuccessful status code (4xx or 5xx)\n",
    "        response.raise_for_status()\n",
    "\n",
    "        return True\n",
    "    except requests.exceptions.RequestException as e:\n",
    "        # Log any network-related errors or unsuccessful status codes\n",
    "        logger.error(f\"Error posting message to Slack: {e}\")\n",
    "        return False\n",
    "    except Exception as e:\n",
    "        # Catch any other unexpected errors\n",
    "        logger.error(f\"An unexpected error occurred: {e}\")\n",
    "        return False"
   ]
  },
  {
   "cell_type": "markdown",
   "metadata": {
    "application/vnd.databricks.v1+cell": {
     "cellMetadata": {
      "byteLimit": 2048000,
      "rowLimit": 10000
     },
     "inputWidgets": {},
     "nuid": "27280d7f-4d5b-4b4a-8446-8c9c51d8c52f",
     "showTitle": false,
     "tableResultSettingsMap": {},
     "title": ""
    }
   },
   "source": [
    "### Table Staleness Detection Logic"
   ]
  },
  {
   "cell_type": "code",
   "execution_count": 0,
   "metadata": {
    "application/vnd.databricks.v1+cell": {
     "cellMetadata": {
      "byteLimit": 2048000,
      "rowLimit": 10000
     },
     "inputWidgets": {},
     "nuid": "d67681f4-fbda-484a-b11f-85b841ee3732",
     "showTitle": true,
     "tableResultSettingsMap": {},
     "title": "Operation Categories"
    }
   },
   "outputs": [],
   "source": [
    "DATA_CHANGING_OPS = {\n",
    "    \"WRITE\", \"UPDATE\", \"DELETE\", \"INSERT\", \"MERGE\", \"COPY INTO\",\n",
    "    \"RESTORE\", \"CREATE TABLE AS SELECT\", \"CREATE OR REPLACE TABLE AS SELECT\",\n",
    "    \"REPLACE TABLE AS SELECT\", \"STREAMING UPDATE\", \"ROW TRACKING BACKFILL\"\n",
    "}\n",
    "\n",
    "NON_DATA_CHANGING_OPS = {\n",
    "    \"CREATE\", \"ALTER\", \"DROP\", \"OPTIMIZE\", \"VACUUM START\",\n",
    "    \"VACUUM END\", \"SET TBLPROPERTIES\", \"UPGRADE PROTOCOL\"\n",
    "}"
   ]
  },
  {
   "cell_type": "code",
   "execution_count": 0,
   "metadata": {
    "application/vnd.databricks.v1+cell": {
     "cellMetadata": {
      "byteLimit": 2048000,
      "rowLimit": 10000
     },
     "inputWidgets": {},
     "nuid": "bddac2c1-70da-4bec-827c-e53499b66bc2",
     "showTitle": true,
     "tableResultSettingsMap": {},
     "title": "Should the Table be Skipped Over Based on Constants"
    }
   },
   "outputs": [],
   "source": [
    "def should_skip_table(catalog, schema, table):\n",
    "    \"\"\"\n",
    "    Determines if a table should be skipped based on catalog, schema, type, or name pattern.\n",
    "\n",
    "    Args:\n",
    "        catalog: Catalog Object\n",
    "        schema: Schema Object\n",
    "        table: Table Object\n",
    "\n",
    "    Returns:\n",
    "        bool: True if the table should be excluded from processing\n",
    "    \"\"\"\n",
    "    catalog_name = catalog.name\n",
    "    schema_name = schema.name\n",
    "    table_name = table.name\n",
    "    table_type = table.table_type.value.upper() if table.table_type else None\n",
    "    catalog_securable_kind = catalog.securable_kind.value.upper() if catalog.securable_kind else None\n",
    "\n",
    "    if any(skip_kind in (catalog_securable_kind or '') for skip_kind in SKIP_SECURABLE_KINDS):\n",
    "        logger.info(f\"Skipping table: `{catalog_name}.{schema_name}.{table.name}` because the catalog has the securable kind:{catalog_securable_kind}.\")\n",
    "        return True\n",
    "    if catalog_name in SKIP_CATALOGS:\n",
    "        logger.info(f\"Skipping table: `{catalog_name}.{schema_name}.{table.name}` because of the catalog.\")\n",
    "        return True\n",
    "    if schema_name in SKIP_SCHEMAS:\n",
    "        logger.info(f\"Skipping table: `{catalog_name}.{schema_name}.{table.name}` because of the schema.\")\n",
    "        return True\n",
    "    if table_type and table_type in SKIP_TABLE_TYPES:\n",
    "        logger.info(f\"Skipping table: `{catalog_name}.{schema_name}.{table.name}` because of the table type ({table_type}).\")\n",
    "        return True\n",
    "    if (catalog_name, schema_name) in SKIP_TABLE_PATTERN:\n",
    "        logger.info(f\"Skipping table: `{catalog_name}.{schema_name}.{table.name}` because of the regex pattern in `{catalog_name}.{schema_name}` table.\")\n",
    "        pattern = SKIP_TABLE_PATTERN[(catalog_name, schema_name)]\n",
    "        return re.match(pattern, table_name) is not None\n",
    "    \n",
    "    return False"
   ]
  },
  {
   "cell_type": "code",
   "execution_count": 0,
   "metadata": {
    "application/vnd.databricks.v1+cell": {
     "cellMetadata": {
      "byteLimit": 2048000,
      "rowLimit": 10000
     },
     "inputWidgets": {},
     "nuid": "8c6c6eb3-9e3b-4dc6-bbb3-7e88cb517327",
     "showTitle": true,
     "tableResultSettingsMap": {},
     "title": "Format Staleness Time as Descriptive String"
    }
   },
   "outputs": [],
   "source": [
    "def format_age(from_time, to_time=NOW):\n",
    "    \"\"\"\n",
    "    Converts a timestamp difference into a human-readable string \n",
    "    like '2 months, 5 days' or '0 days' if recent.\n",
    "\n",
    "    Parameters:\n",
    "        from_time (pd.Timestamp): The earlier timestamp.\n",
    "        to_time (pd.Timestamp): The later timestamp (default: current time).\n",
    "\n",
    "    Returns:\n",
    "        str: Human-readable duration between timestamps.\n",
    "    \"\"\"\n",
    "    delta = relativedelta(to_time, from_time)\n",
    "    parts = []\n",
    "    if delta.years:\n",
    "        parts.append(f\"{delta.years} year{'s' if delta.years > 1 else ''}\")\n",
    "    if delta.months:\n",
    "        parts.append(f\"{delta.months} month{'s' if delta.months > 1 else ''}\")\n",
    "    if delta.days:\n",
    "        parts.append(f\"{delta.days} day{'s' if delta.days > 1 else ''}\")\n",
    "    return \", \".join(parts) if parts else \"0 days\""
   ]
  },
  {
   "cell_type": "code",
   "execution_count": 0,
   "metadata": {
    "application/vnd.databricks.v1+cell": {
     "cellMetadata": {
      "byteLimit": 2048000,
      "rowLimit": 10000
     },
     "inputWidgets": {},
     "nuid": "0776e196-0caf-4883-897a-e944f2a77b2b",
     "showTitle": true,
     "tableResultSettingsMap": {},
     "title": "Categorize Staleness"
    }
   },
   "outputs": [],
   "source": [
    "def categorize_staleness(from_time, to_time=NOW):\n",
    "    \"\"\"\n",
    "    Categorizes how old a timestamp is relative to a reference point, \n",
    "    returning a label like 'Years', 'Months', 'Days', or 'Recent'.\n",
    "\n",
    "    Parameters:\n",
    "        from_time (pd.Timestamp): The earlier timestamp.\n",
    "        to_time (pd.Timestamp): The later timestamp (default: current time).\n",
    "\n",
    "    Returns:\n",
    "        str: A staleness category label.\n",
    "              - 'Years' for 365+ days old\n",
    "              - 'Months' for 30–364 days old\n",
    "              - 'Days' for 1–29 days old\n",
    "              - 'Recent' for 0 days\n",
    "    \"\"\"\n",
    "    days_old = (to_time - from_time).days\n",
    "    thresholds = {\n",
    "        \"Years\": 365,\n",
    "        \"Months\": 30,\n",
    "        \"Days\": 1,\n",
    "        \"Recent\": 0\n",
    "    }\n",
    "    \n",
    "    # Evaluate thresholds in descending order of staleness\n",
    "    for label, threshold in thresholds.items():\n",
    "        if days_old >= threshold:\n",
    "            return label\n",
    "    return \"Unknown\""
   ]
  },
  {
   "cell_type": "code",
   "execution_count": 0,
   "metadata": {
    "application/vnd.databricks.v1+cell": {
     "cellMetadata": {
      "byteLimit": 2048000,
      "rowLimit": 10000
     },
     "inputWidgets": {},
     "nuid": "f3039875-3e9e-49fb-b75c-bc08a8956d2a",
     "showTitle": true,
     "tableResultSettingsMap": {},
     "title": "Main metadeta collection with SDK"
    }
   },
   "outputs": [
    {
     "name": "stderr",
     "output_type": "stream",
     "text": [
      "\u001b[32m2025-06-26 07:11:13.361\u001b[0m | \u001b[1mINFO    \u001b[0m | \u001b[36m__main__\u001b[0m:\u001b[36mshould_skip_table\u001b[0m:\u001b[36m29\u001b[0m - \u001b[1mSkipping table: `cargo.dopetto_inter.brands` because of the table type (MATERIALIZED_VIEW).\u001b[0m\n",
      "\u001b[32m2025-06-26 07:11:13.362\u001b[0m | \u001b[1mINFO    \u001b[0m | \u001b[36m__main__\u001b[0m:\u001b[36mshould_skip_table\u001b[0m:\u001b[36m29\u001b[0m - \u001b[1mSkipping table: `cargo.dopetto_inter.competitor_outlets` because of the table type (MATERIALIZED_VIEW).\u001b[0m\n",
      "\u001b[32m2025-06-26 07:11:13.366\u001b[0m | \u001b[1mINFO    \u001b[0m | \u001b[36m__main__\u001b[0m:\u001b[36mshould_skip_table\u001b[0m:\u001b[36m29\u001b[0m - \u001b[1mSkipping table: `cargo.dopetto_inter.competitors` because of the table type (MATERIALIZED_VIEW).\u001b[0m\n",
      "\u001b[32m2025-06-26 07:11:13.369\u001b[0m | \u001b[1mINFO    \u001b[0m | \u001b[36m__main__\u001b[0m:\u001b[36mshould_skip_table\u001b[0m:\u001b[36m29\u001b[0m - \u001b[1mSkipping table: `cargo.dopetto_inter.delivery_performance` because of the table type (VIEW).\u001b[0m\n",
      "\u001b[32m2025-06-26 07:11:13.370\u001b[0m | \u001b[1mINFO    \u001b[0m | \u001b[36m__main__\u001b[0m:\u001b[36mshould_skip_table\u001b[0m:\u001b[36m29\u001b[0m - \u001b[1mSkipping table: `cargo.dopetto_inter.neighbourhoods` because of the table type (MATERIALIZED_VIEW).\u001b[0m\n",
      "\u001b[32m2025-06-26 07:11:13.371\u001b[0m | \u001b[1mINFO    \u001b[0m | \u001b[36m__main__\u001b[0m:\u001b[36mshould_skip_table\u001b[0m:\u001b[36m29\u001b[0m - \u001b[1mSkipping table: `cargo.dopetto_inter.pricelines` because of the table type (VIEW).\u001b[0m\n",
      "\u001b[32m2025-06-26 07:11:13.372\u001b[0m | \u001b[1mINFO    \u001b[0m | \u001b[36m__main__\u001b[0m:\u001b[36mshould_skip_table\u001b[0m:\u001b[36m29\u001b[0m - \u001b[1mSkipping table: `cargo.dopetto_inter.restaurants` because of the table type (MATERIALIZED_VIEW).\u001b[0m\n",
      "\u001b[32m2025-06-26 07:11:13.376\u001b[0m | \u001b[1mINFO    \u001b[0m | \u001b[36m__main__\u001b[0m:\u001b[36mshould_skip_table\u001b[0m:\u001b[36m29\u001b[0m - \u001b[1mSkipping table: `cargo.dopetto_inter.social_ads` because of the table type (MATERIALIZED_VIEW).\u001b[0m\n",
      "\u001b[32m2025-06-26 07:11:13.484\u001b[0m | \u001b[1mINFO    \u001b[0m | \u001b[36m__main__\u001b[0m:\u001b[36mshould_skip_table\u001b[0m:\u001b[36m26\u001b[0m - \u001b[1mSkipping table: `cargo.information_schema.catalog_privileges` because of the schema.\u001b[0m\n",
      "\u001b[32m2025-06-26 07:11:13.486\u001b[0m | \u001b[1mINFO    \u001b[0m | \u001b[36m__main__\u001b[0m:\u001b[36mshould_skip_table\u001b[0m:\u001b[36m26\u001b[0m - \u001b[1mSkipping table: `cargo.information_schema.catalog_tags` because of the schema.\u001b[0m\n",
      "\u001b[32m2025-06-26 07:11:13.487\u001b[0m | \u001b[1mINFO    \u001b[0m | \u001b[36m__main__\u001b[0m:\u001b[36mshould_skip_table\u001b[0m:\u001b[36m26\u001b[0m - \u001b[1mSkipping table: `cargo.information_schema.catalogs` because of the schema.\u001b[0m\n",
      "\u001b[32m2025-06-26 07:11:13.488\u001b[0m | \u001b[1mINFO    \u001b[0m | \u001b[36m__main__\u001b[0m:\u001b[36mshould_skip_table\u001b[0m:\u001b[36m26\u001b[0m - \u001b[1mSkipping table: `cargo.information_schema.check_constraints` because of the schema.\u001b[0m\n",
      "\u001b[32m2025-06-26 07:11:13.491\u001b[0m | \u001b[1mINFO    \u001b[0m | \u001b[36m__main__\u001b[0m:\u001b[36mshould_skip_table\u001b[0m:\u001b[36m26\u001b[0m - \u001b[1mSkipping table: `cargo.information_schema.column_masks` because of the schema.\u001b[0m\n",
      "\u001b[32m2025-06-26 07:11:13.492\u001b[0m | \u001b[1mINFO    \u001b[0m | \u001b[36m__main__\u001b[0m:\u001b[36mshould_skip_table\u001b[0m:\u001b[36m26\u001b[0m - \u001b[1mSkipping table: `cargo.information_schema.column_tags` because of the schema.\u001b[0m\n",
      "\u001b[32m2025-06-26 07:11:13.493\u001b[0m | \u001b[1mINFO    \u001b[0m | \u001b[36m__main__\u001b[0m:\u001b[36mshould_skip_table\u001b[0m:\u001b[36m26\u001b[0m - \u001b[1mSkipping table: `cargo.information_schema.columns` because of the schema.\u001b[0m\n",
      "\u001b[32m2025-06-26 07:11:13.495\u001b[0m | \u001b[1mINFO    \u001b[0m | \u001b[36m__main__\u001b[0m:\u001b[36mshould_skip_table\u001b[0m:\u001b[36m26\u001b[0m - \u001b[1mSkipping table: `cargo.information_schema.constraint_column_usage` because of the schema.\u001b[0m\n",
      "\u001b[32m2025-06-26 07:11:13.496\u001b[0m | \u001b[1mINFO    \u001b[0m | \u001b[36m__main__\u001b[0m:\u001b[36mshould_skip_table\u001b[0m:\u001b[36m26\u001b[0m - \u001b[1mSkipping table: `cargo.information_schema.constraint_table_usage` because of the schema.\u001b[0m\n",
      "\u001b[32m2025-06-26 07:11:13.497\u001b[0m | \u001b[1mINFO    \u001b[0m | \u001b[36m__main__\u001b[0m:\u001b[36mshould_skip_table\u001b[0m:\u001b[36m26\u001b[0m - \u001b[1mSkipping table: `cargo.information_schema.information_schema_catalog_name` because of the schema.\u001b[0m\n",
      "\u001b[32m2025-06-26 07:11:13.498\u001b[0m | \u001b[1mINFO    \u001b[0m | \u001b[36m__main__\u001b[0m:\u001b[36mshould_skip_table\u001b[0m:\u001b[36m26\u001b[0m - \u001b[1mSkipping table: `cargo.information_schema.key_column_usage` because of the schema.\u001b[0m\n",
      "\u001b[32m2025-06-26 07:11:13.499\u001b[0m | \u001b[1mINFO    \u001b[0m | \u001b[36m__main__\u001b[0m:\u001b[36mshould_skip_table\u001b[0m:\u001b[36m26\u001b[0m - \u001b[1mSkipping table: `cargo.information_schema.parameters` because of the schema.\u001b[0m\n",
      "\u001b[32m2025-06-26 07:11:13.500\u001b[0m | \u001b[1mINFO    \u001b[0m | \u001b[36m__main__\u001b[0m:\u001b[36mshould_skip_table\u001b[0m:\u001b[36m26\u001b[0m - \u001b[1mSkipping table: `cargo.information_schema.referential_constraints` because of the schema.\u001b[0m\n",
      "\u001b[32m2025-06-26 07:11:13.501\u001b[0m | \u001b[1mINFO    \u001b[0m | \u001b[36m__main__\u001b[0m:\u001b[36mshould_skip_table\u001b[0m:\u001b[36m26\u001b[0m - \u001b[1mSkipping table: `cargo.information_schema.routine_columns` because of the schema.\u001b[0m\n",
      "\u001b[32m2025-06-26 07:11:13.501\u001b[0m | \u001b[1mINFO    \u001b[0m | \u001b[36m__main__\u001b[0m:\u001b[36mshould_skip_table\u001b[0m:\u001b[36m26\u001b[0m - \u001b[1mSkipping table: `cargo.information_schema.routine_privileges` because of the schema.\u001b[0m\n",
      "\u001b[32m2025-06-26 07:11:13.502\u001b[0m | \u001b[1mINFO    \u001b[0m | \u001b[36m__main__\u001b[0m:\u001b[36mshould_skip_table\u001b[0m:\u001b[36m26\u001b[0m - \u001b[1mSkipping table: `cargo.information_schema.routines` because of the schema.\u001b[0m\n",
      "\u001b[32m2025-06-26 07:11:13.504\u001b[0m | \u001b[1mINFO    \u001b[0m | \u001b[36m__main__\u001b[0m:\u001b[36mshould_skip_table\u001b[0m:\u001b[36m26\u001b[0m - \u001b[1mSkipping table: `cargo.information_schema.row_filters` because of the schema.\u001b[0m\n",
      "\u001b[32m2025-06-26 07:11:13.505\u001b[0m | \u001b[1mINFO    \u001b[0m | \u001b[36m__main__\u001b[0m:\u001b[36mshould_skip_table\u001b[0m:\u001b[36m26\u001b[0m - \u001b[1mSkipping table: `cargo.information_schema.schema_privileges` because of the schema.\u001b[0m\n",
      "\u001b[32m2025-06-26 07:11:13.506\u001b[0m | \u001b[1mINFO    \u001b[0m | \u001b[36m__main__\u001b[0m:\u001b[36mshould_skip_table\u001b[0m:\u001b[36m26\u001b[0m - \u001b[1mSkipping table: `cargo.information_schema.schema_tags` because of the schema.\u001b[0m\n",
      "\u001b[32m2025-06-26 07:11:13.507\u001b[0m | \u001b[1mINFO    \u001b[0m | \u001b[36m__main__\u001b[0m:\u001b[36mshould_skip_table\u001b[0m:\u001b[36m26\u001b[0m - \u001b[1mSkipping table: `cargo.information_schema.schemata` because of the schema.\u001b[0m\n",
      "\u001b[32m2025-06-26 07:11:13.507\u001b[0m | \u001b[1mINFO    \u001b[0m | \u001b[36m__main__\u001b[0m:\u001b[36mshould_skip_table\u001b[0m:\u001b[36m26\u001b[0m - \u001b[1mSkipping table: `cargo.information_schema.table_constraints` because of the schema.\u001b[0m\n",
      "\u001b[32m2025-06-26 07:11:13.508\u001b[0m | \u001b[1mINFO    \u001b[0m | \u001b[36m__main__\u001b[0m:\u001b[36mshould_skip_table\u001b[0m:\u001b[36m26\u001b[0m - \u001b[1mSkipping table: `cargo.information_schema.table_privileges` because of the schema.\u001b[0m\n",
      "\u001b[32m2025-06-26 07:11:13.509\u001b[0m | \u001b[1mINFO    \u001b[0m | \u001b[36m__main__\u001b[0m:\u001b[36mshould_skip_table\u001b[0m:\u001b[36m26\u001b[0m - \u001b[1mSkipping table: `cargo.information_schema.table_tags` because of the schema.\u001b[0m\n",
      "\u001b[32m2025-06-26 07:11:13.510\u001b[0m | \u001b[1mINFO    \u001b[0m | \u001b[36m__main__\u001b[0m:\u001b[36mshould_skip_table\u001b[0m:\u001b[36m26\u001b[0m - \u001b[1mSkipping table: `cargo.information_schema.tables` because of the schema.\u001b[0m\n",
      "\u001b[32m2025-06-26 07:11:13.512\u001b[0m | \u001b[1mINFO    \u001b[0m | \u001b[36m__main__\u001b[0m:\u001b[36mshould_skip_table\u001b[0m:\u001b[36m26\u001b[0m - \u001b[1mSkipping table: `cargo.information_schema.views` because of the schema.\u001b[0m\n",
      "\u001b[32m2025-06-26 07:11:13.514\u001b[0m | \u001b[1mINFO    \u001b[0m | \u001b[36m__main__\u001b[0m:\u001b[36mshould_skip_table\u001b[0m:\u001b[36m26\u001b[0m - \u001b[1mSkipping table: `cargo.information_schema.volume_privileges` because of the schema.\u001b[0m\n",
      "\u001b[32m2025-06-26 07:11:13.516\u001b[0m | \u001b[1mINFO    \u001b[0m | \u001b[36m__main__\u001b[0m:\u001b[36mshould_skip_table\u001b[0m:\u001b[36m26\u001b[0m - \u001b[1mSkipping table: `cargo.information_schema.volume_tags` because of the schema.\u001b[0m\n",
      "\u001b[32m2025-06-26 07:11:13.517\u001b[0m | \u001b[1mINFO    \u001b[0m | \u001b[36m__main__\u001b[0m:\u001b[36mshould_skip_table\u001b[0m:\u001b[36m26\u001b[0m - \u001b[1mSkipping table: `cargo.information_schema.volumes` because of the schema.\u001b[0m\n",
      "\u001b[32m2025-06-26 07:11:13.867\u001b[0m | \u001b[1mINFO    \u001b[0m | \u001b[36m__main__\u001b[0m:\u001b[36mshould_skip_table\u001b[0m:\u001b[36m29\u001b[0m - \u001b[1mSkipping table: `cargo.restaurants.brands_vw` because of the table type (VIEW).\u001b[0m\n",
      "\u001b[32m2025-06-26 07:11:13.870\u001b[0m | \u001b[1mINFO    \u001b[0m | \u001b[36m__main__\u001b[0m:\u001b[36mshould_skip_table\u001b[0m:\u001b[36m29\u001b[0m - \u001b[1mSkipping table: `cargo.restaurants.search_ranking` because of the table type (MATERIALIZED_VIEW).\u001b[0m\n",
      "\u001b[32m2025-06-26 07:11:13.871\u001b[0m | \u001b[1mINFO    \u001b[0m | \u001b[36m__main__\u001b[0m:\u001b[36mshould_skip_table\u001b[0m:\u001b[36m29\u001b[0m - \u001b[1mSkipping table: `cargo.restaurants.search_ranking_ads` because of the table type (MATERIALIZED_VIEW).\u001b[0m\n",
      "\u001b[32m2025-06-26 07:11:14.581\u001b[0m | \u001b[1mINFO    \u001b[0m | \u001b[36m__main__\u001b[0m:\u001b[36mshould_skip_table\u001b[0m:\u001b[36m29\u001b[0m - \u001b[1mSkipping table: `developer.echo.brand_menu_products` because of the table type (VIEW).\u001b[0m\n",
      "\u001b[32m2025-06-26 07:11:14.585\u001b[0m | \u001b[1mINFO    \u001b[0m | \u001b[36m__main__\u001b[0m:\u001b[36mshould_skip_table\u001b[0m:\u001b[36m29\u001b[0m - \u001b[1mSkipping table: `developer.echo.sample_search_ranking_vw` because of the table type (VIEW).\u001b[0m\n",
      "\u001b[32m2025-06-26 07:11:14.587\u001b[0m | \u001b[1mINFO    \u001b[0m | \u001b[36m__main__\u001b[0m:\u001b[36mshould_skip_table\u001b[0m:\u001b[36m29\u001b[0m - \u001b[1mSkipping table: `developer.echo.zomato_restaurant_trend` because of the table type (VIEW).\u001b[0m\n",
      "\u001b[32m2025-06-26 07:11:14.689\u001b[0m | \u001b[1mINFO    \u001b[0m | \u001b[36m__main__\u001b[0m:\u001b[36mshould_skip_table\u001b[0m:\u001b[36m26\u001b[0m - \u001b[1mSkipping table: `developer.information_schema.catalog_privileges` because of the schema.\u001b[0m\n",
      "\u001b[32m2025-06-26 07:11:14.689\u001b[0m | \u001b[1mINFO    \u001b[0m | \u001b[36m__main__\u001b[0m:\u001b[36mshould_skip_table\u001b[0m:\u001b[36m26\u001b[0m - \u001b[1mSkipping table: `developer.information_schema.catalog_tags` because of the schema.\u001b[0m\n",
      "\u001b[32m2025-06-26 07:11:14.690\u001b[0m | \u001b[1mINFO    \u001b[0m | \u001b[36m__main__\u001b[0m:\u001b[36mshould_skip_table\u001b[0m:\u001b[36m26\u001b[0m - \u001b[1mSkipping table: `developer.information_schema.catalogs` because of the schema.\u001b[0m\n",
      "\u001b[32m2025-06-26 07:11:14.691\u001b[0m | \u001b[1mINFO    \u001b[0m | \u001b[36m__main__\u001b[0m:\u001b[36mshould_skip_table\u001b[0m:\u001b[36m26\u001b[0m - \u001b[1mSkipping table: `developer.information_schema.check_constraints` because of the schema.\u001b[0m\n",
      "\u001b[32m2025-06-26 07:11:14.693\u001b[0m | \u001b[1mINFO    \u001b[0m | \u001b[36m__main__\u001b[0m:\u001b[36mshould_skip_table\u001b[0m:\u001b[36m26\u001b[0m - \u001b[1mSkipping table: `developer.information_schema.column_masks` because of the schema.\u001b[0m\n",
      "\u001b[32m2025-06-26 07:11:14.694\u001b[0m | \u001b[1mINFO    \u001b[0m | \u001b[36m__main__\u001b[0m:\u001b[36mshould_skip_table\u001b[0m:\u001b[36m26\u001b[0m - \u001b[1mSkipping table: `developer.information_schema.column_tags` because of the schema.\u001b[0m\n",
      "\u001b[32m2025-06-26 07:11:14.695\u001b[0m | \u001b[1mINFO    \u001b[0m | \u001b[36m__main__\u001b[0m:\u001b[36mshould_skip_table\u001b[0m:\u001b[36m26\u001b[0m - \u001b[1mSkipping table: `developer.information_schema.columns` because of the schema.\u001b[0m\n",
      "\u001b[32m2025-06-26 07:11:14.696\u001b[0m | \u001b[1mINFO    \u001b[0m | \u001b[36m__main__\u001b[0m:\u001b[36mshould_skip_table\u001b[0m:\u001b[36m26\u001b[0m - \u001b[1mSkipping table: `developer.information_schema.constraint_column_usage` because of the schema.\u001b[0m\n",
      "\u001b[32m2025-06-26 07:11:14.697\u001b[0m | \u001b[1mINFO    \u001b[0m | \u001b[36m__main__\u001b[0m:\u001b[36mshould_skip_table\u001b[0m:\u001b[36m26\u001b[0m - \u001b[1mSkipping table: `developer.information_schema.constraint_table_usage` because of the schema.\u001b[0m\n",
      "\u001b[32m2025-06-26 07:11:14.697\u001b[0m | \u001b[1mINFO    \u001b[0m | \u001b[36m__main__\u001b[0m:\u001b[36mshould_skip_table\u001b[0m:\u001b[36m26\u001b[0m - \u001b[1mSkipping table: `developer.information_schema.information_schema_catalog_name` because of the schema.\u001b[0m\n",
      "\u001b[32m2025-06-26 07:11:14.698\u001b[0m | \u001b[1mINFO    \u001b[0m | \u001b[36m__main__\u001b[0m:\u001b[36mshould_skip_table\u001b[0m:\u001b[36m26\u001b[0m - \u001b[1mSkipping table: `developer.information_schema.key_column_usage` because of the schema.\u001b[0m\n",
      "\u001b[32m2025-06-26 07:11:14.699\u001b[0m | \u001b[1mINFO    \u001b[0m | \u001b[36m__main__\u001b[0m:\u001b[36mshould_skip_table\u001b[0m:\u001b[36m26\u001b[0m - \u001b[1mSkipping table: `developer.information_schema.parameters` because of the schema.\u001b[0m\n",
      "\u001b[32m2025-06-26 07:11:14.700\u001b[0m | \u001b[1mINFO    \u001b[0m | \u001b[36m__main__\u001b[0m:\u001b[36mshould_skip_table\u001b[0m:\u001b[36m26\u001b[0m - \u001b[1mSkipping table: `developer.information_schema.referential_constraints` because of the schema.\u001b[0m\n",
      "\u001b[32m2025-06-26 07:11:14.700\u001b[0m | \u001b[1mINFO    \u001b[0m | \u001b[36m__main__\u001b[0m:\u001b[36mshould_skip_table\u001b[0m:\u001b[36m26\u001b[0m - \u001b[1mSkipping table: `developer.information_schema.routine_columns` because of the schema.\u001b[0m\n",
      "\u001b[32m2025-06-26 07:11:14.701\u001b[0m | \u001b[1mINFO    \u001b[0m | \u001b[36m__main__\u001b[0m:\u001b[36mshould_skip_table\u001b[0m:\u001b[36m26\u001b[0m - \u001b[1mSkipping table: `developer.information_schema.routine_privileges` because of the schema.\u001b[0m\n",
      "\u001b[32m2025-06-26 07:11:14.702\u001b[0m | \u001b[1mINFO    \u001b[0m | \u001b[36m__main__\u001b[0m:\u001b[36mshould_skip_table\u001b[0m:\u001b[36m26\u001b[0m - \u001b[1mSkipping table: `developer.information_schema.routines` because of the schema.\u001b[0m\n",
      "\u001b[32m2025-06-26 07:11:14.703\u001b[0m | \u001b[1mINFO    \u001b[0m | \u001b[36m__main__\u001b[0m:\u001b[36mshould_skip_table\u001b[0m:\u001b[36m26\u001b[0m - \u001b[1mSkipping table: `developer.information_schema.row_filters` because of the schema.\u001b[0m\n",
      "\u001b[32m2025-06-26 07:11:14.703\u001b[0m | \u001b[1mINFO    \u001b[0m | \u001b[36m__main__\u001b[0m:\u001b[36mshould_skip_table\u001b[0m:\u001b[36m26\u001b[0m - \u001b[1mSkipping table: `developer.information_schema.schema_privileges` because of the schema.\u001b[0m\n",
      "\u001b[32m2025-06-26 07:11:14.704\u001b[0m | \u001b[1mINFO    \u001b[0m | \u001b[36m__main__\u001b[0m:\u001b[36mshould_skip_table\u001b[0m:\u001b[36m26\u001b[0m - \u001b[1mSkipping table: `developer.information_schema.schema_tags` because of the schema.\u001b[0m\n",
      "\u001b[32m2025-06-26 07:11:14.705\u001b[0m | \u001b[1mINFO    \u001b[0m | \u001b[36m__main__\u001b[0m:\u001b[36mshould_skip_table\u001b[0m:\u001b[36m26\u001b[0m - \u001b[1mSkipping table: `developer.information_schema.schemata` because of the schema.\u001b[0m\n",
      "\u001b[32m2025-06-26 07:11:14.705\u001b[0m | \u001b[1mINFO    \u001b[0m | \u001b[36m__main__\u001b[0m:\u001b[36mshould_skip_table\u001b[0m:\u001b[36m26\u001b[0m - \u001b[1mSkipping table: `developer.information_schema.table_constraints` because of the schema.\u001b[0m\n",
      "\u001b[32m2025-06-26 07:11:14.706\u001b[0m | \u001b[1mINFO    \u001b[0m | \u001b[36m__main__\u001b[0m:\u001b[36mshould_skip_table\u001b[0m:\u001b[36m26\u001b[0m - \u001b[1mSkipping table: `developer.information_schema.table_privileges` because of the schema.\u001b[0m\n",
      "\u001b[32m2025-06-26 07:11:14.707\u001b[0m | \u001b[1mINFO    \u001b[0m | \u001b[36m__main__\u001b[0m:\u001b[36mshould_skip_table\u001b[0m:\u001b[36m26\u001b[0m - \u001b[1mSkipping table: `developer.information_schema.table_tags` because of the schema.\u001b[0m\n",
      "\u001b[32m2025-06-26 07:11:14.707\u001b[0m | \u001b[1mINFO    \u001b[0m | \u001b[36m__main__\u001b[0m:\u001b[36mshould_skip_table\u001b[0m:\u001b[36m26\u001b[0m - \u001b[1mSkipping table: `developer.information_schema.tables` because of the schema.\u001b[0m\n",
      "\u001b[32m2025-06-26 07:11:14.708\u001b[0m | \u001b[1mINFO    \u001b[0m | \u001b[36m__main__\u001b[0m:\u001b[36mshould_skip_table\u001b[0m:\u001b[36m26\u001b[0m - \u001b[1mSkipping table: `developer.information_schema.views` because of the schema.\u001b[0m\n",
      "\u001b[32m2025-06-26 07:11:14.709\u001b[0m | \u001b[1mINFO    \u001b[0m | \u001b[36m__main__\u001b[0m:\u001b[36mshould_skip_table\u001b[0m:\u001b[36m26\u001b[0m - \u001b[1mSkipping table: `developer.information_schema.volume_privileges` because of the schema.\u001b[0m\n",
      "\u001b[32m2025-06-26 07:11:14.709\u001b[0m | \u001b[1mINFO    \u001b[0m | \u001b[36m__main__\u001b[0m:\u001b[36mshould_skip_table\u001b[0m:\u001b[36m26\u001b[0m - \u001b[1mSkipping table: `developer.information_schema.volume_tags` because of the schema.\u001b[0m\n",
      "\u001b[32m2025-06-26 07:11:14.710\u001b[0m | \u001b[1mINFO    \u001b[0m | \u001b[36m__main__\u001b[0m:\u001b[36mshould_skip_table\u001b[0m:\u001b[36m26\u001b[0m - \u001b[1mSkipping table: `developer.information_schema.volumes` because of the schema.\u001b[0m\n",
      "\u001b[32m2025-06-26 07:11:14.877\u001b[0m | \u001b[1mINFO    \u001b[0m | \u001b[36m__main__\u001b[0m:\u001b[36mshould_skip_table\u001b[0m:\u001b[36m29\u001b[0m - \u001b[1mSkipping table: `developer.kraken.ae_brands_menu_vw` because of the table type (VIEW).\u001b[0m\n",
      "\u001b[32m2025-06-26 07:11:14.880\u001b[0m | \u001b[1mINFO    \u001b[0m | \u001b[36m__main__\u001b[0m:\u001b[36mshould_skip_table\u001b[0m:\u001b[36m29\u001b[0m - \u001b[1mSkipping table: `developer.kraken.ae_outlets_menu_vw` because of the table type (VIEW).\u001b[0m\n",
      "\u001b[32m2025-06-26 07:11:16.064\u001b[0m | \u001b[1mINFO    \u001b[0m | \u001b[36m__main__\u001b[0m:\u001b[36mshould_skip_table\u001b[0m:\u001b[36m29\u001b[0m - \u001b[1mSkipping table: `forge.ads.meta_brand_advertisements_vw` because of the table type (VIEW).\u001b[0m\n",
      "\u001b[32m2025-06-26 07:11:16.203\u001b[0m | \u001b[1mINFO    \u001b[0m | \u001b[36m__main__\u001b[0m:\u001b[36mshould_skip_table\u001b[0m:\u001b[36m29\u001b[0m - \u001b[1mSkipping table: `forge.competitors.competitor_index_vw` because of the table type (VIEW).\u001b[0m\n",
      "\u001b[32m2025-06-26 07:11:16.203\u001b[0m | \u001b[1mINFO    \u001b[0m | \u001b[36m__main__\u001b[0m:\u001b[36mshould_skip_table\u001b[0m:\u001b[36m29\u001b[0m - \u001b[1mSkipping table: `forge.competitors.top_competitors` because of the table type (VIEW).\u001b[0m\n",
      "\u001b[32m2025-06-26 07:11:16.658\u001b[0m | \u001b[1mINFO    \u001b[0m | \u001b[36m__main__\u001b[0m:\u001b[36mshould_skip_table\u001b[0m:\u001b[36m29\u001b[0m - \u001b[1mSkipping table: `forge.dishes_inter.base_items_clean_for_source_level_log_deliveroo_ae_vw` because of the table type (VIEW).\u001b[0m\n",
      "\u001b[32m2025-06-26 07:11:16.660\u001b[0m | \u001b[1mINFO    \u001b[0m | \u001b[36m__main__\u001b[0m:\u001b[36mshould_skip_table\u001b[0m:\u001b[36m29\u001b[0m - \u001b[1mSkipping table: `forge.dishes_inter.base_items_clean_for_source_level_log_noon_ae_vw` because of the table type (VIEW).\u001b[0m\n",
      "\u001b[32m2025-06-26 07:11:16.661\u001b[0m | \u001b[1mINFO    \u001b[0m | \u001b[36m__main__\u001b[0m:\u001b[36mshould_skip_table\u001b[0m:\u001b[36m29\u001b[0m - \u001b[1mSkipping table: `forge.dishes_inter.base_items_clean_for_source_level_log_talabat_ae_vw` because of the table type (VIEW).\u001b[0m\n",
      "\u001b[32m2025-06-26 07:11:16.662\u001b[0m | \u001b[1mINFO    \u001b[0m | \u001b[36m__main__\u001b[0m:\u001b[36mshould_skip_table\u001b[0m:\u001b[36m29\u001b[0m - \u001b[1mSkipping table: `forge.dishes_inter.base_items_for_source_level_log_cari_kw_vw` because of the table type (VIEW).\u001b[0m\n",
      "\u001b[32m2025-06-26 07:11:16.664\u001b[0m | \u001b[1mINFO    \u001b[0m | \u001b[36m__main__\u001b[0m:\u001b[36mshould_skip_table\u001b[0m:\u001b[36m29\u001b[0m - \u001b[1mSkipping table: `forge.dishes_inter.base_items_for_source_level_log_deliveroo_ae_vw` because of the table type (VIEW).\u001b[0m\n",
      "\u001b[32m2025-06-26 07:11:16.664\u001b[0m | \u001b[1mINFO    \u001b[0m | \u001b[36m__main__\u001b[0m:\u001b[36mshould_skip_table\u001b[0m:\u001b[36m29\u001b[0m - \u001b[1mSkipping table: `forge.dishes_inter.base_items_for_source_level_log_deliveroo_kw_vw` because of the table type (VIEW).\u001b[0m\n",
      "\u001b[32m2025-06-26 07:11:16.665\u001b[0m | \u001b[1mINFO    \u001b[0m | \u001b[36m__main__\u001b[0m:\u001b[36mshould_skip_table\u001b[0m:\u001b[36m29\u001b[0m - \u001b[1mSkipping table: `forge.dishes_inter.base_items_for_source_level_log_deliveroo_qa_vw` because of the table type (VIEW).\u001b[0m\n",
      "\u001b[32m2025-06-26 07:11:16.666\u001b[0m | \u001b[1mINFO    \u001b[0m | \u001b[36m__main__\u001b[0m:\u001b[36mshould_skip_table\u001b[0m:\u001b[36m29\u001b[0m - \u001b[1mSkipping table: `forge.dishes_inter.base_items_for_source_level_log_hungerstation_sa_vw` because of the table type (VIEW).\u001b[0m\n",
      "\u001b[32m2025-06-26 07:11:16.667\u001b[0m | \u001b[1mINFO    \u001b[0m | \u001b[36m__main__\u001b[0m:\u001b[36mshould_skip_table\u001b[0m:\u001b[36m29\u001b[0m - \u001b[1mSkipping table: `forge.dishes_inter.base_items_for_source_level_log_jahez_bh_vw` because of the table type (VIEW).\u001b[0m\n",
      "\u001b[32m2025-06-26 07:11:16.668\u001b[0m | \u001b[1mINFO    \u001b[0m | \u001b[36m__main__\u001b[0m:\u001b[36mshould_skip_table\u001b[0m:\u001b[36m29\u001b[0m - \u001b[1mSkipping table: `forge.dishes_inter.base_items_for_source_level_log_jahez_kw_vw` because of the table type (VIEW).\u001b[0m\n",
      "\u001b[32m2025-06-26 07:11:16.668\u001b[0m | \u001b[1mINFO    \u001b[0m | \u001b[36m__main__\u001b[0m:\u001b[36mshould_skip_table\u001b[0m:\u001b[36m29\u001b[0m - \u001b[1mSkipping table: `forge.dishes_inter.base_items_for_source_level_log_jahez_sa_vw` because of the table type (VIEW).\u001b[0m\n",
      "\u001b[32m2025-06-26 07:11:16.669\u001b[0m | \u001b[1mINFO    \u001b[0m | \u001b[36m__main__\u001b[0m:\u001b[36mshould_skip_table\u001b[0m:\u001b[36m29\u001b[0m - \u001b[1mSkipping table: `forge.dishes_inter.base_items_for_source_level_log_noon_ae_vw` because of the table type (VIEW).\u001b[0m\n",
      "\u001b[32m2025-06-26 07:11:16.670\u001b[0m | \u001b[1mINFO    \u001b[0m | \u001b[36m__main__\u001b[0m:\u001b[36mshould_skip_table\u001b[0m:\u001b[36m29\u001b[0m - \u001b[1mSkipping table: `forge.dishes_inter.base_items_for_source_level_log_snoonu_qa_vw` because of the table type (VIEW).\u001b[0m\n",
      "\u001b[32m2025-06-26 07:11:16.671\u001b[0m | \u001b[1mINFO    \u001b[0m | \u001b[36m__main__\u001b[0m:\u001b[36mshould_skip_table\u001b[0m:\u001b[36m29\u001b[0m - \u001b[1mSkipping table: `forge.dishes_inter.base_items_for_source_level_log_talabat_ae_vw` because of the table type (VIEW).\u001b[0m\n",
      "\u001b[32m2025-06-26 07:11:16.672\u001b[0m | \u001b[1mINFO    \u001b[0m | \u001b[36m__main__\u001b[0m:\u001b[36mshould_skip_table\u001b[0m:\u001b[36m29\u001b[0m - \u001b[1mSkipping table: `forge.dishes_inter.base_items_for_source_level_log_talabat_bh_vw` because of the table type (VIEW).\u001b[0m\n",
      "\u001b[32m2025-06-26 07:11:16.673\u001b[0m | \u001b[1mINFO    \u001b[0m | \u001b[36m__main__\u001b[0m:\u001b[36mshould_skip_table\u001b[0m:\u001b[36m29\u001b[0m - \u001b[1mSkipping table: `forge.dishes_inter.base_items_for_source_level_log_talabat_eg_vw` because of the table type (VIEW).\u001b[0m\n",
      "\u001b[32m2025-06-26 07:11:16.673\u001b[0m | \u001b[1mINFO    \u001b[0m | \u001b[36m__main__\u001b[0m:\u001b[36mshould_skip_table\u001b[0m:\u001b[36m29\u001b[0m - \u001b[1mSkipping table: `forge.dishes_inter.base_items_for_source_level_log_talabat_jo_vw` because of the table type (VIEW).\u001b[0m\n",
      "\u001b[32m2025-06-26 07:11:16.674\u001b[0m | \u001b[1mINFO    \u001b[0m | \u001b[36m__main__\u001b[0m:\u001b[36mshould_skip_table\u001b[0m:\u001b[36m29\u001b[0m - \u001b[1mSkipping table: `forge.dishes_inter.base_items_for_source_level_log_talabat_kw_vw` because of the table type (VIEW).\u001b[0m\n",
      "\u001b[32m2025-06-26 07:11:16.675\u001b[0m | \u001b[1mINFO    \u001b[0m | \u001b[36m__main__\u001b[0m:\u001b[36mshould_skip_table\u001b[0m:\u001b[36m29\u001b[0m - \u001b[1mSkipping table: `forge.dishes_inter.base_items_for_source_level_log_talabat_om_vw` because of the table type (VIEW).\u001b[0m\n",
      "\u001b[32m2025-06-26 07:11:16.676\u001b[0m | \u001b[1mINFO    \u001b[0m | \u001b[36m__main__\u001b[0m:\u001b[36mshould_skip_table\u001b[0m:\u001b[36m29\u001b[0m - \u001b[1mSkipping table: `forge.dishes_inter.base_items_for_source_level_log_talabat_qa_vw` because of the table type (VIEW).\u001b[0m\n",
      "\u001b[32m2025-06-26 07:11:16.677\u001b[0m | \u001b[1mINFO    \u001b[0m | \u001b[36m__main__\u001b[0m:\u001b[36mshould_skip_table\u001b[0m:\u001b[36m29\u001b[0m - \u001b[1mSkipping table: `forge.dishes_inter.brand_event_counts_per_source_ae` because of the table type (VIEW).\u001b[0m\n",
      "\u001b[32m2025-06-26 07:11:16.678\u001b[0m | \u001b[1mINFO    \u001b[0m | \u001b[36m__main__\u001b[0m:\u001b[36mshould_skip_table\u001b[0m:\u001b[36m29\u001b[0m - \u001b[1mSkipping table: `forge.dishes_inter.brand_event_counts_per_source_ae_vw` because of the table type (VIEW).\u001b[0m\n",
      "\u001b[32m2025-06-26 07:11:16.679\u001b[0m | \u001b[1mINFO    \u001b[0m | \u001b[36m__main__\u001b[0m:\u001b[36mshould_skip_table\u001b[0m:\u001b[36m29\u001b[0m - \u001b[1mSkipping table: `forge.dishes_inter.brand_event_counts_per_source_bh` because of the table type (VIEW).\u001b[0m\n",
      "\u001b[32m2025-06-26 07:11:16.680\u001b[0m | \u001b[1mINFO    \u001b[0m | \u001b[36m__main__\u001b[0m:\u001b[36mshould_skip_table\u001b[0m:\u001b[36m29\u001b[0m - \u001b[1mSkipping table: `forge.dishes_inter.brand_event_counts_per_source_bh_vw` because of the table type (VIEW).\u001b[0m\n",
      "\u001b[32m2025-06-26 07:11:16.680\u001b[0m | \u001b[1mINFO    \u001b[0m | \u001b[36m__main__\u001b[0m:\u001b[36mshould_skip_table\u001b[0m:\u001b[36m29\u001b[0m - \u001b[1mSkipping table: `forge.dishes_inter.brand_event_counts_per_source_eg` because of the table type (VIEW).\u001b[0m\n",
      "\u001b[32m2025-06-26 07:11:16.682\u001b[0m | \u001b[1mINFO    \u001b[0m | \u001b[36m__main__\u001b[0m:\u001b[36mshould_skip_table\u001b[0m:\u001b[36m29\u001b[0m - \u001b[1mSkipping table: `forge.dishes_inter.brand_event_counts_per_source_eg_vw` because of the table type (VIEW).\u001b[0m\n",
      "\u001b[32m2025-06-26 07:11:16.683\u001b[0m | \u001b[1mINFO    \u001b[0m | \u001b[36m__main__\u001b[0m:\u001b[36mshould_skip_table\u001b[0m:\u001b[36m29\u001b[0m - \u001b[1mSkipping table: `forge.dishes_inter.brand_event_counts_per_source_jo` because of the table type (VIEW).\u001b[0m\n",
      "\u001b[32m2025-06-26 07:11:16.684\u001b[0m | \u001b[1mINFO    \u001b[0m | \u001b[36m__main__\u001b[0m:\u001b[36mshould_skip_table\u001b[0m:\u001b[36m29\u001b[0m - \u001b[1mSkipping table: `forge.dishes_inter.brand_event_counts_per_source_jo_vw` because of the table type (VIEW).\u001b[0m\n",
      "\u001b[32m2025-06-26 07:11:16.685\u001b[0m | \u001b[1mINFO    \u001b[0m | \u001b[36m__main__\u001b[0m:\u001b[36mshould_skip_table\u001b[0m:\u001b[36m29\u001b[0m - \u001b[1mSkipping table: `forge.dishes_inter.brand_event_counts_per_source_kw` because of the table type (VIEW).\u001b[0m\n",
      "\u001b[32m2025-06-26 07:11:16.686\u001b[0m | \u001b[1mINFO    \u001b[0m | \u001b[36m__main__\u001b[0m:\u001b[36mshould_skip_table\u001b[0m:\u001b[36m29\u001b[0m - \u001b[1mSkipping table: `forge.dishes_inter.brand_event_counts_per_source_kw_vw` because of the table type (VIEW).\u001b[0m\n",
      "\u001b[32m2025-06-26 07:11:16.687\u001b[0m | \u001b[1mINFO    \u001b[0m | \u001b[36m__main__\u001b[0m:\u001b[36mshould_skip_table\u001b[0m:\u001b[36m29\u001b[0m - \u001b[1mSkipping table: `forge.dishes_inter.brand_event_counts_per_source_om` because of the table type (VIEW).\u001b[0m\n",
      "\u001b[32m2025-06-26 07:11:16.688\u001b[0m | \u001b[1mINFO    \u001b[0m | \u001b[36m__main__\u001b[0m:\u001b[36mshould_skip_table\u001b[0m:\u001b[36m29\u001b[0m - \u001b[1mSkipping table: `forge.dishes_inter.brand_event_counts_per_source_om_vw` because of the table type (VIEW).\u001b[0m\n",
      "\u001b[32m2025-06-26 07:11:16.689\u001b[0m | \u001b[1mINFO    \u001b[0m | \u001b[36m__main__\u001b[0m:\u001b[36mshould_skip_table\u001b[0m:\u001b[36m29\u001b[0m - \u001b[1mSkipping table: `forge.dishes_inter.brand_event_counts_per_source_qa` because of the table type (VIEW).\u001b[0m\n",
      "\u001b[32m2025-06-26 07:11:16.689\u001b[0m | \u001b[1mINFO    \u001b[0m | \u001b[36m__main__\u001b[0m:\u001b[36mshould_skip_table\u001b[0m:\u001b[36m29\u001b[0m - \u001b[1mSkipping table: `forge.dishes_inter.brand_event_counts_per_source_qa_vw` because of the table type (VIEW).\u001b[0m\n",
      "\u001b[32m2025-06-26 07:11:16.690\u001b[0m | \u001b[1mINFO    \u001b[0m | \u001b[36m__main__\u001b[0m:\u001b[36mshould_skip_table\u001b[0m:\u001b[36m29\u001b[0m - \u001b[1mSkipping table: `forge.dishes_inter.brand_event_counts_per_source_sa_vw` because of the table type (VIEW).\u001b[0m\n",
      "\u001b[32m2025-06-26 07:11:16.691\u001b[0m | \u001b[1mINFO    \u001b[0m | \u001b[36m__main__\u001b[0m:\u001b[36mshould_skip_table\u001b[0m:\u001b[36m29\u001b[0m - \u001b[1mSkipping table: `forge.dishes_inter.brand_item_total_outlet_counts_ae_vw` because of the table type (VIEW).\u001b[0m\n",
      "\u001b[32m2025-06-26 07:11:16.692\u001b[0m | \u001b[1mINFO    \u001b[0m | \u001b[36m__main__\u001b[0m:\u001b[36mshould_skip_table\u001b[0m:\u001b[36m29\u001b[0m - \u001b[1mSkipping table: `forge.dishes_inter.brand_item_total_outlet_counts_bh_vw` because of the table type (VIEW).\u001b[0m\n",
      "\u001b[32m2025-06-26 07:11:16.693\u001b[0m | \u001b[1mINFO    \u001b[0m | \u001b[36m__main__\u001b[0m:\u001b[36mshould_skip_table\u001b[0m:\u001b[36m29\u001b[0m - \u001b[1mSkipping table: `forge.dishes_inter.brand_item_total_outlet_counts_eg_vw` because of the table type (VIEW).\u001b[0m\n",
      "\u001b[32m2025-06-26 07:11:16.693\u001b[0m | \u001b[1mINFO    \u001b[0m | \u001b[36m__main__\u001b[0m:\u001b[36mshould_skip_table\u001b[0m:\u001b[36m29\u001b[0m - \u001b[1mSkipping table: `forge.dishes_inter.brand_item_total_outlet_counts_jo_vw` because of the table type (VIEW).\u001b[0m\n",
      "\u001b[32m2025-06-26 07:11:16.694\u001b[0m | \u001b[1mINFO    \u001b[0m | \u001b[36m__main__\u001b[0m:\u001b[36mshould_skip_table\u001b[0m:\u001b[36m29\u001b[0m - \u001b[1mSkipping table: `forge.dishes_inter.brand_item_total_outlet_counts_kw_vw` because of the table type (VIEW).\u001b[0m\n",
      "\u001b[32m2025-06-26 07:11:16.695\u001b[0m | \u001b[1mINFO    \u001b[0m | \u001b[36m__main__\u001b[0m:\u001b[36mshould_skip_table\u001b[0m:\u001b[36m29\u001b[0m - \u001b[1mSkipping table: `forge.dishes_inter.brand_item_total_outlet_counts_om_vw` because of the table t\n",
      "\n",
      "*** WARNING: max output size exceeded, skipping output. ***\n",
      "\n",
      "5\u001b[0m | \u001b[1mINFO    \u001b[0m | \u001b[36m__main__\u001b[0m:\u001b[36mshould_skip_table\u001b[0m:\u001b[36m23\u001b[0m - \u001b[1mSkipping table: `system.information_schema.recipient_allowed_ip_ranges` because of the catalog.\u001b[0m\n",
      "\u001b[32m2025-06-26 07:11:23.986\u001b[0m | \u001b[1mINFO    \u001b[0m | \u001b[36m__main__\u001b[0m:\u001b[36mshould_skip_table\u001b[0m:\u001b[36m23\u001b[0m - \u001b[1mSkipping table: `system.information_schema.recipient_tokens` because of the catalog.\u001b[0m\n",
      "\u001b[32m2025-06-26 07:11:23.987\u001b[0m | \u001b[1mINFO    \u001b[0m | \u001b[36m__main__\u001b[0m:\u001b[36mshould_skip_table\u001b[0m:\u001b[36m23\u001b[0m - \u001b[1mSkipping table: `system.information_schema.recipients` because of the catalog.\u001b[0m\n",
      "\u001b[32m2025-06-26 07:11:23.987\u001b[0m | \u001b[1mINFO    \u001b[0m | \u001b[36m__main__\u001b[0m:\u001b[36mshould_skip_table\u001b[0m:\u001b[36m23\u001b[0m - \u001b[1mSkipping table: `system.information_schema.referential_constraints` because of the catalog.\u001b[0m\n",
      "\u001b[32m2025-06-26 07:11:23.988\u001b[0m | \u001b[1mINFO    \u001b[0m | \u001b[36m__main__\u001b[0m:\u001b[36mshould_skip_table\u001b[0m:\u001b[36m23\u001b[0m - \u001b[1mSkipping table: `system.information_schema.routine_columns` because of the catalog.\u001b[0m\n",
      "\u001b[32m2025-06-26 07:11:23.989\u001b[0m | \u001b[1mINFO    \u001b[0m | \u001b[36m__main__\u001b[0m:\u001b[36mshould_skip_table\u001b[0m:\u001b[36m23\u001b[0m - \u001b[1mSkipping table: `system.information_schema.routine_privileges` because of the catalog.\u001b[0m\n",
      "\u001b[32m2025-06-26 07:11:23.990\u001b[0m | \u001b[1mINFO    \u001b[0m | \u001b[36m__main__\u001b[0m:\u001b[36mshould_skip_table\u001b[0m:\u001b[36m23\u001b[0m - \u001b[1mSkipping table: `system.information_schema.routines` because of the catalog.\u001b[0m\n",
      "\u001b[32m2025-06-26 07:11:23.990\u001b[0m | \u001b[1mINFO    \u001b[0m | \u001b[36m__main__\u001b[0m:\u001b[36mshould_skip_table\u001b[0m:\u001b[36m23\u001b[0m - \u001b[1mSkipping table: `system.information_schema.row_filters` because of the catalog.\u001b[0m\n",
      "\u001b[32m2025-06-26 07:11:23.991\u001b[0m | \u001b[1mINFO    \u001b[0m | \u001b[36m__main__\u001b[0m:\u001b[36mshould_skip_table\u001b[0m:\u001b[36m23\u001b[0m - \u001b[1mSkipping table: `system.information_schema.schema_privileges` because of the catalog.\u001b[0m\n",
      "\u001b[32m2025-06-26 07:11:23.992\u001b[0m | \u001b[1mINFO    \u001b[0m | \u001b[36m__main__\u001b[0m:\u001b[36mshould_skip_table\u001b[0m:\u001b[36m23\u001b[0m - \u001b[1mSkipping table: `system.information_schema.schema_share_usage` because of the catalog.\u001b[0m\n",
      "\u001b[32m2025-06-26 07:11:23.992\u001b[0m | \u001b[1mINFO    \u001b[0m | \u001b[36m__main__\u001b[0m:\u001b[36mshould_skip_table\u001b[0m:\u001b[36m23\u001b[0m - \u001b[1mSkipping table: `system.information_schema.schema_tags` because of the catalog.\u001b[0m\n",
      "\u001b[32m2025-06-26 07:11:23.993\u001b[0m | \u001b[1mINFO    \u001b[0m | \u001b[36m__main__\u001b[0m:\u001b[36mshould_skip_table\u001b[0m:\u001b[36m23\u001b[0m - \u001b[1mSkipping table: `system.information_schema.schemata` because of the catalog.\u001b[0m\n",
      "\u001b[32m2025-06-26 07:11:23.993\u001b[0m | \u001b[1mINFO    \u001b[0m | \u001b[36m__main__\u001b[0m:\u001b[36mshould_skip_table\u001b[0m:\u001b[36m23\u001b[0m - \u001b[1mSkipping table: `system.information_schema.share_recipient_privileges` because of the catalog.\u001b[0m\n",
      "\u001b[32m2025-06-26 07:11:23.994\u001b[0m | \u001b[1mINFO    \u001b[0m | \u001b[36m__main__\u001b[0m:\u001b[36mshould_skip_table\u001b[0m:\u001b[36m23\u001b[0m - \u001b[1mSkipping table: `system.information_schema.shares` because of the catalog.\u001b[0m\n",
      "\u001b[32m2025-06-26 07:11:23.995\u001b[0m | \u001b[1mINFO    \u001b[0m | \u001b[36m__main__\u001b[0m:\u001b[36mshould_skip_table\u001b[0m:\u001b[36m23\u001b[0m - \u001b[1mSkipping table: `system.information_schema.storage_credential_privileges` because of the catalog.\u001b[0m\n",
      "\u001b[32m2025-06-26 07:11:23.995\u001b[0m | \u001b[1mINFO    \u001b[0m | \u001b[36m__main__\u001b[0m:\u001b[36mshould_skip_table\u001b[0m:\u001b[36m23\u001b[0m - \u001b[1mSkipping table: `system.information_schema.storage_credentials` because of the catalog.\u001b[0m\n",
      "\u001b[32m2025-06-26 07:11:23.996\u001b[0m | \u001b[1mINFO    \u001b[0m | \u001b[36m__main__\u001b[0m:\u001b[36mshould_skip_table\u001b[0m:\u001b[36m23\u001b[0m - \u001b[1mSkipping table: `system.information_schema.table_constraints` because of the catalog.\u001b[0m\n",
      "\u001b[32m2025-06-26 07:11:23.996\u001b[0m | \u001b[1mINFO    \u001b[0m | \u001b[36m__main__\u001b[0m:\u001b[36mshould_skip_table\u001b[0m:\u001b[36m23\u001b[0m - \u001b[1mSkipping table: `system.information_schema.table_privileges` because of the catalog.\u001b[0m\n",
      "\u001b[32m2025-06-26 07:11:23.997\u001b[0m | \u001b[1mINFO    \u001b[0m | \u001b[36m__main__\u001b[0m:\u001b[36mshould_skip_table\u001b[0m:\u001b[36m23\u001b[0m - \u001b[1mSkipping table: `system.information_schema.table_share_usage` because of the catalog.\u001b[0m\n",
      "\u001b[32m2025-06-26 07:11:23.998\u001b[0m | \u001b[1mINFO    \u001b[0m | \u001b[36m__main__\u001b[0m:\u001b[36mshould_skip_table\u001b[0m:\u001b[36m23\u001b[0m - \u001b[1mSkipping table: `system.information_schema.table_tags` because of the catalog.\u001b[0m\n",
      "\u001b[32m2025-06-26 07:11:23.998\u001b[0m | \u001b[1mINFO    \u001b[0m | \u001b[36m__main__\u001b[0m:\u001b[36mshould_skip_table\u001b[0m:\u001b[36m23\u001b[0m - \u001b[1mSkipping table: `system.information_schema.tables` because of the catalog.\u001b[0m\n",
      "\u001b[32m2025-06-26 07:11:23.999\u001b[0m | \u001b[1mINFO    \u001b[0m | \u001b[36m__main__\u001b[0m:\u001b[36mshould_skip_table\u001b[0m:\u001b[36m23\u001b[0m - \u001b[1mSkipping table: `system.information_schema.views` because of the catalog.\u001b[0m\n",
      "\u001b[32m2025-06-26 07:11:23.999\u001b[0m | \u001b[1mINFO    \u001b[0m | \u001b[36m__main__\u001b[0m:\u001b[36mshould_skip_table\u001b[0m:\u001b[36m23\u001b[0m - \u001b[1mSkipping table: `system.information_schema.volume_privileges` because of the catalog.\u001b[0m\n",
      "\u001b[32m2025-06-26 07:11:24.000\u001b[0m | \u001b[1mINFO    \u001b[0m | \u001b[36m__main__\u001b[0m:\u001b[36mshould_skip_table\u001b[0m:\u001b[36m23\u001b[0m - \u001b[1mSkipping table: `system.information_schema.volume_tags` because of the catalog.\u001b[0m\n",
      "\u001b[32m2025-06-26 07:11:24.001\u001b[0m | \u001b[1mINFO    \u001b[0m | \u001b[36m__main__\u001b[0m:\u001b[36mshould_skip_table\u001b[0m:\u001b[36m23\u001b[0m - \u001b[1mSkipping table: `system.information_schema.volumes` because of the catalog.\u001b[0m\n",
      "\u001b[32m2025-06-26 07:11:24.327\u001b[0m | \u001b[1mINFO    \u001b[0m | \u001b[36m__main__\u001b[0m:\u001b[36mshould_skip_table\u001b[0m:\u001b[36m26\u001b[0m - \u001b[1mSkipping table: `watershed.information_schema.catalog_privileges` because of the schema.\u001b[0m\n",
      "\u001b[32m2025-06-26 07:11:24.328\u001b[0m | \u001b[1mINFO    \u001b[0m | \u001b[36m__main__\u001b[0m:\u001b[36mshould_skip_table\u001b[0m:\u001b[36m26\u001b[0m - \u001b[1mSkipping table: `watershed.information_schema.catalog_tags` because of the schema.\u001b[0m\n",
      "\u001b[32m2025-06-26 07:11:24.329\u001b[0m | \u001b[1mINFO    \u001b[0m | \u001b[36m__main__\u001b[0m:\u001b[36mshould_skip_table\u001b[0m:\u001b[36m26\u001b[0m - \u001b[1mSkipping table: `watershed.information_schema.catalogs` because of the schema.\u001b[0m\n",
      "\u001b[32m2025-06-26 07:11:24.330\u001b[0m | \u001b[1mINFO    \u001b[0m | \u001b[36m__main__\u001b[0m:\u001b[36mshould_skip_table\u001b[0m:\u001b[36m26\u001b[0m - \u001b[1mSkipping table: `watershed.information_schema.check_constraints` because of the schema.\u001b[0m\n",
      "\u001b[32m2025-06-26 07:11:24.330\u001b[0m | \u001b[1mINFO    \u001b[0m | \u001b[36m__main__\u001b[0m:\u001b[36mshould_skip_table\u001b[0m:\u001b[36m26\u001b[0m - \u001b[1mSkipping table: `watershed.information_schema.column_masks` because of the schema.\u001b[0m\n",
      "\u001b[32m2025-06-26 07:11:24.331\u001b[0m | \u001b[1mINFO    \u001b[0m | \u001b[36m__main__\u001b[0m:\u001b[36mshould_skip_table\u001b[0m:\u001b[36m26\u001b[0m - \u001b[1mSkipping table: `watershed.information_schema.column_tags` because of the schema.\u001b[0m\n",
      "\u001b[32m2025-06-26 07:11:24.331\u001b[0m | \u001b[1mINFO    \u001b[0m | \u001b[36m__main__\u001b[0m:\u001b[36mshould_skip_table\u001b[0m:\u001b[36m26\u001b[0m - \u001b[1mSkipping table: `watershed.information_schema.columns` because of the schema.\u001b[0m\n",
      "\u001b[32m2025-06-26 07:11:24.332\u001b[0m | \u001b[1mINFO    \u001b[0m | \u001b[36m__main__\u001b[0m:\u001b[36mshould_skip_table\u001b[0m:\u001b[36m26\u001b[0m - \u001b[1mSkipping table: `watershed.information_schema.constraint_column_usage` because of the schema.\u001b[0m\n",
      "\u001b[32m2025-06-26 07:11:24.332\u001b[0m | \u001b[1mINFO    \u001b[0m | \u001b[36m__main__\u001b[0m:\u001b[36mshould_skip_table\u001b[0m:\u001b[36m26\u001b[0m - \u001b[1mSkipping table: `watershed.information_schema.constraint_table_usage` because of the schema.\u001b[0m\n",
      "\u001b[32m2025-06-26 07:11:24.333\u001b[0m | \u001b[1mINFO    \u001b[0m | \u001b[36m__main__\u001b[0m:\u001b[36mshould_skip_table\u001b[0m:\u001b[36m26\u001b[0m - \u001b[1mSkipping table: `watershed.information_schema.information_schema_catalog_name` because of the schema.\u001b[0m\n",
      "\u001b[32m2025-06-26 07:11:24.333\u001b[0m | \u001b[1mINFO    \u001b[0m | \u001b[36m__main__\u001b[0m:\u001b[36mshould_skip_table\u001b[0m:\u001b[36m26\u001b[0m - \u001b[1mSkipping table: `watershed.information_schema.key_column_usage` because of the schema.\u001b[0m\n",
      "\u001b[32m2025-06-26 07:11:24.335\u001b[0m | \u001b[1mINFO    \u001b[0m | \u001b[36m__main__\u001b[0m:\u001b[36mshould_skip_table\u001b[0m:\u001b[36m26\u001b[0m - \u001b[1mSkipping table: `watershed.information_schema.parameters` because of the schema.\u001b[0m\n",
      "\u001b[32m2025-06-26 07:11:24.335\u001b[0m | \u001b[1mINFO    \u001b[0m | \u001b[36m__main__\u001b[0m:\u001b[36mshould_skip_table\u001b[0m:\u001b[36m26\u001b[0m - \u001b[1mSkipping table: `watershed.information_schema.referential_constraints` because of the schema.\u001b[0m\n",
      "\u001b[32m2025-06-26 07:11:24.337\u001b[0m | \u001b[1mINFO    \u001b[0m | \u001b[36m__main__\u001b[0m:\u001b[36mshould_skip_table\u001b[0m:\u001b[36m26\u001b[0m - \u001b[1mSkipping table: `watershed.information_schema.routine_columns` because of the schema.\u001b[0m\n",
      "\u001b[32m2025-06-26 07:11:24.338\u001b[0m | \u001b[1mINFO    \u001b[0m | \u001b[36m__main__\u001b[0m:\u001b[36mshould_skip_table\u001b[0m:\u001b[36m26\u001b[0m - \u001b[1mSkipping table: `watershed.information_schema.routine_privileges` because of the schema.\u001b[0m\n",
      "\u001b[32m2025-06-26 07:11:24.339\u001b[0m | \u001b[1mINFO    \u001b[0m | \u001b[36m__main__\u001b[0m:\u001b[36mshould_skip_table\u001b[0m:\u001b[36m26\u001b[0m - \u001b[1mSkipping table: `watershed.information_schema.routines` because of the schema.\u001b[0m\n",
      "\u001b[32m2025-06-26 07:11:24.341\u001b[0m | \u001b[1mINFO    \u001b[0m | \u001b[36m__main__\u001b[0m:\u001b[36mshould_skip_table\u001b[0m:\u001b[36m26\u001b[0m - \u001b[1mSkipping table: `watershed.information_schema.row_filters` because of the schema.\u001b[0m\n",
      "\u001b[32m2025-06-26 07:11:24.343\u001b[0m | \u001b[1mINFO    \u001b[0m | \u001b[36m__main__\u001b[0m:\u001b[36mshould_skip_table\u001b[0m:\u001b[36m26\u001b[0m - \u001b[1mSkipping table: `watershed.information_schema.schema_privileges` because of the schema.\u001b[0m\n",
      "\u001b[32m2025-06-26 07:11:24.344\u001b[0m | \u001b[1mINFO    \u001b[0m | \u001b[36m__main__\u001b[0m:\u001b[36mshould_skip_table\u001b[0m:\u001b[36m26\u001b[0m - \u001b[1mSkipping table: `watershed.information_schema.schema_tags` because of the schema.\u001b[0m\n",
      "\u001b[32m2025-06-26 07:11:24.345\u001b[0m | \u001b[1mINFO    \u001b[0m | \u001b[36m__main__\u001b[0m:\u001b[36mshould_skip_table\u001b[0m:\u001b[36m26\u001b[0m - \u001b[1mSkipping table: `watershed.information_schema.schemata` because of the schema.\u001b[0m\n",
      "\u001b[32m2025-06-26 07:11:24.347\u001b[0m | \u001b[1mINFO    \u001b[0m | \u001b[36m__main__\u001b[0m:\u001b[36mshould_skip_table\u001b[0m:\u001b[36m26\u001b[0m - \u001b[1mSkipping table: `watershed.information_schema.table_constraints` because of the schema.\u001b[0m\n",
      "\u001b[32m2025-06-26 07:11:24.348\u001b[0m | \u001b[1mINFO    \u001b[0m | \u001b[36m__main__\u001b[0m:\u001b[36mshould_skip_table\u001b[0m:\u001b[36m26\u001b[0m - \u001b[1mSkipping table: `watershed.information_schema.table_privileges` because of the schema.\u001b[0m\n",
      "\u001b[32m2025-06-26 07:11:24.349\u001b[0m | \u001b[1mINFO    \u001b[0m | \u001b[36m__main__\u001b[0m:\u001b[36mshould_skip_table\u001b[0m:\u001b[36m26\u001b[0m - \u001b[1mSkipping table: `watershed.information_schema.table_tags` because of the schema.\u001b[0m\n",
      "\u001b[32m2025-06-26 07:11:24.350\u001b[0m | \u001b[1mINFO    \u001b[0m | \u001b[36m__main__\u001b[0m:\u001b[36mshould_skip_table\u001b[0m:\u001b[36m26\u001b[0m - \u001b[1mSkipping table: `watershed.information_schema.tables` because of the schema.\u001b[0m\n",
      "\u001b[32m2025-06-26 07:11:24.352\u001b[0m | \u001b[1mINFO    \u001b[0m | \u001b[36m__main__\u001b[0m:\u001b[36mshould_skip_table\u001b[0m:\u001b[36m26\u001b[0m - \u001b[1mSkipping table: `watershed.information_schema.views` because of the schema.\u001b[0m\n",
      "\u001b[32m2025-06-26 07:11:24.354\u001b[0m | \u001b[1mINFO    \u001b[0m | \u001b[36m__main__\u001b[0m:\u001b[36mshould_skip_table\u001b[0m:\u001b[36m26\u001b[0m - \u001b[1mSkipping table: `watershed.information_schema.volume_privileges` because of the schema.\u001b[0m\n",
      "\u001b[32m2025-06-26 07:11:24.355\u001b[0m | \u001b[1mINFO    \u001b[0m | \u001b[36m__main__\u001b[0m:\u001b[36mshould_skip_table\u001b[0m:\u001b[36m26\u001b[0m - \u001b[1mSkipping table: `watershed.information_schema.volume_tags` because of the schema.\u001b[0m\n",
      "\u001b[32m2025-06-26 07:11:24.356\u001b[0m | \u001b[1mINFO    \u001b[0m | \u001b[36m__main__\u001b[0m:\u001b[36mshould_skip_table\u001b[0m:\u001b[36m26\u001b[0m - \u001b[1mSkipping table: `watershed.information_schema.volumes` because of the schema.\u001b[0m\n",
      "\u001b[32m2025-06-26 07:11:24.869\u001b[0m | \u001b[1mINFO    \u001b[0m | \u001b[36m__main__\u001b[0m:\u001b[36mshould_skip_table\u001b[0m:\u001b[36m26\u001b[0m - \u001b[1mSkipping table: `web.information_schema.catalog_privileges` because of the schema.\u001b[0m\n",
      "\u001b[32m2025-06-26 07:11:24.870\u001b[0m | \u001b[1mINFO    \u001b[0m | \u001b[36m__main__\u001b[0m:\u001b[36mshould_skip_table\u001b[0m:\u001b[36m26\u001b[0m - \u001b[1mSkipping table: `web.information_schema.catalog_tags` because of the schema.\u001b[0m\n",
      "\u001b[32m2025-06-26 07:11:24.871\u001b[0m | \u001b[1mINFO    \u001b[0m | \u001b[36m__main__\u001b[0m:\u001b[36mshould_skip_table\u001b[0m:\u001b[36m26\u001b[0m - \u001b[1mSkipping table: `web.information_schema.catalogs` because of the schema.\u001b[0m\n",
      "\u001b[32m2025-06-26 07:11:24.872\u001b[0m | \u001b[1mINFO    \u001b[0m | \u001b[36m__main__\u001b[0m:\u001b[36mshould_skip_table\u001b[0m:\u001b[36m26\u001b[0m - \u001b[1mSkipping table: `web.information_schema.check_constraints` because of the schema.\u001b[0m\n",
      "\u001b[32m2025-06-26 07:11:24.872\u001b[0m | \u001b[1mINFO    \u001b[0m | \u001b[36m__main__\u001b[0m:\u001b[36mshould_skip_table\u001b[0m:\u001b[36m26\u001b[0m - \u001b[1mSkipping table: `web.information_schema.column_masks` because of the schema.\u001b[0m\n",
      "\u001b[32m2025-06-26 07:11:24.873\u001b[0m | \u001b[1mINFO    \u001b[0m | \u001b[36m__main__\u001b[0m:\u001b[36mshould_skip_table\u001b[0m:\u001b[36m26\u001b[0m - \u001b[1mSkipping table: `web.information_schema.column_tags` because of the schema.\u001b[0m\n",
      "\u001b[32m2025-06-26 07:11:24.874\u001b[0m | \u001b[1mINFO    \u001b[0m | \u001b[36m__main__\u001b[0m:\u001b[36mshould_skip_table\u001b[0m:\u001b[36m26\u001b[0m - \u001b[1mSkipping table: `web.information_schema.columns` because of the schema.\u001b[0m\n",
      "\u001b[32m2025-06-26 07:11:24.875\u001b[0m | \u001b[1mINFO    \u001b[0m | \u001b[36m__main__\u001b[0m:\u001b[36mshould_skip_table\u001b[0m:\u001b[36m26\u001b[0m - \u001b[1mSkipping table: `web.information_schema.constraint_column_usage` because of the schema.\u001b[0m\n",
      "\u001b[32m2025-06-26 07:11:24.876\u001b[0m | \u001b[1mINFO    \u001b[0m | \u001b[36m__main__\u001b[0m:\u001b[36mshould_skip_table\u001b[0m:\u001b[36m26\u001b[0m - \u001b[1mSkipping table: `web.information_schema.constraint_table_usage` because of the schema.\u001b[0m\n",
      "\u001b[32m2025-06-26 07:11:24.877\u001b[0m | \u001b[1mINFO    \u001b[0m | \u001b[36m__main__\u001b[0m:\u001b[36mshould_skip_table\u001b[0m:\u001b[36m26\u001b[0m - \u001b[1mSkipping table: `web.information_schema.information_schema_catalog_name` because of the schema.\u001b[0m\n",
      "\u001b[32m2025-06-26 07:11:24.878\u001b[0m | \u001b[1mINFO    \u001b[0m | \u001b[36m__main__\u001b[0m:\u001b[36mshould_skip_table\u001b[0m:\u001b[36m26\u001b[0m - \u001b[1mSkipping table: `web.information_schema.key_column_usage` because of the schema.\u001b[0m\n",
      "\u001b[32m2025-06-26 07:11:24.879\u001b[0m | \u001b[1mINFO    \u001b[0m | \u001b[36m__main__\u001b[0m:\u001b[36mshould_skip_table\u001b[0m:\u001b[36m26\u001b[0m - \u001b[1mSkipping table: `web.information_schema.parameters` because of the schema.\u001b[0m\n",
      "\u001b[32m2025-06-26 07:11:24.880\u001b[0m | \u001b[1mINFO    \u001b[0m | \u001b[36m__main__\u001b[0m:\u001b[36mshould_skip_table\u001b[0m:\u001b[36m26\u001b[0m - \u001b[1mSkipping table: `web.information_schema.referential_constraints` because of the schema.\u001b[0m\n",
      "\u001b[32m2025-06-26 07:11:24.881\u001b[0m | \u001b[1mINFO    \u001b[0m | \u001b[36m__main__\u001b[0m:\u001b[36mshould_skip_table\u001b[0m:\u001b[36m26\u001b[0m - \u001b[1mSkipping table: `web.information_schema.routine_columns` because of the schema.\u001b[0m\n",
      "\u001b[32m2025-06-26 07:11:24.881\u001b[0m | \u001b[1mINFO    \u001b[0m | \u001b[36m__main__\u001b[0m:\u001b[36mshould_skip_table\u001b[0m:\u001b[36m26\u001b[0m - \u001b[1mSkipping table: `web.information_schema.routine_privileges` because of the schema.\u001b[0m\n",
      "\u001b[32m2025-06-26 07:11:24.882\u001b[0m | \u001b[1mINFO    \u001b[0m | \u001b[36m__main__\u001b[0m:\u001b[36mshould_skip_table\u001b[0m:\u001b[36m26\u001b[0m - \u001b[1mSkipping table: `web.information_schema.routines` because of the schema.\u001b[0m\n",
      "\u001b[32m2025-06-26 07:11:24.883\u001b[0m | \u001b[1mINFO    \u001b[0m | \u001b[36m__main__\u001b[0m:\u001b[36mshould_skip_table\u001b[0m:\u001b[36m26\u001b[0m - \u001b[1mSkipping table: `web.information_schema.row_filters` because of the schema.\u001b[0m\n",
      "\u001b[32m2025-06-26 07:11:24.884\u001b[0m | \u001b[1mINFO    \u001b[0m | \u001b[36m__main__\u001b[0m:\u001b[36mshould_skip_table\u001b[0m:\u001b[36m26\u001b[0m - \u001b[1mSkipping table: `web.information_schema.schema_privileges` because of the schema.\u001b[0m\n",
      "\u001b[32m2025-06-26 07:11:24.885\u001b[0m | \u001b[1mINFO    \u001b[0m | \u001b[36m__main__\u001b[0m:\u001b[36mshould_skip_table\u001b[0m:\u001b[36m26\u001b[0m - \u001b[1mSkipping table: `web.information_schema.schema_tags` because of the schema.\u001b[0m\n",
      "\u001b[32m2025-06-26 07:11:24.885\u001b[0m | \u001b[1mINFO    \u001b[0m | \u001b[36m__main__\u001b[0m:\u001b[36mshould_skip_table\u001b[0m:\u001b[36m26\u001b[0m - \u001b[1mSkipping table: `web.information_schema.schemata` because of the schema.\u001b[0m\n",
      "\u001b[32m2025-06-26 07:11:24.886\u001b[0m | \u001b[1mINFO    \u001b[0m | \u001b[36m__main__\u001b[0m:\u001b[36mshould_skip_table\u001b[0m:\u001b[36m26\u001b[0m - \u001b[1mSkipping table: `web.information_schema.table_constraints` because of the schema.\u001b[0m\n",
      "\u001b[32m2025-06-26 07:11:24.886\u001b[0m | \u001b[1mINFO    \u001b[0m | \u001b[36m__main__\u001b[0m:\u001b[36mshould_skip_table\u001b[0m:\u001b[36m26\u001b[0m - \u001b[1mSkipping table: `web.information_schema.table_privileges` because of the schema.\u001b[0m\n",
      "\u001b[32m2025-06-26 07:11:24.887\u001b[0m | \u001b[1mINFO    \u001b[0m | \u001b[36m__main__\u001b[0m:\u001b[36mshould_skip_table\u001b[0m:\u001b[36m26\u001b[0m - \u001b[1mSkipping table: `web.information_schema.table_tags` because of the schema.\u001b[0m\n",
      "\u001b[32m2025-06-26 07:11:24.889\u001b[0m | \u001b[1mINFO    \u001b[0m | \u001b[36m__main__\u001b[0m:\u001b[36mshould_skip_table\u001b[0m:\u001b[36m26\u001b[0m - \u001b[1mSkipping table: `web.information_schema.tables` because of the schema.\u001b[0m\n",
      "\u001b[32m2025-06-26 07:11:24.890\u001b[0m | \u001b[1mINFO    \u001b[0m | \u001b[36m__main__\u001b[0m:\u001b[36mshould_skip_table\u001b[0m:\u001b[36m26\u001b[0m - \u001b[1mSkipping table: `web.information_schema.views` because of the schema.\u001b[0m\n",
      "\u001b[32m2025-06-26 07:11:24.891\u001b[0m | \u001b[1mINFO    \u001b[0m | \u001b[36m__main__\u001b[0m:\u001b[36mshould_skip_table\u001b[0m:\u001b[36m26\u001b[0m - \u001b[1mSkipping table: `web.information_schema.volume_privileges` because of the schema.\u001b[0m\n",
      "\u001b[32m2025-06-26 07:11:24.891\u001b[0m | \u001b[1mINFO    \u001b[0m | \u001b[36m__main__\u001b[0m:\u001b[36mshould_skip_table\u001b[0m:\u001b[36m26\u001b[0m - \u001b[1mSkipping table: `web.information_schema.volume_tags` because of the schema.\u001b[0m\n",
      "\u001b[32m2025-06-26 07:11:24.893\u001b[0m | \u001b[1mINFO    \u001b[0m | \u001b[36m__main__\u001b[0m:\u001b[36mshould_skip_table\u001b[0m:\u001b[36m26\u001b[0m - \u001b[1mSkipping table: `web.information_schema.volumes` because of the schema.\u001b[0m\n",
      "\u001b[32m2025-06-26 07:11:25.187\u001b[0m | \u001b[1mINFO    \u001b[0m | \u001b[36m__main__\u001b[0m:\u001b[36mshould_skip_table\u001b[0m:\u001b[36m29\u001b[0m - \u001b[1mSkipping table: `web.restaurants.booking_restaurant` because of the table type (VIEW).\u001b[0m\n",
      "\u001b[32m2025-06-26 07:11:25.190\u001b[0m | \u001b[1mINFO    \u001b[0m | \u001b[36m__main__\u001b[0m:\u001b[36mshould_skip_table\u001b[0m:\u001b[36m29\u001b[0m - \u001b[1mSkipping table: `web.restaurants.deliveroo_search_ranking_vw` because of the table type (VIEW).\u001b[0m\n",
      "\u001b[32m2025-06-26 07:11:25.194\u001b[0m | \u001b[1mINFO    \u001b[0m | \u001b[36m__main__\u001b[0m:\u001b[36mshould_skip_table\u001b[0m:\u001b[36m29\u001b[0m - \u001b[1mSkipping table: `web.restaurants.jahez_search_ranking_vw` because of the table type (VIEW).\u001b[0m\n",
      "\u001b[32m2025-06-26 07:11:25.196\u001b[0m | \u001b[1mINFO    \u001b[0m | \u001b[36m__main__\u001b[0m:\u001b[36mshould_skip_table\u001b[0m:\u001b[36m29\u001b[0m - \u001b[1mSkipping table: `web.restaurants.noon_search_ranking_vw` because of the table type (VIEW).\u001b[0m\n",
      "\u001b[32m2025-06-26 07:11:25.200\u001b[0m | \u001b[1mINFO    \u001b[0m | \u001b[36m__main__\u001b[0m:\u001b[36mshould_skip_table\u001b[0m:\u001b[36m29\u001b[0m - \u001b[1mSkipping table: `web.restaurants.snoonu_search_ranking_vw` because of the table type (VIEW).\u001b[0m\n",
      "\u001b[32m2025-06-26 07:11:25.201\u001b[0m | \u001b[1mINFO    \u001b[0m | \u001b[36m__main__\u001b[0m:\u001b[36mshould_skip_table\u001b[0m:\u001b[36m29\u001b[0m - \u001b[1mSkipping table: `web.restaurants.talabat_search_ranking_vw` because of the table type (VIEW).\u001b[0m\n",
      "\u001b[32m2025-06-26 07:11:25.460\u001b[0m | \u001b[1mINFO    \u001b[0m | \u001b[36m__main__\u001b[0m:\u001b[36mshould_skip_table\u001b[0m:\u001b[36m29\u001b[0m - \u001b[1mSkipping table: `wharf.americana.brands` because of the table type (VIEW).\u001b[0m\n",
      "\u001b[32m2025-06-26 07:11:25.725\u001b[0m | \u001b[1mINFO    \u001b[0m | \u001b[36m__main__\u001b[0m:\u001b[36mshould_skip_table\u001b[0m:\u001b[36m26\u001b[0m - \u001b[1mSkipping table: `wharf.information_schema.catalog_privileges` because of the schema.\u001b[0m\n",
      "\u001b[32m2025-06-26 07:11:25.725\u001b[0m | \u001b[1mINFO    \u001b[0m | \u001b[36m__main__\u001b[0m:\u001b[36mshould_skip_table\u001b[0m:\u001b[36m26\u001b[0m - \u001b[1mSkipping table: `wharf.information_schema.catalog_tags` because of the schema.\u001b[0m\n",
      "\u001b[32m2025-06-26 07:11:25.727\u001b[0m | \u001b[1mINFO    \u001b[0m | \u001b[36m__main__\u001b[0m:\u001b[36mshould_skip_table\u001b[0m:\u001b[36m26\u001b[0m - \u001b[1mSkipping table: `wharf.information_schema.catalogs` because of the schema.\u001b[0m\n",
      "\u001b[32m2025-06-26 07:11:25.727\u001b[0m | \u001b[1mINFO    \u001b[0m | \u001b[36m__main__\u001b[0m:\u001b[36mshould_skip_table\u001b[0m:\u001b[36m26\u001b[0m - \u001b[1mSkipping table: `wharf.information_schema.check_constraints` because of the schema.\u001b[0m\n",
      "\u001b[32m2025-06-26 07:11:25.728\u001b[0m | \u001b[1mINFO    \u001b[0m | \u001b[36m__main__\u001b[0m:\u001b[36mshould_skip_table\u001b[0m:\u001b[36m26\u001b[0m - \u001b[1mSkipping table: `wharf.information_schema.column_masks` because of the schema.\u001b[0m\n",
      "\u001b[32m2025-06-26 07:11:25.729\u001b[0m | \u001b[1mINFO    \u001b[0m | \u001b[36m__main__\u001b[0m:\u001b[36mshould_skip_table\u001b[0m:\u001b[36m26\u001b[0m - \u001b[1mSkipping table: `wharf.information_schema.column_tags` because of the schema.\u001b[0m\n",
      "\u001b[32m2025-06-26 07:11:25.730\u001b[0m | \u001b[1mINFO    \u001b[0m | \u001b[36m__main__\u001b[0m:\u001b[36mshould_skip_table\u001b[0m:\u001b[36m26\u001b[0m - \u001b[1mSkipping table: `wharf.information_schema.columns` because of the schema.\u001b[0m\n",
      "\u001b[32m2025-06-26 07:11:25.730\u001b[0m | \u001b[1mINFO    \u001b[0m | \u001b[36m__main__\u001b[0m:\u001b[36mshould_skip_table\u001b[0m:\u001b[36m26\u001b[0m - \u001b[1mSkipping table: `wharf.information_schema.constraint_column_usage` because of the schema.\u001b[0m\n",
      "\u001b[32m2025-06-26 07:11:25.731\u001b[0m | \u001b[1mINFO    \u001b[0m | \u001b[36m__main__\u001b[0m:\u001b[36mshould_skip_table\u001b[0m:\u001b[36m26\u001b[0m - \u001b[1mSkipping table: `wharf.information_schema.constraint_table_usage` because of the schema.\u001b[0m\n",
      "\u001b[32m2025-06-26 07:11:25.732\u001b[0m | \u001b[1mINFO    \u001b[0m | \u001b[36m__main__\u001b[0m:\u001b[36mshould_skip_table\u001b[0m:\u001b[36m26\u001b[0m - \u001b[1mSkipping table: `wharf.information_schema.information_schema_catalog_name` because of the schema.\u001b[0m\n",
      "\u001b[32m2025-06-26 07:11:25.732\u001b[0m | \u001b[1mINFO    \u001b[0m | \u001b[36m__main__\u001b[0m:\u001b[36mshould_skip_table\u001b[0m:\u001b[36m26\u001b[0m - \u001b[1mSkipping table: `wharf.information_schema.key_column_usage` because of the schema.\u001b[0m\n",
      "\u001b[32m2025-06-26 07:11:25.733\u001b[0m | \u001b[1mINFO    \u001b[0m | \u001b[36m__main__\u001b[0m:\u001b[36mshould_skip_table\u001b[0m:\u001b[36m26\u001b[0m - \u001b[1mSkipping table: `wharf.information_schema.parameters` because of the schema.\u001b[0m\n",
      "\u001b[32m2025-06-26 07:11:25.734\u001b[0m | \u001b[1mINFO    \u001b[0m | \u001b[36m__main__\u001b[0m:\u001b[36mshould_skip_table\u001b[0m:\u001b[36m26\u001b[0m - \u001b[1mSkipping table: `wharf.information_schema.referential_constraints` because of the schema.\u001b[0m\n",
      "\u001b[32m2025-06-26 07:11:25.735\u001b[0m | \u001b[1mINFO    \u001b[0m | \u001b[36m__main__\u001b[0m:\u001b[36mshould_skip_table\u001b[0m:\u001b[36m26\u001b[0m - \u001b[1mSkipping table: `wharf.information_schema.routine_columns` because of the schema.\u001b[0m\n",
      "\u001b[32m2025-06-26 07:11:25.735\u001b[0m | \u001b[1mINFO    \u001b[0m | \u001b[36m__main__\u001b[0m:\u001b[36mshould_skip_table\u001b[0m:\u001b[36m26\u001b[0m - \u001b[1mSkipping table: `wharf.information_schema.routine_privileges` because of the schema.\u001b[0m\n",
      "\u001b[32m2025-06-26 07:11:25.736\u001b[0m | \u001b[1mINFO    \u001b[0m | \u001b[36m__main__\u001b[0m:\u001b[36mshould_skip_table\u001b[0m:\u001b[36m26\u001b[0m - \u001b[1mSkipping table: `wharf.information_schema.routines` because of the schema.\u001b[0m\n",
      "\u001b[32m2025-06-26 07:11:25.737\u001b[0m | \u001b[1mINFO    \u001b[0m | \u001b[36m__main__\u001b[0m:\u001b[36mshould_skip_table\u001b[0m:\u001b[36m26\u001b[0m - \u001b[1mSkipping table: `wharf.information_schema.row_filters` because of the schema.\u001b[0m\n",
      "\u001b[32m2025-06-26 07:11:25.737\u001b[0m | \u001b[1mINFO    \u001b[0m | \u001b[36m__main__\u001b[0m:\u001b[36mshould_skip_table\u001b[0m:\u001b[36m26\u001b[0m - \u001b[1mSkipping table: `wharf.information_schema.schema_privileges` because of the schema.\u001b[0m\n",
      "\u001b[32m2025-06-26 07:11:25.738\u001b[0m | \u001b[1mINFO    \u001b[0m | \u001b[36m__main__\u001b[0m:\u001b[36mshould_skip_table\u001b[0m:\u001b[36m26\u001b[0m - \u001b[1mSkipping table: `wharf.information_schema.schema_tags` because of the schema.\u001b[0m\n",
      "\u001b[32m2025-06-26 07:11:25.738\u001b[0m | \u001b[1mINFO    \u001b[0m | \u001b[36m__main__\u001b[0m:\u001b[36mshould_skip_table\u001b[0m:\u001b[36m26\u001b[0m - \u001b[1mSkipping table: `wharf.information_schema.schemata` because of the schema.\u001b[0m\n",
      "\u001b[32m2025-06-26 07:11:25.739\u001b[0m | \u001b[1mINFO    \u001b[0m | \u001b[36m__main__\u001b[0m:\u001b[36mshould_skip_table\u001b[0m:\u001b[36m26\u001b[0m - \u001b[1mSkipping table: `wharf.information_schema.table_constraints` because of the schema.\u001b[0m\n",
      "\u001b[32m2025-06-26 07:11:25.740\u001b[0m | \u001b[1mINFO    \u001b[0m | \u001b[36m__main__\u001b[0m:\u001b[36mshould_skip_table\u001b[0m:\u001b[36m26\u001b[0m - \u001b[1mSkipping table: `wharf.information_schema.table_privileges` because of the schema.\u001b[0m\n",
      "\u001b[32m2025-06-26 07:11:25.740\u001b[0m | \u001b[1mINFO    \u001b[0m | \u001b[36m__main__\u001b[0m:\u001b[36mshould_skip_table\u001b[0m:\u001b[36m26\u001b[0m - \u001b[1mSkipping table: `wharf.information_schema.table_tags` because of the schema.\u001b[0m\n",
      "\u001b[32m2025-06-26 07:11:25.741\u001b[0m | \u001b[1mINFO    \u001b[0m | \u001b[36m__main__\u001b[0m:\u001b[36mshould_skip_table\u001b[0m:\u001b[36m26\u001b[0m - \u001b[1mSkipping table: `wharf.information_schema.tables` because of the schema.\u001b[0m\n",
      "\u001b[32m2025-06-26 07:11:25.741\u001b[0m | \u001b[1mINFO    \u001b[0m | \u001b[36m__main__\u001b[0m:\u001b[36mshould_skip_table\u001b[0m:\u001b[36m26\u001b[0m - \u001b[1mSkipping table: `wharf.information_schema.views` because of the schema.\u001b[0m\n",
      "\u001b[32m2025-06-26 07:11:25.743\u001b[0m | \u001b[1mINFO    \u001b[0m | \u001b[36m__main__\u001b[0m:\u001b[36mshould_skip_table\u001b[0m:\u001b[36m26\u001b[0m - \u001b[1mSkipping table: `wharf.information_schema.volume_privileges` because of the schema.\u001b[0m\n",
      "\u001b[32m2025-06-26 07:11:25.744\u001b[0m | \u001b[1mINFO    \u001b[0m | \u001b[36m__main__\u001b[0m:\u001b[36mshould_skip_table\u001b[0m:\u001b[36m26\u001b[0m - \u001b[1mSkipping table: `wharf.information_schema.volume_tags` because of the schema.\u001b[0m\n",
      "\u001b[32m2025-06-26 07:11:25.745\u001b[0m | \u001b[1mINFO    \u001b[0m | \u001b[36m__main__\u001b[0m:\u001b[36mshould_skip_table\u001b[0m:\u001b[36m26\u001b[0m - \u001b[1mSkipping table: `wharf.information_schema.volumes` because of the schema.\u001b[0m\n",
      "\u001b[32m2025-06-26 07:11:26.019\u001b[0m | \u001b[1mINFO    \u001b[0m | \u001b[36m__main__\u001b[0m:\u001b[36mshould_skip_table\u001b[0m:\u001b[36m29\u001b[0m - \u001b[1mSkipping table: `wharf.propai.bayut_listing` because of the table type (VIEW).\u001b[0m\n",
      "\u001b[32m2025-06-26 07:11:26.021\u001b[0m | \u001b[1mINFO    \u001b[0m | \u001b[36m__main__\u001b[0m:\u001b[36mshould_skip_table\u001b[0m:\u001b[36m29\u001b[0m - \u001b[1mSkipping table: `wharf.propai.bayut_photo` because of the table type (VIEW).\u001b[0m\n",
      "\u001b[32m2025-06-26 07:11:26.022\u001b[0m | \u001b[1mINFO    \u001b[0m | \u001b[36m__main__\u001b[0m:\u001b[36mshould_skip_table\u001b[0m:\u001b[36m29\u001b[0m - \u001b[1mSkipping table: `wharf.propai.dubizzle_listing` because of the table type (VIEW).\u001b[0m\n",
      "\u001b[32m2025-06-26 07:11:26.022\u001b[0m | \u001b[1mINFO    \u001b[0m | \u001b[36m__main__\u001b[0m:\u001b[36mshould_skip_table\u001b[0m:\u001b[36m29\u001b[0m - \u001b[1mSkipping table: `wharf.propai.dubizzle_photo` because of the table type (VIEW).\u001b[0m\n",
      "\u001b[32m2025-06-26 07:11:26.023\u001b[0m | \u001b[1mINFO    \u001b[0m | \u001b[36m__main__\u001b[0m:\u001b[36mshould_skip_table\u001b[0m:\u001b[36m29\u001b[0m - \u001b[1mSkipping table: `wharf.propai.propertyfinder_agent` because of the table type (VIEW).\u001b[0m\n",
      "\u001b[32m2025-06-26 07:11:26.024\u001b[0m | \u001b[1mINFO    \u001b[0m | \u001b[36m__main__\u001b[0m:\u001b[36mshould_skip_table\u001b[0m:\u001b[36m29\u001b[0m - \u001b[1mSkipping table: `wharf.propai.propertyfinder_listing` because of the table type (VIEW).\u001b[0m\n",
      "\u001b[32m2025-06-26 07:11:26.025\u001b[0m | \u001b[1mINFO    \u001b[0m | \u001b[36m__main__\u001b[0m:\u001b[36mshould_skip_table\u001b[0m:\u001b[36m29\u001b[0m - \u001b[1mSkipping table: `wharf.propai.propertyfinder_photo` because of the table type (VIEW).\u001b[0m\n"
     ]
    }
   ],
   "source": [
    "# Initialize Databricks SDK workspace client\n",
    "w = WorkspaceClient()\n",
    "\n",
    "# This list will collect metadata about all eligible tables\n",
    "table_metadata = []\n",
    "\n",
    "# Loop through all catalogs returned by the SDK\n",
    "for catalog in w.catalogs.list():\n",
    "    catalog_name = catalog.name\n",
    "    for schema in w.schemas.list(catalog_name):\n",
    "        schema_name = schema.name\n",
    "        for table in w.tables.list(catalog_name, schema_name):\n",
    "            # Safely get the table type (e.g., MANAGED, VIEW)\n",
    "            table_type = table.table_type.value if table.table_type else None\n",
    "\n",
    "            # Apply custom logic to skip specific tables\n",
    "            if should_skip_table(catalog, schema, table):\n",
    "                continue\n",
    "\n",
    "            # Store the metadata of tables that passed all filters\n",
    "            table_metadata.append({\n",
    "                \"catalog\": catalog_name,\n",
    "                \"schema\": schema_name,\n",
    "                \"table\": table.name,\n",
    "                \"full_path\": f\"{catalog_name}.{schema_name}.{table.name}\",  # Used for DESCRIBE HISTORY\n",
    "                \"table_type\": table_type,\n",
    "                \"comment\": table.comment\n",
    "            })"
   ]
  },
  {
   "cell_type": "code",
   "execution_count": 0,
   "metadata": {
    "application/vnd.databricks.v1+cell": {
     "cellMetadata": {
      "byteLimit": 2048000,
      "rowLimit": 10000
     },
     "inputWidgets": {},
     "nuid": "73b1a811-b715-44ed-884c-dbc4d939c8a1",
     "showTitle": true,
     "tableResultSettingsMap": {},
     "title": "Form final df"
    }
   },
   "outputs": [
    {
     "name": "stderr",
     "output_type": "stream",
     "text": [
      "\u001b[32m2025-06-26 07:11:26.360\u001b[0m | \u001b[1mINFO    \u001b[0m | \u001b[36m__main__\u001b[0m:\u001b[36m<module>\u001b[0m:\u001b[36m74\u001b[0m - \u001b[1mAnalyzing table: cargo.areas.source_evolution_by_month\u001b[0m\n",
      "\u001b[32m2025-06-26 07:11:42.878\u001b[0m | \u001b[1mINFO    \u001b[0m | \u001b[36m__main__\u001b[0m:\u001b[36m<module>\u001b[0m:\u001b[36m74\u001b[0m - \u001b[1mAnalyzing table: cargo.areas.source_evolution_by_week\u001b[0m\n",
      "\u001b[32m2025-06-26 07:11:48.352\u001b[0m | \u001b[1mINFO    \u001b[0m | \u001b[36m__main__\u001b[0m:\u001b[36m<module>\u001b[0m:\u001b[36m74\u001b[0m - \u001b[1mAnalyzing table: cargo.content.area_annual_visitation_weekdays\u001b[0m\n",
      "\u001b[32m2025-06-26 07:11:49.850\u001b[0m | \u001b[1mINFO    \u001b[0m | \u001b[36m__main__\u001b[0m:\u001b[36m<module>\u001b[0m:\u001b[36m74\u001b[0m - \u001b[1mAnalyzing table: cargo.content.area_types\u001b[0m\n",
      "\u001b[32m2025-06-26 07:11:51.182\u001b[0m | \u001b[1mINFO    \u001b[0m | \u001b[36m__main__\u001b[0m:\u001b[36m<module>\u001b[0m:\u001b[36m74\u001b[0m - \u001b[1mAnalyzing table: cargo.dopetto_inter.aspect_series\u001b[0m\n"
     ]
    }
   ],
   "source": [
    "def parse_history_df(history_df, table_info):\n",
    "    \"\"\"\n",
    "    Parses the output of DESCRIBE HISTORY for a Delta table to extract key metadata.\n",
    "\n",
    "    This function analyzes the Delta table's operation history to:\n",
    "    - Identify when the table was created and by whom.\n",
    "    - Identify the most recent operation (e.g., INSERT, UPDATE, OPTIMIZE).\n",
    "    - Identify the most recent *data-changing* operation (e.g., WRITE, DELETE, MERGE).\n",
    "    - Calculate how long it has been since the last data change.\n",
    "    - Determine if the table is considered stale based on catalog/schema-specific thresholds.\n",
    "    - Return a dictionary of relevant fields for tracking table freshness and usage.\n",
    "\n",
    "    Returns `None` if there are no data-changing operations, since such tables are not relevant for staleness tracking.\n",
    "    \n",
    "    Parameters:\n",
    "    - history_df (pd.DataFrame): Output of `DESCRIBE HISTORY <table>` converted to a pandas DataFrame.\n",
    "\n",
    "    Returns:\n",
    "    - dict or None: Parsed metadata about the table, or None if no data-changing operations are found.\n",
    "    \"\"\"    \n",
    "    # The last row in DESCRIBE HISTORY is the table's creation event\n",
    "    created_row = history_df.iloc[-1]\n",
    "    # The first row is the most recent operation (update, insert, etc.)\n",
    "    last_updated_row = history_df.iloc[0]\n",
    "\n",
    "    # Filter history to only include data-changing operations\n",
    "    write_ops = history_df[history_df[\"operation\"].isin(DATA_CHANGING_OPS)]\n",
    "    # If present, pick the most recent data-changing operation\n",
    "    last_data_row = write_ops.iloc[0] if not write_ops.empty else None\n",
    "\n",
    "    # Extract creation timestamp and user\n",
    "    created_at = created_row[\"timestamp\"]\n",
    "    created_by = created_row[\"userName\"]\n",
    "\n",
    "    # Extract last operation timestamp and user (regardless of whether it changed data)\n",
    "    last_updated_at = last_updated_row[\"timestamp\"]\n",
    "    last_updated_by = last_updated_row[\"userName\"]\n",
    "\n",
    "    # Extract most recent data-changing operation info (if any)\n",
    "    last_data_change = last_data_row[\"timestamp\"] if last_data_row is not None else None\n",
    "    last_data_changed_by = last_data_row[\"userName\"] if last_data_row is not None else None\n",
    "\n",
    "    # If no data-changing op exists, skip this table (maybe it's only been ALTER-ed or OPTIMIZE-ed)\n",
    "    if last_data_change is None:\n",
    "        logger.warning(f\"No data-changing ops found in: {table_path}\")\n",
    "        return None\n",
    "\n",
    "    # Calculate how many days it's been since the last data change\n",
    "    days_outdated = (NOW - last_data_change).days\n",
    "\n",
    "    # Determine if the table is considered stale based on catalog+schema rules\n",
    "    is_stale = days_outdated > get_stale_threshold(table_info['catalog'], table_info['schema'])\n",
    "\n",
    "    return {\n",
    "        \"table_path\": table_path,\n",
    "        \"created_at\": created_at.date(),\n",
    "        \"created_by\": created_by,\n",
    "        \"last_updated_at\": last_updated_at.date(),\n",
    "        \"last_updated_by\": last_updated_by,\n",
    "        \"last_data_change\": last_data_change.date(),\n",
    "        \"last_data_changed_by\": last_data_changed_by,\n",
    "        \"days_outdated\": days_outdated,\n",
    "        \"is_stale\": is_stale,\n",
    "        \"outdated_for\": format_age(last_data_change),\n",
    "        \"staleness_category\": categorize_staleness(last_data_change),\n",
    "        \"action\": get_action_for_table(is_stale, table_info),\n",
    "        \"comment\": table_info[\"comment\"]\n",
    "    }\n",
    "\n",
    "# Iterate over each valid table we've collected from the SDK\n",
    "records = []\n",
    "for table_info in table_metadata[:5]:\n",
    "    table_path = table_info[\"full_path\"]  # e.g., catalog.schema.table\n",
    "    logger.info(f\"Analyzing table: {table_path}\")\n",
    "\n",
    "    history_df = spark.sql(f\"DESCRIBE HISTORY {table_path}\").toPandas()\n",
    "    \n",
    "    result = parse_history_df(history_df, table_info)\n",
    "    if not result:\n",
    "        continue\n",
    "\n",
    "    # Append all relevant information into the records list\n",
    "    records.append(result)\n",
    "\n",
    "stale_df = pd.DataFrame(records)"
   ]
  },
  {
   "cell_type": "code",
   "execution_count": 0,
   "metadata": {
    "application/vnd.databricks.v1+cell": {
     "cellMetadata": {
      "byteLimit": 2048000,
      "rowLimit": 10000
     },
     "inputWidgets": {},
     "nuid": "9be0838d-1717-40b3-82fa-9411e4756838",
     "showTitle": true,
     "tableResultSettingsMap": {},
     "title": "Delta Table Staleness Report"
    }
   },
   "outputs": [
    {
     "data": {
      "text/html": [
       "<style scoped>\n",
       "  .table-result-container {\n",
       "    max-height: 300px;\n",
       "    overflow: auto;\n",
       "  }\n",
       "  table, th, td {\n",
       "    border: 1px solid black;\n",
       "    border-collapse: collapse;\n",
       "  }\n",
       "  th, td {\n",
       "    padding: 5px;\n",
       "  }\n",
       "  th {\n",
       "    text-align: left;\n",
       "  }\n",
       "</style><div class='table-result-container'><table class='table-result'><thead style='background-color: white'><tr><th>table_path</th><th>created_at</th><th>created_by</th><th>last_updated_at</th><th>last_updated_by</th><th>last_data_change</th><th>last_data_changed_by</th><th>days_outdated</th><th>is_stale</th><th>outdated_for</th><th>staleness_category</th><th>action</th><th>comment</th></tr></thead><tbody><tr><td>cargo.content.area_annual_visitation_weekdays</td><td>2025-01-08</td><td>tech@dotlas.com</td><td>2025-03-11</td><td>tech@dotlas.com</td><td>2025-01-08</td><td>tech@dotlas.com</td><td>168</td><td>true</td><td>5 months, 17 days</td><td>Months</td><td>WARN</td><td>null</td></tr><tr><td>cargo.content.area_types</td><td>2025-01-08</td><td>tech@dotlas.com</td><td>2025-03-11</td><td>tech@dotlas.com</td><td>2025-01-08</td><td>tech@dotlas.com</td><td>168</td><td>true</td><td>5 months, 17 days</td><td>Months</td><td>WARN</td><td>null</td></tr><tr><td>cargo.dopetto_inter.aspect_series</td><td>2025-03-17</td><td>tech@dotlas.com</td><td>2025-06-13</td><td>tech@dotlas.com</td><td>2025-06-13</td><td>tech@dotlas.com</td><td>12</td><td>false</td><td>12 days</td><td>Days</td><td>null</td><td>null</td></tr><tr><td>cargo.areas.source_evolution_by_month</td><td>2025-06-11</td><td>tech@dotlas.com</td><td>2025-06-23</td><td>tech@dotlas.com</td><td>2025-06-23</td><td>tech@dotlas.com</td><td>3</td><td>false</td><td>3 days</td><td>Days</td><td>null</td><td>null</td></tr><tr><td>cargo.areas.source_evolution_by_week</td><td>2025-06-11</td><td>tech@dotlas.com</td><td>2025-06-23</td><td>tech@dotlas.com</td><td>2025-06-23</td><td>tech@dotlas.com</td><td>3</td><td>false</td><td>3 days</td><td>Days</td><td>null</td><td>null</td></tr></tbody></table></div>"
      ]
     },
     "metadata": {
      "application/vnd.databricks.v1+output": {
       "addedWidgets": {},
       "aggData": [],
       "aggError": "",
       "aggOverflow": false,
       "aggSchema": [],
       "aggSeriesLimitReached": false,
       "aggType": "",
       "arguments": {},
       "columnCustomDisplayInfos": {},
       "data": [
        [
         "cargo.content.area_annual_visitation_weekdays",
         "2025-01-08",
         "tech@dotlas.com",
         "2025-03-11",
         "tech@dotlas.com",
         "2025-01-08",
         "tech@dotlas.com",
         168,
         true,
         "5 months, 17 days",
         "Months",
         "WARN",
         null
        ],
        [
         "cargo.content.area_types",
         "2025-01-08",
         "tech@dotlas.com",
         "2025-03-11",
         "tech@dotlas.com",
         "2025-01-08",
         "tech@dotlas.com",
         168,
         true,
         "5 months, 17 days",
         "Months",
         "WARN",
         null
        ],
        [
         "cargo.dopetto_inter.aspect_series",
         "2025-03-17",
         "tech@dotlas.com",
         "2025-06-13",
         "tech@dotlas.com",
         "2025-06-13",
         "tech@dotlas.com",
         12,
         false,
         "12 days",
         "Days",
         null,
         null
        ],
        [
         "cargo.areas.source_evolution_by_month",
         "2025-06-11",
         "tech@dotlas.com",
         "2025-06-23",
         "tech@dotlas.com",
         "2025-06-23",
         "tech@dotlas.com",
         3,
         false,
         "3 days",
         "Days",
         null,
         null
        ],
        [
         "cargo.areas.source_evolution_by_week",
         "2025-06-11",
         "tech@dotlas.com",
         "2025-06-23",
         "tech@dotlas.com",
         "2025-06-23",
         "tech@dotlas.com",
         3,
         false,
         "3 days",
         "Days",
         null,
         null
        ]
       ],
       "datasetInfos": [],
       "dbfsResultPath": null,
       "isJsonSchema": true,
       "metadata": {},
       "overflow": false,
       "plotOptions": {
        "customPlotOptions": {},
        "displayType": "table",
        "pivotAggregation": null,
        "pivotColumns": null,
        "xColumns": null,
        "yColumns": null
       },
       "removedWidgets": [],
       "schema": [
        {
         "metadata": "{}",
         "name": "table_path",
         "type": "\"string\""
        },
        {
         "metadata": "{}",
         "name": "created_at",
         "type": "\"date\""
        },
        {
         "metadata": "{}",
         "name": "created_by",
         "type": "\"string\""
        },
        {
         "metadata": "{}",
         "name": "last_updated_at",
         "type": "\"date\""
        },
        {
         "metadata": "{}",
         "name": "last_updated_by",
         "type": "\"string\""
        },
        {
         "metadata": "{}",
         "name": "last_data_change",
         "type": "\"date\""
        },
        {
         "metadata": "{}",
         "name": "last_data_changed_by",
         "type": "\"string\""
        },
        {
         "metadata": "{}",
         "name": "days_outdated",
         "type": "\"long\""
        },
        {
         "metadata": "{}",
         "name": "is_stale",
         "type": "\"boolean\""
        },
        {
         "metadata": "{}",
         "name": "outdated_for",
         "type": "\"string\""
        },
        {
         "metadata": "{}",
         "name": "staleness_category",
         "type": "\"string\""
        },
        {
         "metadata": "{}",
         "name": "action",
         "type": "\"string\""
        },
        {
         "metadata": "{}",
         "name": "comment",
         "type": "\"void\""
        }
       ],
       "type": "table"
      }
     },
     "output_type": "display_data"
    }
   ],
   "source": [
    "display(stale_df.sort_values(by=\"days_outdated\", ascending=False))"
   ]
  },
  {
   "cell_type": "markdown",
   "metadata": {
    "application/vnd.databricks.v1+cell": {
     "cellMetadata": {
      "byteLimit": 2048000,
      "rowLimit": 10000
     },
     "inputWidgets": {},
     "nuid": "66c7ac16-5234-4747-8196-ee17ec898ba8",
     "showTitle": false,
     "tableResultSettingsMap": {},
     "title": ""
    }
   },
   "source": [
    "### Take Actions Based on Staleness\n"
   ]
  },
  {
   "cell_type": "code",
   "execution_count": 0,
   "metadata": {
    "application/vnd.databricks.v1+cell": {
     "cellMetadata": {
      "byteLimit": 2048000,
      "rowLimit": 10000
     },
     "inputWidgets": {},
     "nuid": "1a8e2e20-38e0-43ef-8cbd-5772a29693d0",
     "showTitle": true,
     "tableResultSettingsMap": {},
     "title": "Auto-Delete"
    }
   },
   "outputs": [],
   "source": [
    "# Filter relevant rows\n",
    "delete_records = stale_df[\n",
    "    (stale_df[\"is_stale\"]) & (stale_df[\"action\"] == \"AUTO DELETE\")\n",
    "]\n",
    "\n",
    "for table_path in delete_records[\"table_path\"].values:\n",
    "    spark.sql(f\"DROP TABLE {table_path}\")\n",
    "    logger.info(f\"Dropped table: `{table_path}`\")"
   ]
  },
  {
   "cell_type": "code",
   "execution_count": 0,
   "metadata": {
    "application/vnd.databricks.v1+cell": {
     "cellMetadata": {
      "byteLimit": 2048000,
      "rowLimit": 10000
     },
     "inputWidgets": {},
     "nuid": "bbc682bc-9165-4094-ab7b-7941d9c2ff43",
     "showTitle": true,
     "tableResultSettingsMap": {},
     "title": "Send Warning in Slack"
    }
   },
   "outputs": [
    {
     "name": "stderr",
     "output_type": "stream",
     "text": [
      "\u001b[32m2025-06-26 07:12:39.548\u001b[0m | \u001b[1mINFO    \u001b[0m | \u001b[36m__main__\u001b[0m:\u001b[36m<module>\u001b[0m:\u001b[36m34\u001b[0m - \u001b[1mAttempting to post message for catalog: cargo\u001b[0m\n",
      "\u001b[32m2025-06-26 07:12:39.615\u001b[0m | \u001b[1mINFO    \u001b[0m | \u001b[36m__main__\u001b[0m:\u001b[36m<module>\u001b[0m:\u001b[36m36\u001b[0m - \u001b[1mSuccessfully posted message for catalog: cargo\u001b[0m\n"
     ]
    }
   ],
   "source": [
    "# Extract catalog, schema, and table from table_path\n",
    "stale_df[[\"catalog\", \"schema\", \"table\"]] = stale_df[\"table_path\"].str.split(\".\", expand=True)\n",
    "\n",
    "# Filter relevant rows\n",
    "warn_records = stale_df[\n",
    "    (stale_df[\"is_stale\"]) & (stale_df[\"action\"] == \"WARN\")\n",
    "]\n",
    "\n",
    "# Group by catalog\n",
    "grouped = warn_records.groupby(\"catalog\")\n",
    "\n",
    "for catalog, group in grouped:\n",
    "    # Header message\n",
    "    header = f\"*Catalog: `{catalog}`* — These tables appear stale :warning:\\n\"\n",
    "\n",
    "    # Build markdown table inside a code block\n",
    "    table_md = \"```\" + group[[\"schema\", \"table\", \"last_data_change\"]].to_markdown(index=False) + \"```\"\n",
    "    message_text = header + table_md\n",
    "\n",
    "    # Slack block\n",
    "    message_payload = {\n",
    "        \"blocks\": [\n",
    "            {\n",
    "                \"type\": \"section\",\n",
    "                \"text\": {\n",
    "                    \"type\": \"mrkdwn\",\n",
    "                    \"text\": message_text\n",
    "                }\n",
    "            }\n",
    "        ]\n",
    "    }\n",
    "\n",
    "    # Send to Slack\n",
    "    logger.info(f\"Attempting to post message for catalog: {catalog}\")\n",
    "    if post_to_slack(message_payload):\n",
    "        logger.info(f\"Successfully posted message for catalog: {catalog}\")\n",
    "    else:\n",
    "        logger.error(f\"Failed to post message for catalog: {catalog}\")"
   ]
  }
 ],
 "metadata": {
  "application/vnd.databricks.v1+notebook": {
   "computePreferences": null,
   "dashboards": [],
   "environmentMetadata": {
    "base_environment": "",
    "environment_version": "2"
   },
   "inputWidgetPreferences": null,
   "language": "python",
   "notebookMetadata": {
    "mostRecentlyExecutedCommandWithImplicitDF": {
     "commandId": 7081826483846517,
     "dataframes": [
      "_sqldf"
     ]
    },
    "pythonIndentUnit": 4
   },
   "notebookName": "delta_table_staleness_monitor (1)",
   "widgets": {}
  },
  "kernelspec": {
   "display_name": "dotlas",
   "language": "python",
   "name": "python3"
  },
  "language_info": {
   "name": "python"
  }
 },
 "nbformat": 4,
 "nbformat_minor": 0
}
