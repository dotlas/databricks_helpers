{
 "cells": [
  {
   "cell_type": "markdown",
   "metadata": {
    "application/vnd.databricks.v1+cell": {
     "cellMetadata": {},
     "inputWidgets": {},
     "nuid": "27fd11cc-a11d-4c9a-9a74-e44f8763a4ce",
     "showTitle": false,
     "title": ""
    }
   },
   "source": [
    "# Requirements\n",
    "## Databricks\n",
    "* A Databricks Workspace & Workspace Access Token\n",
    "* At least one runnable cluster within the workspace\n",
    "\n",
    "## Packages\n",
    "This process relies on a package called `cron-schedule-triggers` which is used to infer the cron-schedule expression. `pandas` for data manipulation and `plotly` for visualization.\n",
    "* <a href=\"https://pypi.org/project/cron-schedule-triggers/#:~:text=Cron%20Schedule%20Triggers%20(CSTriggers)%20is,the%20wild%20to%20choose%20from.\">cron-schedule-triggers</a>\n",
    "* <a href=\"https://pypi.org/project/pandas/\">pandas</a>\n",
    "* <a href=\"https://pypi.org/project/plotly/\">plotly</a>\n",
    "\n"
   ]
  },
  {
   "cell_type": "markdown",
   "metadata": {
    "application/vnd.databricks.v1+cell": {
     "cellMetadata": {},
     "inputWidgets": {},
     "nuid": "760300fa-6924-47b1-b471-40cc1c990670",
     "showTitle": false,
     "title": ""
    }
   },
   "source": [
    "## Import required libraries "
   ]
  },
  {
   "cell_type": "code",
   "execution_count": null,
   "metadata": {
    "application/vnd.databricks.v1+cell": {
     "cellMetadata": {
      "byteLimit": 2048000,
      "rowLimit": 10000
     },
     "inputWidgets": {},
     "nuid": "89018793-50c2-432c-8979-8e287a048ccc",
     "showTitle": false,
     "title": ""
    }
   },
   "outputs": [],
   "source": [
    "import requests\n",
    "from typing import Optional, Callable\n",
    "import pandas as pd\n",
    "import datetime\n",
    "import re\n",
    "\n",
    "from cstriggers.core.trigger import QuartzCron\n",
    "from datetime import timedelta\n",
    "import plotly.express as px\n",
    "\n",
    "\n",
    "import plotly.graph_objects as go\n",
    "import plotly.figure_factory as ff"
   ]
  },
  {
   "cell_type": "markdown",
   "metadata": {
    "application/vnd.databricks.v1+cell": {
     "cellMetadata": {},
     "inputWidgets": {},
     "nuid": "764722d6-53d7-4d0e-93f6-4aa2ad4154d8",
     "showTitle": false,
     "title": ""
    }
   },
   "source": [
    "## Initialize essential Info.\n",
    "**please note: provide the date values in `YYYY-MM-DD` format**"
   ]
  },
  {
   "cell_type": "code",
   "execution_count": null,
   "metadata": {
    "application/vnd.databricks.v1+cell": {
     "cellMetadata": {
      "byteLimit": 2048000,
      "rowLimit": 10000
     },
     "inputWidgets": {},
     "nuid": "249ef86e-0d94-47af-a9a1-6eea8f273919",
     "showTitle": false,
     "title": ""
    }
   },
   "outputs": [],
   "source": [
    "dbutils.widgets.removeAll()\n",
    "\n",
    "dbutils.widgets.text(\"start_date\", \"2023-10-01\")\n",
    "\n",
    "start_date: datetime.datetime = datetime.datetime.strptime(\n",
    "    getArgument(\"start_date\"), \"%Y-%m-%d\"\n",
    ")\n",
    "\n",
    "dbutils.widgets.text(\"end_date\", \"2023-11-05\")\n",
    "\n",
    "end_date: datetime.datetime = datetime.datetime.strptime(\n",
    "    getArgument(\"end_date\"), \"%Y-%m-%d\"\n",
    ")\n",
    "\n",
    "dbutils.widgets.text(\"databricks_url\", \"\")\n",
    "databricks_url: str = getArgument(\"databricks_url\")\n",
    "\n",
    "dbutils.widgets.text(\"databricks_workspace_token\", \"\")\n",
    "databricks_workspace_token: str = getArgument(\"databricks_workspace_token\")\n",
    "\n",
    "headers: dict = {\"Authorization\": f\"Bearer {databricks_workspace_token}\"}"
   ]
  },
  {
   "cell_type": "code",
   "execution_count": null,
   "metadata": {
    "application/vnd.databricks.v1+cell": {
     "cellMetadata": {
      "byteLimit": 2048000,
      "rowLimit": 10000
     },
     "inputWidgets": {},
     "nuid": "9c5b390d-b903-4cec-a8b9-f8855f297f12",
     "showTitle": false,
     "title": ""
    }
   },
   "outputs": [],
   "source": [
    "query_params = {\n",
    "    \"LIST_JOBS_LIMIT\": 100,  # max limit\n",
    "    \"LIST_RUNS_LIMIT\": 25,  # max limit\n",
    "    \"EXPAND_RUNS\": \"true\",\n",
    "    \"EXPAND_TASKS\": \"true\",\n",
    "}"
   ]
  },
  {
   "cell_type": "code",
   "execution_count": null,
   "metadata": {
    "application/vnd.databricks.v1+cell": {
     "cellMetadata": {
      "byteLimit": 2048000,
      "rowLimit": 10000
     },
     "inputWidgets": {},
     "nuid": "131b84b3-735e-46bf-9c0e-5494c55606f9",
     "showTitle": false,
     "title": ""
    }
   },
   "outputs": [],
   "source": [
    "def paginate(\n",
    "    can_paginate: bool,\n",
    "    next_page_token: Optional[str],\n",
    "    url: str,\n",
    "    function_to_call: Callable,\n",
    ") -> None:\n",
    "    \"\"\"\n",
    "    Paginates to the next page if possible\n",
    "    input:\n",
    "        can_paginate [bool]: Boolean info about wheather there is additional info.\n",
    "        next_page_token [str]: Token needed in url query param to paginate to next page.\n",
    "        url [str]: Url used to list the needed info.\n",
    "        function_to_call [Callable]: Function that gets called with the paginated url to paginate further.\n",
    "    output:\n",
    "        None\n",
    "    \"\"\"\n",
    "\n",
    "    if next_page_token:\n",
    "        if \"&page_token\" in url:\n",
    "            url = f\"{url[:url.find('&page_token')]}&page_token={next_page_token}\"\n",
    "        else:\n",
    "            url = f\"{url}&page_token={next_page_token}\"\n",
    "        getAllJobs(url)\n",
    "    else:\n",
    "        return"
   ]
  },
  {
   "cell_type": "markdown",
   "metadata": {},
   "source": [
    "## Steps 📊\n",
    "\n",
    "### 1. Fetch Workflows and Runs 🏃‍♂️\n",
    "\n",
    "This notebook begins by fetching all the [workflows](https://docs.databricks.com/api/workspace/jobs/list) in your Databricks workspace. It also retrieves information about the [runs](https://docs.databricks.com/api/workspace/runs/list) that have occurred within a specified date range, which is provided by the user.\n",
    "\n",
    "### 2. Parse the fetched info 🧩\n",
    "Workflows have a schedule which is defined using a `quartz_cron-expression` using which we generate the dates of next runs.\n",
    "\n",
    "### 3. Visualizations 📈\n",
    "\n",
    "The notebook provides three insightful visualizations:\n",
    "\n",
    "- **First Scheduled Run of All Workflows**: Visualizes the first scheduled run of each workflow since the start date.\n",
    "\n",
    "- **Scheduled Runs Between Start and End Date**: Shows all scheduled runs that occurred within the specified date range.\n",
    "\n",
    "- **All Runs Since Start Date with Time Taken**: Displays all runs that have occurred since the start date, plotting them along with their execution time for performance analysis.\n",
    "\n"
   ]
  },
  {
   "cell_type": "markdown",
   "metadata": {
    "application/vnd.databricks.v1+cell": {
     "cellMetadata": {},
     "inputWidgets": {},
     "nuid": "6f8a1915-b729-448f-a87f-536f0e8e01ef",
     "showTitle": false,
     "title": ""
    }
   },
   "source": [
    "## List workflows \n",
    "#### Fetches all workflows in current workspace and its respective configs\n",
    "<a href=\"https://docs.databricks.com/api/workspace/jobs/list\">API Docs</a>\n"
   ]
  },
  {
   "cell_type": "code",
   "execution_count": null,
   "metadata": {
    "application/vnd.databricks.v1+cell": {
     "cellMetadata": {
      "byteLimit": 2048000,
      "rowLimit": 10000
     },
     "inputWidgets": {},
     "nuid": "07dcd0ca-de2a-474b-be0b-906ebb6d9bd0",
     "showTitle": false,
     "title": ""
    }
   },
   "outputs": [],
   "source": [
    "def getAllJobs(list_jobs_url: str) -> None:\n",
    "    \"\"\"\n",
    "    Fetches all the jobs and metadata about them.\n",
    "    input:\n",
    "        lists_jobs_url [str]: Databricks API used to fetch all the jobs.\n",
    "    output:\n",
    "        None\n",
    "    \"\"\"\n",
    "\n",
    "    response = requests.get(\n",
    "        list_jobs_url,\n",
    "        headers=headers,\n",
    "    )\n",
    "    assert response.status_code == 200\n",
    "\n",
    "    response_data = response.json()\n",
    "\n",
    "    for job in response_data.get(\"jobs\", []):\n",
    "        if job.get(\"settings\", {}).get(\"schedule\"):\n",
    "            jobs[job.get(\"job_id\")] = {\n",
    "                \"name\": job.get(\"settings\", {}).get(\"name\"),\n",
    "                \"quartz_cron_expression\": job.get(\"settings\", {})\n",
    "                .get(\"schedule\", {})\n",
    "                .get(\"quartz_cron_expression\")\n",
    "                .lower(),\n",
    "            }\n",
    "\n",
    "    paginate(\n",
    "        response_data.get(\"has_more\", False),\n",
    "        response_data.get(\"next_page_token\"),\n",
    "        list_jobs_url,\n",
    "        getAllJobs,\n",
    "    )\n",
    "\n",
    "\n",
    "jobs = {}  # holds all jobs' info\n",
    "list_jobs_url = f\"{databricks_url}/api/2.1/jobs/list?limit={query_params.get('LIST_JOBS_LIMIT')}&expand_tasks={query_params['EXPAND_TASKS']}\"\n",
    "getAllJobs(list_jobs_url)"
   ]
  },
  {
   "cell_type": "markdown",
   "metadata": {
    "application/vnd.databricks.v1+cell": {
     "cellMetadata": {},
     "inputWidgets": {},
     "nuid": "e7996e9d-3e42-4be9-9d8e-5d814d1887f3",
     "showTitle": false,
     "title": ""
    }
   },
   "source": [
    "## Parse the fetched data\n",
    "#### Infer the cron expression and calculate the next run.  \n",
    "#### Additionally you can also categorize workflows based on the title, as this category is what determines the colour of the plotted workflow."
   ]
  },
  {
   "cell_type": "code",
   "execution_count": null,
   "metadata": {
    "application/vnd.databricks.v1+cell": {
     "cellMetadata": {
      "byteLimit": 2048000,
      "rowLimit": 10000
     },
     "inputWidgets": {},
     "nuid": "fcfbf534-33c4-4f04-9157-002ba0858386",
     "showTitle": false,
     "title": ""
    }
   },
   "outputs": [],
   "source": [
    "def categorizeWorkflow(workflow_title: str) -> str:\n",
    "    \"\"\"You can add custom grouping logic. as this will be used to\n",
    "    group the workflows, as they will be coloured based on their categories\n",
    "    in the plot.\n",
    "    input:\n",
    "        workflow_title : str\n",
    "    output:\n",
    "        category : str\n",
    "    \"\"\"\n",
    "\n",
    "    category = workflow_title  # add custom logic to categorize the workflow\n",
    "    return category\n",
    "\n",
    "\n",
    "for job_id, job_info in jobs.items():\n",
    "    cron_expression = job_info[\"quartz_cron_expression\"]\n",
    "\n",
    "    cron_obj = QuartzCron(\n",
    "        schedule_string=cron_expression,\n",
    "        start_date=start_date,  # This is the start date based on which the next scheduled run is generated. You can change it as per your needs.\n",
    "    )\n",
    "\n",
    "    next_scheduled_run = cron_obj.next_trigger(isoformat=False)\n",
    "    # print(next_scheduled_run)\n",
    "    jobs[job_id][\"next_scheduled_run\"] = next_scheduled_run\n",
    "    jobs[job_id][\"workflow_category\"] = categorizeWorkflow(jobs[job_id][\"name\"])"
   ]
  },
  {
   "cell_type": "markdown",
   "metadata": {
    "application/vnd.databricks.v1+cell": {
     "cellMetadata": {},
     "inputWidgets": {},
     "nuid": "083dcc0f-f5fd-4a3b-b1ea-71c8cda66492",
     "showTitle": false,
     "title": ""
    }
   },
   "source": [
    "## Jitter workflows\n",
    "#### Sometimes workflows maybe scheduled too close to each other, this causes them to be too close to each other in the visualization, thus we jitter the workflows slighlty so as to obtain a neat visualization."
   ]
  },
  {
   "cell_type": "code",
   "execution_count": null,
   "metadata": {
    "application/vnd.databricks.v1+cell": {
     "cellMetadata": {
      "byteLimit": 2048000,
      "rowLimit": 10000
     },
     "inputWidgets": {},
     "nuid": "92f15423-f544-46f1-b040-9d1e6b96b895",
     "showTitle": false,
     "title": ""
    }
   },
   "outputs": [],
   "source": [
    "def jitterPoints(df: pd.DataFrame) -> pd.DataFrame:\n",
    "    \"\"\"If two workflow's have schedules too close to each other\n",
    "    then this function moves them a bit away from each other\n",
    "    so that the visualization is neat\"\"\"\n",
    "    # Initialize a flag to keep track of whether any adjustments were made\n",
    "    adjusted = True\n",
    "    max_iterations = 2  # Set a maximum number of iterations, increase if you have a lot of conflicting workflow schedules.\n",
    "    jitter_minutes = 10  # adjust based on need\n",
    "\n",
    "    iteration = 0\n",
    "    while adjusted and iteration < max_iterations:\n",
    "        adjusted = False\n",
    "\n",
    "        for i in range(1, len(df)):\n",
    "            diff = df[\"start_datetime\"].iloc[i] - df[\"start_datetime\"].iloc[i - 1]\n",
    "\n",
    "            if diff <= timedelta(minutes=10):\n",
    "                # Adjust the start time of the current event\n",
    "                df[\"start_datetime\"].iloc[i] = df[\"start_datetime\"].iloc[\n",
    "                    i - 1\n",
    "                ] + timedelta(minutes=jitter_minutes)\n",
    "                adjusted = True\n",
    "\n",
    "        iteration += 1\n",
    "    return df"
   ]
  },
  {
   "cell_type": "markdown",
   "metadata": {
    "application/vnd.databricks.v1+cell": {
     "cellMetadata": {},
     "inputWidgets": {},
     "nuid": "ead81d1a-8a7e-45ff-a444-22fc0ae1cc1d",
     "showTitle": false,
     "title": ""
    }
   },
   "source": [
    "## Plot the all the result"
   ]
  },
  {
   "cell_type": "code",
   "execution_count": null,
   "metadata": {
    "application/vnd.databricks.v1+cell": {
     "cellMetadata": {
      "byteLimit": 2048000,
      "rowLimit": 10000
     },
     "inputWidgets": {},
     "nuid": "4d3b675a-9a3f-41ec-8551-2900c7616383",
     "showTitle": false,
     "title": ""
    }
   },
   "outputs": [
    {
     "data": {
      "text/html": [
       "<html>\n",
       "<head><meta charset=\"utf-8\" /></head>\n",
       "<body>\n",
       "    <div>            <script src=\"https://cdnjs.cloudflare.com/ajax/libs/mathjax/2.7.5/MathJax.js?config=TeX-AMS-MML_SVG\"></script><script type=\"text/javascript\">if (window.MathJax && window.MathJax.Hub && window.MathJax.Hub.Config) {window.MathJax.Hub.Config({SVG: {font: \"STIX-Web\"}});}</script>                <script type=\"text/javascript\">window.PlotlyConfig = {MathJaxConfig: 'local'};</script>\n",
       "        <script src=\"https://cdn.plot.ly/plotly-2.12.1.min.js\"></script>                <div id=\"72fb5cdf-ef62-4c38-958a-eee93bc1d757\" class=\"plotly-graph-div\" style=\"height:700px; width:2000px;\"></div>            <script type=\"text/javascript\">                                    window.PLOTLYENV=window.PLOTLYENV || {};                                    if (document.getElementById(\"72fb5cdf-ef62-4c38-958a-eee93bc1d757\")) {                    Plotly.newPlot(                        \"72fb5cdf-ef62-4c38-958a-eee93bc1d757\",                        [{\"hovertemplate\":\"<b>%{hovertext}</b><br><br>workflow_category=[Full] Doordash Pipeline \\ud83c\\udde6\\ud83c\\uddfa<br>Time of Day (12-hour format)=%{x}<br>Date=%{y}<extra></extra>\",\"hovertext\":[\"[Full] Doordash Pipeline \\ud83c\\udde6\\ud83c\\uddfa\"],\"legendgroup\":\"[Full] Doordash Pipeline \\ud83c\\udde6\\ud83c\\uddfa\",\"marker\":{\"color\":\"#636efa\",\"symbol\":\"circle\",\"size\":15},\"mode\":\"markers\",\"name\":\"[Full] Doordash Pipeline \\ud83c\\udde6\\ud83c\\uddfa\",\"orientation\":\"h\",\"showlegend\":true,\"x\":[0.006666666666666667],\"xaxis\":\"x\",\"y\":[\"2023/10/01\"],\"yaxis\":\"y\",\"type\":\"scatter\"},{\"hovertemplate\":\"<b>%{hovertext}</b><br><br>workflow_category=[Full] Propertyfinder Locations Pipeline \\ud83c\\udde6\\ud83c\\uddea<br>Time of Day (12-hour format)=%{x}<br>Date=%{y}<extra></extra>\",\"hovertext\":[\"[Full] Propertyfinder Locations Pipeline \\ud83c\\udde6\\ud83c\\uddea\"],\"legendgroup\":\"[Full] Propertyfinder Locations Pipeline \\ud83c\\udde6\\ud83c\\uddea\",\"marker\":{\"color\":\"#EF553B\",\"symbol\":\"circle\",\"size\":15},\"mode\":\"markers\",\"name\":\"[Full] Propertyfinder Locations Pipeline \\ud83c\\udde6\\ud83c\\uddea\",\"orientation\":\"h\",\"showlegend\":true,\"x\":[0.1733333333333333],\"xaxis\":\"x\",\"y\":[\"2023/10/01\"],\"yaxis\":\"y\",\"type\":\"scatter\"},{\"hovertemplate\":\"<b>%{hovertext}</b><br><br>workflow_category=[Full] Deliveroo Restaurant Pipeline \\ud83c\\udde6\\ud83c\\uddea<br>Time of Day (12-hour format)=%{x}<br>Date=%{y}<extra></extra>\",\"hovertext\":[\"[Full] Deliveroo Restaurant Pipeline \\ud83c\\udde6\\ud83c\\uddea\"],\"legendgroup\":\"[Full] Deliveroo Restaurant Pipeline \\ud83c\\udde6\\ud83c\\uddea\",\"marker\":{\"color\":\"#00cc96\",\"symbol\":\"circle\",\"size\":15},\"mode\":\"markers\",\"name\":\"[Full] Deliveroo Restaurant Pipeline \\ud83c\\udde6\\ud83c\\uddea\",\"orientation\":\"h\",\"showlegend\":true,\"x\":[16.015],\"xaxis\":\"x\",\"y\":[\"2023/10/01\"],\"yaxis\":\"y\",\"type\":\"scatter\"},{\"hovertemplate\":\"<b>%{hovertext}</b><br><br>workflow_category=[Full] Talabat Restaurant Pipeline \\ud83c\\udde6\\ud83c\\uddea<br>Time of Day (12-hour format)=%{x}<br>Date=%{y}<extra></extra>\",\"hovertext\":[\"[Full] Talabat Restaurant Pipeline \\ud83c\\udde6\\ud83c\\uddea\"],\"legendgroup\":\"[Full] Talabat Restaurant Pipeline \\ud83c\\udde6\\ud83c\\uddea\",\"marker\":{\"color\":\"#ab63fa\",\"symbol\":\"circle\",\"size\":15},\"mode\":\"markers\",\"name\":\"[Full] Talabat Restaurant Pipeline \\ud83c\\udde6\\ud83c\\uddea\",\"orientation\":\"h\",\"showlegend\":true,\"x\":[16.18166666666667],\"xaxis\":\"x\",\"y\":[\"2023/10/01\"],\"yaxis\":\"y\",\"type\":\"scatter\"},{\"hovertemplate\":\"<b>%{hovertext}</b><br><br>workflow_category=[Full] Propertyfinder Price Trends Pipeline \\ud83c\\udde6\\ud83c\\uddea<br>Time of Day (12-hour format)=%{x}<br>Date=%{y}<extra></extra>\",\"hovertext\":[\"[Full] Propertyfinder Price Trends Pipeline \\ud83c\\udde6\\ud83c\\uddea\"],\"legendgroup\":\"[Full] Propertyfinder Price Trends Pipeline \\ud83c\\udde6\\ud83c\\uddea\",\"marker\":{\"color\":\"#FFA15A\",\"symbol\":\"circle\",\"size\":15},\"mode\":\"markers\",\"name\":\"[Full] Propertyfinder Price Trends Pipeline \\ud83c\\udde6\\ud83c\\uddea\",\"orientation\":\"h\",\"showlegend\":true,\"x\":[18.008333333333333],\"xaxis\":\"x\",\"y\":[\"2023/10/01\"],\"yaxis\":\"y\",\"type\":\"scatter\"},{\"hovertemplate\":\"<b>%{hovertext}</b><br><br>workflow_category=[Menu] Deliveroo Menu Parse \\ud83c\\udde6\\ud83c\\uddea<br>Time of Day (12-hour format)=%{x}<br>Date=%{y}<extra></extra>\",\"hovertext\":[\"[Menu] Deliveroo Menu Parse \\ud83c\\udde6\\ud83c\\uddea\"],\"legendgroup\":\"[Menu] Deliveroo Menu Parse \\ud83c\\udde6\\ud83c\\uddea\",\"marker\":{\"color\":\"#19d3f3\",\"symbol\":\"circle\",\"size\":15},\"mode\":\"markers\",\"name\":\"[Menu] Deliveroo Menu Parse \\ud83c\\udde6\\ud83c\\uddea\",\"orientation\":\"h\",\"showlegend\":true,\"x\":[0.001388888888888889],\"xaxis\":\"x\",\"y\":[\"2023/10/02\"],\"yaxis\":\"y\",\"type\":\"scatter\"},{\"hovertemplate\":\"<b>%{hovertext}</b><br><br>workflow_category=[Menu] Talabat Menu Parse \\ud83c\\udde6\\ud83c\\uddea<br>Time of Day (12-hour format)=%{x}<br>Date=%{y}<extra></extra>\",\"hovertext\":[\"[Menu] Talabat Menu Parse \\ud83c\\udde6\\ud83c\\uddea\"],\"legendgroup\":\"[Menu] Talabat Menu Parse \\ud83c\\udde6\\ud83c\\uddea\",\"marker\":{\"color\":\"#FF6692\",\"symbol\":\"circle\",\"size\":15},\"mode\":\"markers\",\"name\":\"[Menu] Talabat Menu Parse \\ud83c\\udde6\\ud83c\\uddea\",\"orientation\":\"h\",\"showlegend\":true,\"x\":[0.16805555555555554],\"xaxis\":\"x\",\"y\":[\"2023/10/02\"],\"yaxis\":\"y\",\"type\":\"scatter\"},{\"hovertemplate\":\"<b>%{hovertext}</b><br><br>workflow_category=[Full] Tripadvisor Pipeline \\ud83c\\udde8\\ud83c\\udde6<br>Time of Day (12-hour format)=%{x}<br>Date=%{y}<extra></extra>\",\"hovertext\":[\"[Full] Tripadvisor Pipeline \\ud83c\\udde8\\ud83c\\udde6\"],\"legendgroup\":\"[Full] Tripadvisor Pipeline \\ud83c\\udde8\\ud83c\\udde6\",\"marker\":{\"color\":\"#B6E880\",\"symbol\":\"circle\",\"size\":15},\"mode\":\"markers\",\"name\":\"[Full] Tripadvisor Pipeline \\ud83c\\udde8\\ud83c\\udde6\",\"orientation\":\"h\",\"showlegend\":true,\"x\":[0.3347222222222222],\"xaxis\":\"x\",\"y\":[\"2023/10/02\"],\"yaxis\":\"y\",\"type\":\"scatter\"},{\"hovertemplate\":\"<b>%{hovertext}</b><br><br>workflow_category=[Full] Tripadvisor Pipeline \\ud83c\\udde6\\ud83c\\uddea<br>Time of Day (12-hour format)=%{x}<br>Date=%{y}<extra></extra>\",\"hovertext\":[\"[Full] Tripadvisor Pipeline \\ud83c\\udde6\\ud83c\\uddea\"],\"legendgroup\":\"[Full] Tripadvisor Pipeline \\ud83c\\udde6\\ud83c\\uddea\",\"marker\":{\"color\":\"#FF97FF\",\"symbol\":\"circle\",\"size\":15},\"mode\":\"markers\",\"name\":\"[Full] Tripadvisor Pipeline \\ud83c\\udde6\\ud83c\\uddea\",\"orientation\":\"h\",\"showlegend\":true,\"x\":[0.5013888888888889],\"xaxis\":\"x\",\"y\":[\"2023/10/02\"],\"yaxis\":\"y\",\"type\":\"scatter\"},{\"hovertemplate\":\"<b>%{hovertext}</b><br><br>workflow_category=[Full] DesignMyNight Pipeline \\ud83c\\uddec\\ud83c\\udde7 (London)<br>Time of Day (12-hour format)=%{x}<br>Date=%{y}<extra></extra>\",\"hovertext\":[\"[Full] DesignMyNight Pipeline \\ud83c\\uddec\\ud83c\\udde7 (London)\"],\"legendgroup\":\"[Full] DesignMyNight Pipeline \\ud83c\\uddec\\ud83c\\udde7 (London)\",\"marker\":{\"color\":\"#FECB52\",\"symbol\":\"circle\",\"size\":15},\"mode\":\"markers\",\"name\":\"[Full] DesignMyNight Pipeline \\ud83c\\uddec\\ud83c\\udde7 (London)\",\"orientation\":\"h\",\"showlegend\":true,\"x\":[0.6680555555555555],\"xaxis\":\"x\",\"y\":[\"2023/10/02\"],\"yaxis\":\"y\",\"type\":\"scatter\"},{\"hovertemplate\":\"<b>%{hovertext}</b><br><br>workflow_category=[Full] Talabat Pipeline \\ud83c\\udde7\\ud83c\\udded<br>Time of Day (12-hour format)=%{x}<br>Date=%{y}<extra></extra>\",\"hovertext\":[\"[Full] Talabat Pipeline \\ud83c\\udde7\\ud83c\\udded\"],\"legendgroup\":\"[Full] Talabat Pipeline \\ud83c\\udde7\\ud83c\\udded\",\"marker\":{\"color\":\"#636efa\",\"symbol\":\"circle\",\"size\":15},\"mode\":\"markers\",\"name\":\"[Full] Talabat Pipeline \\ud83c\\udde7\\ud83c\\udded\",\"orientation\":\"h\",\"showlegend\":true,\"x\":[0.8347222222222223],\"xaxis\":\"x\",\"y\":[\"2023/10/02\"],\"yaxis\":\"y\",\"type\":\"scatter\"},{\"hovertemplate\":\"<b>%{hovertext}</b><br><br>workflow_category=[Full] Opentable Pipeline \\ud83c\\udf0e<br>Time of Day (12-hour format)=%{x}<br>Date=%{y}<extra></extra>\",\"hovertext\":[\"[Full] Opentable Pipeline \\ud83c\\udf0e\"],\"legendgroup\":\"[Full] Opentable Pipeline \\ud83c\\udf0e\",\"marker\":{\"color\":\"#EF553B\",\"symbol\":\"circle\",\"size\":15},\"mode\":\"markers\",\"name\":\"[Full] Opentable Pipeline \\ud83c\\udf0e\",\"orientation\":\"h\",\"showlegend\":true,\"x\":[1.0013888888888889],\"xaxis\":\"x\",\"y\":[\"2023/10/02\"],\"yaxis\":\"y\",\"type\":\"scatter\"},{\"hovertemplate\":\"<b>%{hovertext}</b><br><br>workflow_category=[Full] Michelinguide Pipeline \\ud83c\\udf0e<br>Time of Day (12-hour format)=%{x}<br>Date=%{y}<extra></extra>\",\"hovertext\":[\"[Full] Michelinguide Pipeline \\ud83c\\udf0e\"],\"legendgroup\":\"[Full] Michelinguide Pipeline \\ud83c\\udf0e\",\"marker\":{\"color\":\"#00cc96\",\"symbol\":\"circle\",\"size\":15},\"mode\":\"markers\",\"name\":\"[Full] Michelinguide Pipeline \\ud83c\\udf0e\",\"orientation\":\"h\",\"showlegend\":true,\"x\":[1.1680555555555556],\"xaxis\":\"x\",\"y\":[\"2023/10/02\"],\"yaxis\":\"y\",\"type\":\"scatter\"},{\"hovertemplate\":\"<b>%{hovertext}</b><br><br>workflow_category=[Full] Ladiesnightdubai Pipeline \\ud83c\\udde6\\ud83c\\uddea<br>Time of Day (12-hour format)=%{x}<br>Date=%{y}<extra></extra>\",\"hovertext\":[\"[Full] Ladiesnightdubai Pipeline \\ud83c\\udde6\\ud83c\\uddea\"],\"legendgroup\":\"[Full] Ladiesnightdubai Pipeline \\ud83c\\udde6\\ud83c\\uddea\",\"marker\":{\"color\":\"#ab63fa\",\"symbol\":\"circle\",\"size\":15},\"mode\":\"markers\",\"name\":\"[Full] Ladiesnightdubai Pipeline \\ud83c\\udde6\\ud83c\\uddea\",\"orientation\":\"h\",\"showlegend\":true,\"x\":[1.3347222222222221],\"xaxis\":\"x\",\"y\":[\"2023/10/02\"],\"yaxis\":\"y\",\"type\":\"scatter\"},{\"hovertemplate\":\"<b>%{hovertext}</b><br><br>workflow_category=[Full] Zomato Restaurant Pipeline \\ud83c\\udde6\\ud83c\\uddea<br>Time of Day (12-hour format)=%{x}<br>Date=%{y}<extra></extra>\",\"hovertext\":[\"[Full] Zomato Restaurant Pipeline \\ud83c\\udde6\\ud83c\\uddea\"],\"legendgroup\":\"[Full] Zomato Restaurant Pipeline \\ud83c\\udde6\\ud83c\\uddea\",\"marker\":{\"color\":\"#FFA15A\",\"symbol\":\"circle\",\"size\":15},\"mode\":\"markers\",\"name\":\"[Full] Zomato Restaurant Pipeline \\ud83c\\udde6\\ud83c\\uddea\",\"orientation\":\"h\",\"showlegend\":true,\"x\":[1.5013888888888889],\"xaxis\":\"x\",\"y\":[\"2023/10/02\"],\"yaxis\":\"y\",\"type\":\"scatter\"},{\"hovertemplate\":\"<b>%{hovertext}</b><br><br>workflow_category=[Clients] PropAI Data Delivery \\ud83c\\udde6\\ud83c\\uddea<br>Time of Day (12-hour format)=%{x}<br>Date=%{y}<extra></extra>\",\"hovertext\":[\"[Clients] PropAI Data Delivery \\ud83c\\udde6\\ud83c\\uddea\"],\"legendgroup\":\"[Clients] PropAI Data Delivery \\ud83c\\udde6\\ud83c\\uddea\",\"marker\":{\"color\":\"#19d3f3\",\"symbol\":\"circle\",\"size\":15},\"mode\":\"markers\",\"name\":\"[Clients] PropAI Data Delivery \\ud83c\\udde6\\ud83c\\uddea\",\"orientation\":\"h\",\"showlegend\":true,\"x\":[2.502222222222222],\"xaxis\":\"x\",\"y\":[\"2023/10/02\"],\"yaxis\":\"y\",\"type\":\"scatter\"},{\"hovertemplate\":\"<b>%{hovertext}</b><br><br>workflow_category=[Full] Talabat Pipeline \\ud83c\\uddf0\\ud83c\\uddfc<br>Time of Day (12-hour format)=%{x}<br>Date=%{y}<extra></extra>\",\"hovertext\":[\"[Full] Talabat Pipeline \\ud83c\\uddf0\\ud83c\\uddfc\"],\"legendgroup\":\"[Full] Talabat Pipeline \\ud83c\\uddf0\\ud83c\\uddfc\",\"marker\":{\"color\":\"#FF6692\",\"symbol\":\"circle\",\"size\":15},\"mode\":\"markers\",\"name\":\"[Full] Talabat Pipeline \\ud83c\\uddf0\\ud83c\\uddfc\",\"orientation\":\"h\",\"showlegend\":true,\"x\":[3.0025],\"xaxis\":\"x\",\"y\":[\"2023/10/02\"],\"yaxis\":\"y\",\"type\":\"scatter\"},{\"hovertemplate\":\"<b>%{hovertext}</b><br><br>workflow_category=[Full] Deliveroo Pipeline \\ud83c\\uddf0\\ud83c\\uddfc<br>Time of Day (12-hour format)=%{x}<br>Date=%{y}<extra></extra>\",\"hovertext\":[\"[Full] Deliveroo Pipeline \\ud83c\\uddf0\\ud83c\\uddfc\"],\"legendgroup\":\"[Full] Deliveroo Pipeline \\ud83c\\uddf0\\ud83c\\uddfc\",\"marker\":{\"color\":\"#B6E880\",\"symbol\":\"circle\",\"size\":15},\"mode\":\"markers\",\"name\":\"[Full] Deliveroo Pipeline \\ud83c\\uddf0\\ud83c\\uddfc\",\"orientation\":\"h\",\"showlegend\":true,\"x\":[3.1691666666666665],\"xaxis\":\"x\",\"y\":[\"2023/10/02\"],\"yaxis\":\"y\",\"type\":\"scatter\"},{\"hovertemplate\":\"<b>%{hovertext}</b><br><br>workflow_category=[Full] Talabat Pipeline \\ud83c\\uddf6\\ud83c\\udde6<br>Time of Day (12-hour format)=%{x}<br>Date=%{y}<extra></extra>\",\"hovertext\":[\"[Full] Talabat Pipeline \\ud83c\\uddf6\\ud83c\\udde6\"],\"legendgroup\":\"[Full] Talabat Pipeline \\ud83c\\uddf6\\ud83c\\udde6\",\"marker\":{\"color\":\"#FF97FF\",\"symbol\":\"circle\",\"size\":15},\"mode\":\"markers\",\"name\":\"[Full] Talabat Pipeline \\ud83c\\uddf6\\ud83c\\udde6\",\"orientation\":\"h\",\"showlegend\":true,\"x\":[6.008611111111111],\"xaxis\":\"x\",\"y\":[\"2023/10/02\"],\"yaxis\":\"y\",\"type\":\"scatter\"},{\"hovertemplate\":\"<b>%{hovertext}</b><br><br>workflow_category=[Full] Tripadvisor Pipeline \\ud83c\\uddf8\\ud83c\\udde6<br>Time of Day (12-hour format)=%{x}<br>Date=%{y}<extra></extra>\",\"hovertext\":[\"[Full] Tripadvisor Pipeline \\ud83c\\uddf8\\ud83c\\udde6\"],\"legendgroup\":\"[Full] Tripadvisor Pipeline \\ud83c\\uddf8\\ud83c\\udde6\",\"marker\":{\"color\":\"#FECB52\",\"symbol\":\"circle\",\"size\":15},\"mode\":\"markers\",\"name\":\"[Full] Tripadvisor Pipeline \\ud83c\\uddf8\\ud83c\\udde6\",\"orientation\":\"h\",\"showlegend\":true,\"x\":[6.175277777777778],\"xaxis\":\"x\",\"y\":[\"2023/10/02\"],\"yaxis\":\"y\",\"type\":\"scatter\"},{\"hovertemplate\":\"<b>%{hovertext}</b><br><br>workflow_category=[Full] Tripadvisor Pipeline \\ud83c\\uddf0\\ud83c\\uddfc<br>Time of Day (12-hour format)=%{x}<br>Date=%{y}<extra></extra>\",\"hovertext\":[\"[Full] Tripadvisor Pipeline \\ud83c\\uddf0\\ud83c\\uddfc\"],\"legendgroup\":\"[Full] Tripadvisor Pipeline \\ud83c\\uddf0\\ud83c\\uddfc\",\"marker\":{\"color\":\"#636efa\",\"symbol\":\"circle\",\"size\":15},\"mode\":\"markers\",\"name\":\"[Full] Tripadvisor Pipeline \\ud83c\\uddf0\\ud83c\\uddfc\",\"orientation\":\"h\",\"showlegend\":true,\"x\":[8.007777777777777],\"xaxis\":\"x\",\"y\":[\"2023/10/02\"],\"yaxis\":\"y\",\"type\":\"scatter\"},{\"hovertemplate\":\"<b>%{hovertext}</b><br><br>workflow_category=[Full] Talabat Pipeline \\ud83c\\uddf8\\ud83c\\udde6<br>Time of Day (12-hour format)=%{x}<br>Date=%{y}<extra></extra>\",\"hovertext\":[\"[Full] Talabat Pipeline \\ud83c\\uddf8\\ud83c\\udde6\"],\"legendgroup\":\"[Full] Talabat Pipeline \\ud83c\\uddf8\\ud83c\\udde6\",\"marker\":{\"color\":\"#EF553B\",\"symbol\":\"circle\",\"size\":15},\"mode\":\"markers\",\"name\":\"[Full] Talabat Pipeline \\ud83c\\uddf8\\ud83c\\udde6\",\"orientation\":\"h\",\"showlegend\":true,\"x\":[9.016388888888889],\"xaxis\":\"x\",\"y\":[\"2023/10/02\"],\"yaxis\":\"y\",\"type\":\"scatter\"},{\"hovertemplate\":\"<b>%{hovertext}</b><br><br>workflow_category=[Full] Tripadvisor Pipeline \\ud83c\\uddf6\\ud83c\\udde6<br>Time of Day (12-hour format)=%{x}<br>Date=%{y}<extra></extra>\",\"hovertext\":[\"[Full] Tripadvisor Pipeline \\ud83c\\uddf6\\ud83c\\udde6\"],\"legendgroup\":\"[Full] Tripadvisor Pipeline \\ud83c\\uddf6\\ud83c\\udde6\",\"marker\":{\"color\":\"#00cc96\",\"symbol\":\"circle\",\"size\":15},\"mode\":\"markers\",\"name\":\"[Full] Tripadvisor Pipeline \\ud83c\\uddf6\\ud83c\\udde6\",\"orientation\":\"h\",\"showlegend\":true,\"x\":[10.007777777777777],\"xaxis\":\"x\",\"y\":[\"2023/10/02\"],\"yaxis\":\"y\",\"type\":\"scatter\"},{\"hovertemplate\":\"<b>%{hovertext}</b><br><br>workflow_category=[Full] Deliveroo Pipeline \\ud83c\\uddf8\\ud83c\\uddec<br>Time of Day (12-hour format)=%{x}<br>Date=%{y}<extra></extra>\",\"hovertext\":[\"[Full] Deliveroo Pipeline \\ud83c\\uddf8\\ud83c\\uddec\"],\"legendgroup\":\"[Full] Deliveroo Pipeline \\ud83c\\uddf8\\ud83c\\uddec\",\"marker\":{\"color\":\"#ab63fa\",\"symbol\":\"circle\",\"size\":15},\"mode\":\"markers\",\"name\":\"[Full] Deliveroo Pipeline \\ud83c\\uddf8\\ud83c\\uddec\",\"orientation\":\"h\",\"showlegend\":true,\"x\":[12.004722222222222],\"xaxis\":\"x\",\"y\":[\"2023/10/02\"],\"yaxis\":\"y\",\"type\":\"scatter\"},{\"hovertemplate\":\"<b>%{hovertext}</b><br><br>workflow_category=[Full] Tripadvisor Pipeline \\ud83c\\udde7\\ud83c\\udded<br>Time of Day (12-hour format)=%{x}<br>Date=%{y}<extra></extra>\",\"hovertext\":[\"[Full] Tripadvisor Pipeline \\ud83c\\udde7\\ud83c\\udded\"],\"legendgroup\":\"[Full] Tripadvisor Pipeline \\ud83c\\udde7\\ud83c\\udded\",\"marker\":{\"color\":\"#FFA15A\",\"symbol\":\"circle\",\"size\":15},\"mode\":\"markers\",\"name\":\"[Full] Tripadvisor Pipeline \\ud83c\\udde7\\ud83c\\udded\",\"orientation\":\"h\",\"showlegend\":true,\"x\":[12.171388888888888],\"xaxis\":\"x\",\"y\":[\"2023/10/02\"],\"yaxis\":\"y\",\"type\":\"scatter\"},{\"hovertemplate\":\"<b>%{hovertext}</b><br><br>workflow_category=[Full] Deliveroo Pipeline \\ud83c\\udded\\ud83c\\uddf0<br>Time of Day (12-hour format)=%{x}<br>Date=%{y}<extra></extra>\",\"hovertext\":[\"[Full] Deliveroo Pipeline \\ud83c\\udded\\ud83c\\uddf0\"],\"legendgroup\":\"[Full] Deliveroo Pipeline \\ud83c\\udded\\ud83c\\uddf0\",\"marker\":{\"color\":\"#19d3f3\",\"symbol\":\"circle\",\"size\":15},\"mode\":\"markers\",\"name\":\"[Full] Deliveroo Pipeline \\ud83c\\udded\\ud83c\\uddf0\",\"orientation\":\"h\",\"showlegend\":true,\"x\":[14.015555555555556],\"xaxis\":\"x\",\"y\":[\"2023/10/02\"],\"yaxis\":\"y\",\"type\":\"scatter\"},{\"hovertemplate\":\"<b>%{hovertext}</b><br><br>workflow_category=[Full] Deliveroo Pipeline \\ud83c\\uddee\\ud83c\\uddea<br>Time of Day (12-hour format)=%{x}<br>Date=%{y}<extra></extra>\",\"hovertext\":[\"[Full] Deliveroo Pipeline \\ud83c\\uddee\\ud83c\\uddea\"],\"legendgroup\":\"[Full] Deliveroo Pipeline \\ud83c\\uddee\\ud83c\\uddea\",\"marker\":{\"color\":\"#FF6692\",\"symbol\":\"circle\",\"size\":15},\"mode\":\"markers\",\"name\":\"[Full] Deliveroo Pipeline \\ud83c\\uddee\\ud83c\\uddea\",\"orientation\":\"h\",\"showlegend\":true,\"x\":[19.015555555555554],\"xaxis\":\"x\",\"y\":[\"2023/10/02\"],\"yaxis\":\"y\",\"type\":\"scatter\"},{\"hovertemplate\":\"<b>%{hovertext}</b><br><br>workflow_category=[Full] Deliveroo Pipeline \\ud83c\\uddec\\ud83c\\udde7<br>Time of Day (12-hour format)=%{x}<br>Date=%{y}<extra></extra>\",\"hovertext\":[\"[Full] Deliveroo Pipeline \\ud83c\\uddec\\ud83c\\udde7\"],\"legendgroup\":\"[Full] Deliveroo Pipeline \\ud83c\\uddec\\ud83c\\udde7\",\"marker\":{\"color\":\"#B6E880\",\"symbol\":\"circle\",\"size\":15},\"mode\":\"markers\",\"name\":\"[Full] Deliveroo Pipeline \\ud83c\\uddec\\ud83c\\udde7\",\"orientation\":\"h\",\"showlegend\":true,\"x\":[20.015555555555554],\"xaxis\":\"x\",\"y\":[\"2023/10/02\"],\"yaxis\":\"y\",\"type\":\"scatter\"},{\"hovertemplate\":\"<b>%{hovertext}</b><br><br>workflow_category=[Full] Deliveroo Pipeline \\ud83c\\uddeb\\ud83c\\uddf7<br>Time of Day (12-hour format)=%{x}<br>Date=%{y}<extra></extra>\",\"hovertext\":[\"[Full] Deliveroo Pipeline \\ud83c\\uddeb\\ud83c\\uddf7\"],\"legendgroup\":\"[Full] Deliveroo Pipeline \\ud83c\\uddeb\\ud83c\\uddf7\",\"marker\":{\"color\":\"#FF97FF\",\"symbol\":\"circle\",\"size\":15},\"mode\":\"markers\",\"name\":\"[Full] Deliveroo Pipeline \\ud83c\\uddeb\\ud83c\\uddf7\",\"orientation\":\"h\",\"showlegend\":true,\"x\":[20.015555555555554],\"xaxis\":\"x\",\"y\":[\"2023/10/03\"],\"yaxis\":\"y\",\"type\":\"scatter\"},{\"hovertemplate\":\"<b>%{hovertext}</b><br><br>workflow_category=[Full] Deliveroo Pipeline \\ud83c\\udde7\\ud83c\\uddea<br>Time of Day (12-hour format)=%{x}<br>Date=%{y}<extra></extra>\",\"hovertext\":[\"[Full] Deliveroo Pipeline \\ud83c\\udde7\\ud83c\\uddea\"],\"legendgroup\":\"[Full] Deliveroo Pipeline \\ud83c\\udde7\\ud83c\\uddea\",\"marker\":{\"color\":\"#FECB52\",\"symbol\":\"circle\",\"size\":15},\"mode\":\"markers\",\"name\":\"[Full] Deliveroo Pipeline \\ud83c\\udde7\\ud83c\\uddea\",\"orientation\":\"h\",\"showlegend\":true,\"x\":[19.015555555555554],\"xaxis\":\"x\",\"y\":[\"2023/10/04\"],\"yaxis\":\"y\",\"type\":\"scatter\"},{\"hovertemplate\":\"<b>%{hovertext}</b><br><br>workflow_category=[Full] Deliveroo Pipeline \\ud83c\\uddee\\ud83c\\uddf9<br>Time of Day (12-hour format)=%{x}<br>Date=%{y}<extra></extra>\",\"hovertext\":[\"[Full] Deliveroo Pipeline \\ud83c\\uddee\\ud83c\\uddf9\"],\"legendgroup\":\"[Full] Deliveroo Pipeline \\ud83c\\uddee\\ud83c\\uddf9\",\"marker\":{\"color\":\"#636efa\",\"symbol\":\"circle\",\"size\":15},\"mode\":\"markers\",\"name\":\"[Full] Deliveroo Pipeline \\ud83c\\uddee\\ud83c\\uddf9\",\"orientation\":\"h\",\"showlegend\":true,\"x\":[21.015555555555554],\"xaxis\":\"x\",\"y\":[\"2023/10/04\"],\"yaxis\":\"y\",\"type\":\"scatter\"},{\"hovertemplate\":\"<b>%{hovertext}</b><br><br>workflow_category=[Full] Bayut Listings Pipeline \\ud83c\\udde6\\ud83c\\uddea<br>Time of Day (12-hour format)=%{x}<br>Date=%{y}<extra></extra>\",\"hovertext\":[\"[Full] Bayut Listings Pipeline \\ud83c\\udde6\\ud83c\\uddea\"],\"legendgroup\":\"[Full] Bayut Listings Pipeline \\ud83c\\udde6\\ud83c\\uddea\",\"marker\":{\"color\":\"#EF553B\",\"symbol\":\"circle\",\"size\":15},\"mode\":\"markers\",\"name\":\"[Full] Bayut Listings Pipeline \\ud83c\\udde6\\ud83c\\uddea\",\"orientation\":\"h\",\"showlegend\":true,\"x\":[18.006944444444443],\"xaxis\":\"x\",\"y\":[\"2023/10/05\"],\"yaxis\":\"y\",\"type\":\"scatter\"},{\"hovertemplate\":\"<b>%{hovertext}</b><br><br>workflow_category=[Full] Wasalt Pipeline \\ud83c\\uddf8\\ud83c\\udde6<br>Time of Day (12-hour format)=%{x}<br>Date=%{y}<extra></extra>\",\"hovertext\":[\"[Full] Wasalt Pipeline \\ud83c\\uddf8\\ud83c\\udde6\"],\"legendgroup\":\"[Full] Wasalt Pipeline \\ud83c\\uddf8\\ud83c\\udde6\",\"marker\":{\"color\":\"#00cc96\",\"symbol\":\"circle\",\"size\":15},\"mode\":\"markers\",\"name\":\"[Full] Wasalt Pipeline \\ud83c\\uddf8\\ud83c\\udde6\",\"orientation\":\"h\",\"showlegend\":true,\"x\":[0.004722222222222222],\"xaxis\":\"x\",\"y\":[\"2023/10/06\"],\"yaxis\":\"y\",\"type\":\"scatter\"},{\"hovertemplate\":\"<b>%{hovertext}</b><br><br>workflow_category=[Full] Propertyfinder Listings Pipeline \\ud83c\\udde6\\ud83c\\uddea<br>Time of Day (12-hour format)=%{x}<br>Date=%{y}<extra></extra>\",\"hovertext\":[\"[Full] Propertyfinder Listings Pipeline \\ud83c\\udde6\\ud83c\\uddea\"],\"legendgroup\":\"[Full] Propertyfinder Listings Pipeline \\ud83c\\udde6\\ud83c\\uddea\",\"marker\":{\"color\":\"#ab63fa\",\"symbol\":\"circle\",\"size\":15},\"mode\":\"markers\",\"name\":\"[Full] Propertyfinder Listings Pipeline \\ud83c\\udde6\\ud83c\\uddea\",\"orientation\":\"h\",\"showlegend\":true,\"x\":[0.17138888888888887],\"xaxis\":\"x\",\"y\":[\"2023/10/06\"],\"yaxis\":\"y\",\"type\":\"scatter\"},{\"hovertemplate\":\"<b>%{hovertext}</b><br><br>workflow_category=[Full] Zoomproperty Pipeline \\ud83c\\udde6\\ud83c\\uddea<br>Time of Day (12-hour format)=%{x}<br>Date=%{y}<extra></extra>\",\"hovertext\":[\"[Full] Zoomproperty Pipeline \\ud83c\\udde6\\ud83c\\uddea\"],\"legendgroup\":\"[Full] Zoomproperty Pipeline \\ud83c\\udde6\\ud83c\\uddea\",\"marker\":{\"color\":\"#FFA15A\",\"symbol\":\"circle\",\"size\":15},\"mode\":\"markers\",\"name\":\"[Full] Zoomproperty Pipeline \\ud83c\\udde6\\ud83c\\uddea\",\"orientation\":\"h\",\"showlegend\":true,\"x\":[0.33805555555555555],\"xaxis\":\"x\",\"y\":[\"2023/10/06\"],\"yaxis\":\"y\",\"type\":\"scatter\"},{\"hovertemplate\":\"<b>%{hovertext}</b><br><br>workflow_category=[Full] Bayut Supplementary Data Pipeline \\ud83c\\udde6\\ud83c\\uddea<br>Time of Day (12-hour format)=%{x}<br>Date=%{y}<extra></extra>\",\"hovertext\":[\"[Full] Bayut Supplementary Data Pipeline \\ud83c\\udde6\\ud83c\\uddea\"],\"legendgroup\":\"[Full] Bayut Supplementary Data Pipeline \\ud83c\\udde6\\ud83c\\uddea\",\"marker\":{\"color\":\"#19d3f3\",\"symbol\":\"circle\",\"size\":15},\"mode\":\"markers\",\"name\":\"[Full] Bayut Supplementary Data Pipeline \\ud83c\\udde6\\ud83c\\uddea\",\"orientation\":\"h\",\"showlegend\":true,\"x\":[18.004166666666666],\"xaxis\":\"x\",\"y\":[\"2023/10/06\"],\"yaxis\":\"y\",\"type\":\"scatter\"},{\"hovertemplate\":\"<b>%{hovertext}</b><br><br>workflow_category=[Full] Tripadvisor Pipeline \\ud83c\\udde6\\ud83c\\uddfa<br>Time of Day (12-hour format)=%{x}<br>Date=%{y}<extra></extra>\",\"hovertext\":[\"[Full] Tripadvisor Pipeline \\ud83c\\udde6\\ud83c\\uddfa\"],\"legendgroup\":\"[Full] Tripadvisor Pipeline \\ud83c\\udde6\\ud83c\\uddfa\",\"marker\":{\"color\":\"#FF6692\",\"symbol\":\"circle\",\"size\":15},\"mode\":\"markers\",\"name\":\"[Full] Tripadvisor Pipeline \\ud83c\\udde6\\ud83c\\uddfa\",\"orientation\":\"h\",\"showlegend\":true,\"x\":[18.00583333333333],\"xaxis\":\"x\",\"y\":[\"2023/10/07\"],\"yaxis\":\"y\",\"type\":\"scatter\"},{\"hovertemplate\":\"<b>%{hovertext}</b><br><br>workflow_category=[Slack] Weekly Swarm Report \\ud83d\\udc1d<br>Time of Day (12-hour format)=%{x}<br>Date=%{y}<extra></extra>\",\"hovertext\":[\"[Slack] Weekly Swarm Report \\ud83d\\udc1d\"],\"legendgroup\":\"[Slack] Weekly Swarm Report \\ud83d\\udc1d\",\"marker\":{\"color\":\"#B6E880\",\"symbol\":\"circle\",\"size\":15},\"mode\":\"markers\",\"name\":\"[Slack] Weekly Swarm Report \\ud83d\\udc1d\",\"orientation\":\"h\",\"showlegend\":true,\"x\":[18.00027777777778],\"xaxis\":\"x\",\"y\":[\"2023/10/08\"],\"yaxis\":\"y\",\"type\":\"scatter\"},{\"hovertemplate\":\"<b>%{hovertext}</b><br><br>workflow_category=[Full] Tripadvisor Pipeline \\ud83c\\uddec\\ud83c\\udde7<br>Time of Day (12-hour format)=%{x}<br>Date=%{y}<extra></extra>\",\"hovertext\":[\"[Full] Tripadvisor Pipeline \\ud83c\\uddec\\ud83c\\udde7\"],\"legendgroup\":\"[Full] Tripadvisor Pipeline \\ud83c\\uddec\\ud83c\\udde7\",\"marker\":{\"color\":\"#FF97FF\",\"symbol\":\"circle\",\"size\":15},\"mode\":\"markers\",\"name\":\"[Full] Tripadvisor Pipeline \\ud83c\\uddec\\ud83c\\udde7\",\"orientation\":\"h\",\"showlegend\":true,\"x\":[18.000833333333333],\"xaxis\":\"x\",\"y\":[\"2023/10/10\"],\"yaxis\":\"y\",\"type\":\"scatter\"},{\"hovertemplate\":\"<b>%{hovertext}</b><br><br>workflow_category=[Full] Doordash Pipeline \\ud83c\\udde8\\ud83c\\udde6<br>Time of Day (12-hour format)=%{x}<br>Date=%{y}<extra></extra>\",\"hovertext\":[\"[Full] Doordash Pipeline \\ud83c\\udde8\\ud83c\\udde6\"],\"legendgroup\":\"[Full] Doordash Pipeline \\ud83c\\udde8\\ud83c\\udde6\",\"marker\":{\"color\":\"#FECB52\",\"symbol\":\"circle\",\"size\":15},\"mode\":\"markers\",\"name\":\"[Full] Doordash Pipeline \\ud83c\\udde8\\ud83c\\udde6\",\"orientation\":\"h\",\"showlegend\":true,\"x\":[0.008611111111111111],\"xaxis\":\"x\",\"y\":[\"2023/10/12\"],\"yaxis\":\"y\",\"type\":\"scatter\"},{\"hovertemplate\":\"<b>%{hovertext}</b><br><br>workflow_category=[Full] Tripadvisor Pipeline \\ud83c\\uddfa\\ud83c\\uddf8<br>Time of Day (12-hour format)=%{x}<br>Date=%{y}<extra></extra>\",\"hovertext\":[\"[Full] Tripadvisor Pipeline \\ud83c\\uddfa\\ud83c\\uddf8\"],\"legendgroup\":\"[Full] Tripadvisor Pipeline \\ud83c\\uddfa\\ud83c\\uddf8\",\"marker\":{\"color\":\"#636efa\",\"symbol\":\"circle\",\"size\":15},\"mode\":\"markers\",\"name\":\"[Full] Tripadvisor Pipeline \\ud83c\\uddfa\\ud83c\\uddf8\",\"orientation\":\"h\",\"showlegend\":true,\"x\":[0.0038888888888888888],\"xaxis\":\"x\",\"y\":[\"2023/10/20\"],\"yaxis\":\"y\",\"type\":\"scatter\"},{\"hovertemplate\":\"<b>%{hovertext}</b><br><br>workflow_category=[Full] Yelp Pipeline \\ud83c\\uddfa\\ud83c\\uddf8<br>Time of Day (12-hour format)=%{x}<br>Date=%{y}<extra></extra>\",\"hovertext\":[\"[Full] Yelp Pipeline \\ud83c\\uddfa\\ud83c\\uddf8\"],\"legendgroup\":\"[Full] Yelp Pipeline \\ud83c\\uddfa\\ud83c\\uddf8\",\"marker\":{\"color\":\"#EF553B\",\"symbol\":\"circle\",\"size\":15},\"mode\":\"markers\",\"name\":\"[Full] Yelp Pipeline \\ud83c\\uddfa\\ud83c\\uddf8\",\"orientation\":\"h\",\"showlegend\":true,\"x\":[0.17055555555555554],\"xaxis\":\"x\",\"y\":[\"2023/10/20\"],\"yaxis\":\"y\",\"type\":\"scatter\"},{\"hovertemplate\":\"<b>%{hovertext}</b><br><br>workflow_category=[Full] Doordash Pipeline \\ud83c\\uddfa\\ud83c\\uddf8<br>Time of Day (12-hour format)=%{x}<br>Date=%{y}<extra></extra>\",\"hovertext\":[\"[Full] Doordash Pipeline \\ud83c\\uddfa\\ud83c\\uddf8\"],\"legendgroup\":\"[Full] Doordash Pipeline \\ud83c\\uddfa\\ud83c\\uddf8\",\"marker\":{\"color\":\"#00cc96\",\"symbol\":\"circle\",\"size\":15},\"mode\":\"markers\",\"name\":\"[Full] Doordash Pipeline \\ud83c\\uddfa\\ud83c\\uddf8\",\"orientation\":\"h\",\"showlegend\":true,\"x\":[0.006666666666666667],\"xaxis\":\"x\",\"y\":[\"2023/10/25\"],\"yaxis\":\"y\",\"type\":\"scatter\"}],                        {\"template\":{\"data\":{\"barpolar\":[{\"marker\":{\"line\":{\"color\":\"white\",\"width\":0.5},\"pattern\":{\"fillmode\":\"overlay\",\"size\":10,\"solidity\":0.2}},\"type\":\"barpolar\"}],\"bar\":[{\"error_x\":{\"color\":\"#2a3f5f\"},\"error_y\":{\"color\":\"#2a3f5f\"},\"marker\":{\"line\":{\"color\":\"white\",\"width\":0.5},\"pattern\":{\"fillmode\":\"overlay\",\"size\":10,\"solidity\":0.2}},\"type\":\"bar\"}],\"carpet\":[{\"aaxis\":{\"endlinecolor\":\"#2a3f5f\",\"gridcolor\":\"#C8D4E3\",\"linecolor\":\"#C8D4E3\",\"minorgridcolor\":\"#C8D4E3\",\"startlinecolor\":\"#2a3f5f\"},\"baxis\":{\"endlinecolor\":\"#2a3f5f\",\"gridcolor\":\"#C8D4E3\",\"linecolor\":\"#C8D4E3\",\"minorgridcolor\":\"#C8D4E3\",\"startlinecolor\":\"#2a3f5f\"},\"type\":\"carpet\"}],\"choropleth\":[{\"colorbar\":{\"outlinewidth\":0,\"ticks\":\"\"},\"type\":\"choropleth\"}],\"contourcarpet\":[{\"colorbar\":{\"outlinewidth\":0,\"ticks\":\"\"},\"type\":\"contourcarpet\"}],\"contour\":[{\"colorbar\":{\"outlinewidth\":0,\"ticks\":\"\"},\"colorscale\":[[0.0,\"#0d0887\"],[0.1111111111111111,\"#46039f\"],[0.2222222222222222,\"#7201a8\"],[0.3333333333333333,\"#9c179e\"],[0.4444444444444444,\"#bd3786\"],[0.5555555555555556,\"#d8576b\"],[0.6666666666666666,\"#ed7953\"],[0.7777777777777778,\"#fb9f3a\"],[0.8888888888888888,\"#fdca26\"],[1.0,\"#f0f921\"]],\"type\":\"contour\"}],\"heatmapgl\":[{\"colorbar\":{\"outlinewidth\":0,\"ticks\":\"\"},\"colorscale\":[[0.0,\"#0d0887\"],[0.1111111111111111,\"#46039f\"],[0.2222222222222222,\"#7201a8\"],[0.3333333333333333,\"#9c179e\"],[0.4444444444444444,\"#bd3786\"],[0.5555555555555556,\"#d8576b\"],[0.6666666666666666,\"#ed7953\"],[0.7777777777777778,\"#fb9f3a\"],[0.8888888888888888,\"#fdca26\"],[1.0,\"#f0f921\"]],\"type\":\"heatmapgl\"}],\"heatmap\":[{\"colorbar\":{\"outlinewidth\":0,\"ticks\":\"\"},\"colorscale\":[[0.0,\"#0d0887\"],[0.1111111111111111,\"#46039f\"],[0.2222222222222222,\"#7201a8\"],[0.3333333333333333,\"#9c179e\"],[0.4444444444444444,\"#bd3786\"],[0.5555555555555556,\"#d8576b\"],[0.6666666666666666,\"#ed7953\"],[0.7777777777777778,\"#fb9f3a\"],[0.8888888888888888,\"#fdca26\"],[1.0,\"#f0f921\"]],\"type\":\"heatmap\"}],\"histogram2dcontour\":[{\"colorbar\":{\"outlinewidth\":0,\"ticks\":\"\"},\"colorscale\":[[0.0,\"#0d0887\"],[0.1111111111111111,\"#46039f\"],[0.2222222222222222,\"#7201a8\"],[0.3333333333333333,\"#9c179e\"],[0.4444444444444444,\"#bd3786\"],[0.5555555555555556,\"#d8576b\"],[0.6666666666666666,\"#ed7953\"],[0.7777777777777778,\"#fb9f3a\"],[0.8888888888888888,\"#fdca26\"],[1.0,\"#f0f921\"]],\"type\":\"histogram2dcontour\"}],\"histogram2d\":[{\"colorbar\":{\"outlinewidth\":0,\"ticks\":\"\"},\"colorscale\":[[0.0,\"#0d0887\"],[0.1111111111111111,\"#46039f\"],[0.2222222222222222,\"#7201a8\"],[0.3333333333333333,\"#9c179e\"],[0.4444444444444444,\"#bd3786\"],[0.5555555555555556,\"#d8576b\"],[0.6666666666666666,\"#ed7953\"],[0.7777777777777778,\"#fb9f3a\"],[0.8888888888888888,\"#fdca26\"],[1.0,\"#f0f921\"]],\"type\":\"histogram2d\"}],\"histogram\":[{\"marker\":{\"pattern\":{\"fillmode\":\"overlay\",\"size\":10,\"solidity\":0.2}},\"type\":\"histogram\"}],\"mesh3d\":[{\"colorbar\":{\"outlinewidth\":0,\"ticks\":\"\"},\"type\":\"mesh3d\"}],\"parcoords\":[{\"line\":{\"colorbar\":{\"outlinewidth\":0,\"ticks\":\"\"}},\"type\":\"parcoords\"}],\"pie\":[{\"automargin\":true,\"type\":\"pie\"}],\"scatter3d\":[{\"line\":{\"colorbar\":{\"outlinewidth\":0,\"ticks\":\"\"}},\"marker\":{\"colorbar\":{\"outlinewidth\":0,\"ticks\":\"\"}},\"type\":\"scatter3d\"}],\"scattercarpet\":[{\"marker\":{\"colorbar\":{\"outlinewidth\":0,\"ticks\":\"\"}},\"type\":\"scattercarpet\"}],\"scattergeo\":[{\"marker\":{\"colorbar\":{\"outlinewidth\":0,\"ticks\":\"\"}},\"type\":\"scattergeo\"}],\"scattergl\":[{\"marker\":{\"colorbar\":{\"outlinewidth\":0,\"ticks\":\"\"}},\"type\":\"scattergl\"}],\"scattermapbox\":[{\"marker\":{\"colorbar\":{\"outlinewidth\":0,\"ticks\":\"\"}},\"type\":\"scattermapbox\"}],\"scatterpolargl\":[{\"marker\":{\"colorbar\":{\"outlinewidth\":0,\"ticks\":\"\"}},\"type\":\"scatterpolargl\"}],\"scatterpolar\":[{\"marker\":{\"colorbar\":{\"outlinewidth\":0,\"ticks\":\"\"}},\"type\":\"scatterpolar\"}],\"scatter\":[{\"fillpattern\":{\"fillmode\":\"overlay\",\"size\":10,\"solidity\":0.2},\"type\":\"scatter\"}],\"scatterternary\":[{\"marker\":{\"colorbar\":{\"outlinewidth\":0,\"ticks\":\"\"}},\"type\":\"scatterternary\"}],\"surface\":[{\"colorbar\":{\"outlinewidth\":0,\"ticks\":\"\"},\"colorscale\":[[0.0,\"#0d0887\"],[0.1111111111111111,\"#46039f\"],[0.2222222222222222,\"#7201a8\"],[0.3333333333333333,\"#9c179e\"],[0.4444444444444444,\"#bd3786\"],[0.5555555555555556,\"#d8576b\"],[0.6666666666666666,\"#ed7953\"],[0.7777777777777778,\"#fb9f3a\"],[0.8888888888888888,\"#fdca26\"],[1.0,\"#f0f921\"]],\"type\":\"surface\"}],\"table\":[{\"cells\":{\"fill\":{\"color\":\"#EBF0F8\"},\"line\":{\"color\":\"white\"}},\"header\":{\"fill\":{\"color\":\"#C8D4E3\"},\"line\":{\"color\":\"white\"}},\"type\":\"table\"}]},\"layout\":{\"annotationdefaults\":{\"arrowcolor\":\"#2a3f5f\",\"arrowhead\":0,\"arrowwidth\":1},\"autotypenumbers\":\"strict\",\"coloraxis\":{\"colorbar\":{\"outlinewidth\":0,\"ticks\":\"\"}},\"colorscale\":{\"diverging\":[[0,\"#8e0152\"],[0.1,\"#c51b7d\"],[0.2,\"#de77ae\"],[0.3,\"#f1b6da\"],[0.4,\"#fde0ef\"],[0.5,\"#f7f7f7\"],[0.6,\"#e6f5d0\"],[0.7,\"#b8e186\"],[0.8,\"#7fbc41\"],[0.9,\"#4d9221\"],[1,\"#276419\"]],\"sequential\":[[0.0,\"#0d0887\"],[0.1111111111111111,\"#46039f\"],[0.2222222222222222,\"#7201a8\"],[0.3333333333333333,\"#9c179e\"],[0.4444444444444444,\"#bd3786\"],[0.5555555555555556,\"#d8576b\"],[0.6666666666666666,\"#ed7953\"],[0.7777777777777778,\"#fb9f3a\"],[0.8888888888888888,\"#fdca26\"],[1.0,\"#f0f921\"]],\"sequentialminus\":[[0.0,\"#0d0887\"],[0.1111111111111111,\"#46039f\"],[0.2222222222222222,\"#7201a8\"],[0.3333333333333333,\"#9c179e\"],[0.4444444444444444,\"#bd3786\"],[0.5555555555555556,\"#d8576b\"],[0.6666666666666666,\"#ed7953\"],[0.7777777777777778,\"#fb9f3a\"],[0.8888888888888888,\"#fdca26\"],[1.0,\"#f0f921\"]]},\"colorway\":[\"#636efa\",\"#EF553B\",\"#00cc96\",\"#ab63fa\",\"#FFA15A\",\"#19d3f3\",\"#FF6692\",\"#B6E880\",\"#FF97FF\",\"#FECB52\"],\"font\":{\"color\":\"#2a3f5f\"},\"geo\":{\"bgcolor\":\"white\",\"lakecolor\":\"white\",\"landcolor\":\"white\",\"showlakes\":true,\"showland\":true,\"subunitcolor\":\"#C8D4E3\"},\"hoverlabel\":{\"align\":\"left\"},\"hovermode\":\"closest\",\"mapbox\":{\"style\":\"light\"},\"paper_bgcolor\":\"white\",\"plot_bgcolor\":\"white\",\"polar\":{\"angularaxis\":{\"gridcolor\":\"#EBF0F8\",\"linecolor\":\"#EBF0F8\",\"ticks\":\"\"},\"bgcolor\":\"white\",\"radialaxis\":{\"gridcolor\":\"#EBF0F8\",\"linecolor\":\"#EBF0F8\",\"ticks\":\"\"}},\"scene\":{\"xaxis\":{\"backgroundcolor\":\"white\",\"gridcolor\":\"#DFE8F3\",\"gridwidth\":2,\"linecolor\":\"#EBF0F8\",\"showbackground\":true,\"ticks\":\"\",\"zerolinecolor\":\"#EBF0F8\"},\"yaxis\":{\"backgroundcolor\":\"white\",\"gridcolor\":\"#DFE8F3\",\"gridwidth\":2,\"linecolor\":\"#EBF0F8\",\"showbackground\":true,\"ticks\":\"\",\"zerolinecolor\":\"#EBF0F8\"},\"zaxis\":{\"backgroundcolor\":\"white\",\"gridcolor\":\"#DFE8F3\",\"gridwidth\":2,\"linecolor\":\"#EBF0F8\",\"showbackground\":true,\"ticks\":\"\",\"zerolinecolor\":\"#EBF0F8\"}},\"shapedefaults\":{\"line\":{\"color\":\"#2a3f5f\"}},\"ternary\":{\"aaxis\":{\"gridcolor\":\"#DFE8F3\",\"linecolor\":\"#A2B1C6\",\"ticks\":\"\"},\"baxis\":{\"gridcolor\":\"#DFE8F3\",\"linecolor\":\"#A2B1C6\",\"ticks\":\"\"},\"bgcolor\":\"white\",\"caxis\":{\"gridcolor\":\"#DFE8F3\",\"linecolor\":\"#A2B1C6\",\"ticks\":\"\"}},\"title\":{\"x\":0.05},\"xaxis\":{\"automargin\":true,\"gridcolor\":\"#EBF0F8\",\"linecolor\":\"#EBF0F8\",\"ticks\":\"\",\"title\":{\"standoff\":15},\"zerolinecolor\":\"#EBF0F8\",\"zerolinewidth\":2},\"yaxis\":{\"automargin\":true,\"gridcolor\":\"#EBF0F8\",\"linecolor\":\"#EBF0F8\",\"ticks\":\"\",\"title\":{\"standoff\":15},\"zerolinecolor\":\"#EBF0F8\",\"zerolinewidth\":2}}},\"xaxis\":{\"anchor\":\"y\",\"domain\":[0.0,1.0],\"title\":{\"text\":\"Time of Day (12-hour format)\"},\"tickmode\":\"array\",\"tickvals\":[1,2,3,4,5,6,7,8,9,10,11,12,13,14,15,16,17,18,19,20,21,22,23,24],\"ticktext\":[\"12 AM\",\"01 AM\",\"02 AM\",\"03 AM\",\"04 AM\",\"05 AM\",\"06 AM\",\"07 AM\",\"08 AM\",\"09 AM\",\"10 AM\",\"11 AM\",\"12 PM\",\"01 PM\",\"02 PM\",\"03 PM\",\"04 PM\",\"05 PM\",\"06 PM\",\"07 PM\",\"08 PM\",\"09 PM\",\"10 PM\",\"11 PM\"]},\"yaxis\":{\"anchor\":\"x\",\"domain\":[0.0,1.0],\"title\":{\"text\":\"Date\"},\"tickmode\":\"array\",\"tickvals\":[0,1,2,3,4,5,6,7,8,9,10,11,12,13,14,15,16,17,18,19,20,21,22,23,24,25,26,27,28,29,30,31,32,33]},\"legend\":{\"title\":{\"text\":\"Workflow Category\"},\"tracegroupgap\":0},\"title\":{\"text\":\"Workflow's first run since 2023-10-01\"},\"showlegend\":true,\"height\":700,\"width\":2000},                        {\"responsive\": true}                    )                };                            </script>        </div>\n",
       "</body>\n",
       "</html>"
      ]
     },
     "metadata": {},
     "output_type": "display_data"
    }
   ],
   "source": [
    "# Adjust the plot dimensions here\n",
    "PLOT_HEIGHT = 700\n",
    "PLOT_WIDTH = 2000\n",
    "POINT_SIZE = 15\n",
    "\n",
    "events = [\n",
    "    {\n",
    "        \"name\": job_info[\"name\"],\n",
    "        \"start_datetime\": job_info[\"next_scheduled_run\"],\n",
    "        \"workflow_category\": job_info[\"workflow_category\"],\n",
    "    }\n",
    "    for job_info in jobs.values()\n",
    "]\n",
    "\n",
    "df = pd.DataFrame(events)\n",
    "\n",
    "df[\"start_datetime\"] = pd.to_datetime(df[\"start_datetime\"])\n",
    "\n",
    "# Sort DataFrame by 'start_datetime'\n",
    "df.sort_values(by=\"start_datetime\", inplace=True)\n",
    "\n",
    "# jitter closeby points\n",
    "df = jitterPoints(df)\n",
    "\n",
    "\n",
    "# Increase the size of all points by adjusting the marker size\n",
    "point_size = POINT_SIZE  # Adjust the size as needed\n",
    "\n",
    "# Create an interactive scatter plot using Plotly Express\n",
    "fig = px.scatter(\n",
    "    df,\n",
    "    x=df[\"start_datetime\"].dt.hour\n",
    "    + df[\"start_datetime\"].dt.minute / 60\n",
    "    + df[\"start_datetime\"].dt.second / 3600,\n",
    "    y=df[\"start_datetime\"].dt.strftime(\"%Y/%m/%d\"),\n",
    "    # y= df['start_datetime'].dt.strftime('%d-%m-%y'),\n",
    "    color=\"workflow_category\",  # Color points by 'workflow_cateogry' column\n",
    "    hover_name=\"name\",  # Display event name on hover\n",
    "    labels={\"x\": \"Time of Day (12-hour format)\", \"y\": \"Date\"},\n",
    "    title=f\"Workflow's first run since {start_date.strftime('%Y-%m-%d')}\",\n",
    "    template=\"plotly_white\",\n",
    ")\n",
    "\n",
    "# Customize the appearance of the plot\n",
    "fig.update_layout(\n",
    "    xaxis=dict(\n",
    "        tickmode=\"array\",\n",
    "        tickvals=list(range(1, 25)),\n",
    "        ticktext=[\n",
    "            \"12 AM\",\n",
    "            \"01 AM\",\n",
    "            \"02 AM\",\n",
    "            \"03 AM\",\n",
    "            \"04 AM\",\n",
    "            \"05 AM\",\n",
    "            \"06 AM\",\n",
    "            \"07 AM\",\n",
    "            \"08 AM\",\n",
    "            \"09 AM\",\n",
    "            \"10 AM\",\n",
    "            \"11 AM\",\n",
    "            \"12 PM\",\n",
    "            \"01 PM\",\n",
    "            \"02 PM\",\n",
    "            \"03 PM\",\n",
    "            \"04 PM\",\n",
    "            \"05 PM\",\n",
    "            \"06 PM\",\n",
    "            \"07 PM\",\n",
    "            \"08 PM\",\n",
    "            \"09 PM\",\n",
    "            \"10 PM\",\n",
    "            \"11 PM\",\n",
    "        ],\n",
    "    ),\n",
    "    yaxis=dict(\n",
    "        tickmode=\"array\",\n",
    "        tickvals=list(\n",
    "            range(\n",
    "                0,\n",
    "                int((df[\"start_datetime\"].iloc[-1] - df[\"start_datetime\"].iloc[0]).days)\n",
    "                + 10,\n",
    "            )\n",
    "        ),\n",
    "    ),\n",
    "    showlegend=True,\n",
    "    legend_title_text=\"Workflow Category\",\n",
    "    height=PLOT_HEIGHT,  # Height of the plot\n",
    "    width=PLOT_WIDTH,  # Width of the plot\n",
    ")\n",
    "\n",
    "# Increase the marker size for all points\n",
    "fig.update_traces(marker=dict(size=point_size))\n",
    "\n",
    "# Show the interactive plot\n",
    "fig.show()"
   ]
  },
  {
   "cell_type": "markdown",
   "metadata": {
    "application/vnd.databricks.v1+cell": {
     "cellMetadata": {},
     "inputWidgets": {},
     "nuid": "a22a7529-72a6-4d56-b183-535e834cb2b6",
     "showTitle": false,
     "title": ""
    }
   },
   "source": [
    "## Calculate all the scheduled runs \n",
    "#### using `start_date` and `end_data` we calculate all the scheduled runs within the data range\n",
    "#### Using `cron-schedule-triggers` we calculate all the next scheduled runs since the mentioned `start_date` "
   ]
  },
  {
   "cell_type": "code",
   "execution_count": null,
   "metadata": {
    "application/vnd.databricks.v1+cell": {
     "cellMetadata": {
      "byteLimit": 2048000,
      "rowLimit": 10000
     },
     "inputWidgets": {},
     "nuid": "801365b4-09b4-4654-bd1d-018f3b38ae4b",
     "showTitle": false,
     "title": ""
    }
   },
   "outputs": [],
   "source": [
    "all_scheduled_runs = []\n",
    "for job_id, job_info in jobs.items():\n",
    "    cron_expression = job_info[\"quartz_cron_expression\"]\n",
    "\n",
    "    cron_obj = QuartzCron(\n",
    "        schedule_string=cron_expression,\n",
    "        start_date=start_date,\n",
    "    )\n",
    "\n",
    "    next_scheduled_run = cron_obj.next_trigger(isoformat=False)\n",
    "    runs = []\n",
    "    while next_scheduled_run <= end_date:\n",
    "        runs.append(next_scheduled_run)\n",
    "        next_scheduled_run = cron_obj.next_trigger(isoformat=False)\n",
    "\n",
    "    for run in runs:\n",
    "        all_scheduled_runs.append(\n",
    "            {\n",
    "                \"name\": jobs[job_id][\"name\"],\n",
    "                \"start_datetime\": run,\n",
    "                \"workflow_category\": jobs[job_id][\"workflow_category\"],\n",
    "            }\n",
    "        )"
   ]
  },
  {
   "cell_type": "markdown",
   "metadata": {
    "application/vnd.databricks.v1+cell": {
     "cellMetadata": {},
     "inputWidgets": {},
     "nuid": "4bdc6843-0f7b-472c-a1db-7398497399ea",
     "showTitle": false,
     "title": ""
    }
   },
   "source": [
    "## Plot the result"
   ]
  },
  {
   "cell_type": "code",
   "execution_count": null,
   "metadata": {
    "application/vnd.databricks.v1+cell": {
     "cellMetadata": {
      "byteLimit": 2048000,
      "rowLimit": 10000
     },
     "inputWidgets": {},
     "nuid": "da04d5ee-cf9d-441c-a1d2-95bab6a46eed",
     "showTitle": false,
     "title": ""
    }
   },
   "outputs": [
    {
     "data": {
      "text/html": [
       "<html>\n",
       "<head><meta charset=\"utf-8\" /></head>\n",
       "<body>\n",
       "    <div>            <script src=\"https://cdnjs.cloudflare.com/ajax/libs/mathjax/2.7.5/MathJax.js?config=TeX-AMS-MML_SVG\"></script><script type=\"text/javascript\">if (window.MathJax && window.MathJax.Hub && window.MathJax.Hub.Config) {window.MathJax.Hub.Config({SVG: {font: \"STIX-Web\"}});}</script>                <script type=\"text/javascript\">window.PlotlyConfig = {MathJaxConfig: 'local'};</script>\n",
       "        <script src=\"https://cdn.plot.ly/plotly-2.12.1.min.js\"></script>                <div id=\"1679dd2a-aa95-48f9-8d8d-35c4bd8c9cad\" class=\"plotly-graph-div\" style=\"height:700px; width:2000px;\"></div>            <script type=\"text/javascript\">                                    window.PLOTLYENV=window.PLOTLYENV || {};                                    if (document.getElementById(\"1679dd2a-aa95-48f9-8d8d-35c4bd8c9cad\")) {                    Plotly.newPlot(                        \"1679dd2a-aa95-48f9-8d8d-35c4bd8c9cad\",                        [{\"hovertemplate\":\"<b>%{hovertext}</b><br><br>workflow_category=[Full] Doordash Pipeline \\ud83c\\udde6\\ud83c\\uddfa<br>Time of Day (12-hour format)=%{x}<br>Date=%{y}<extra></extra>\",\"hovertext\":[\"[Full] Doordash Pipeline \\ud83c\\udde6\\ud83c\\uddfa\",\"[Full] Doordash Pipeline \\ud83c\\udde6\\ud83c\\uddfa\"],\"legendgroup\":\"[Full] Doordash Pipeline \\ud83c\\udde6\\ud83c\\uddfa\",\"marker\":{\"color\":\"#636efa\",\"symbol\":\"circle\",\"size\":15},\"mode\":\"markers\",\"name\":\"[Full] Doordash Pipeline \\ud83c\\udde6\\ud83c\\uddfa\",\"orientation\":\"h\",\"showlegend\":true,\"x\":[0.006666666666666667,0.006666666666666667],\"xaxis\":\"x\",\"y\":[\"2023/10/01\",\"2023/11/01\"],\"yaxis\":\"y\",\"type\":\"scatter\"},{\"hovertemplate\":\"<b>%{hovertext}</b><br><br>workflow_category=[Full] Propertyfinder Locations Pipeline \\ud83c\\udde6\\ud83c\\uddea<br>Time of Day (12-hour format)=%{x}<br>Date=%{y}<extra></extra>\",\"hovertext\":[\"[Full] Propertyfinder Locations Pipeline \\ud83c\\udde6\\ud83c\\uddea\",\"[Full] Propertyfinder Locations Pipeline \\ud83c\\udde6\\ud83c\\uddea\"],\"legendgroup\":\"[Full] Propertyfinder Locations Pipeline \\ud83c\\udde6\\ud83c\\uddea\",\"marker\":{\"color\":\"#EF553B\",\"symbol\":\"circle\",\"size\":15},\"mode\":\"markers\",\"name\":\"[Full] Propertyfinder Locations Pipeline \\ud83c\\udde6\\ud83c\\uddea\",\"orientation\":\"h\",\"showlegend\":true,\"x\":[0.1733333333333333,0.1733333333333333],\"xaxis\":\"x\",\"y\":[\"2023/10/01\",\"2023/11/01\"],\"yaxis\":\"y\",\"type\":\"scatter\"},{\"hovertemplate\":\"<b>%{hovertext}</b><br><br>workflow_category=[Full] Deliveroo Restaurant Pipeline \\ud83c\\udde6\\ud83c\\uddea<br>Time of Day (12-hour format)=%{x}<br>Date=%{y}<extra></extra>\",\"hovertext\":[\"[Full] Deliveroo Restaurant Pipeline \\ud83c\\udde6\\ud83c\\uddea\",\"[Full] Deliveroo Restaurant Pipeline \\ud83c\\udde6\\ud83c\\uddea\",\"[Full] Deliveroo Restaurant Pipeline \\ud83c\\udde6\\ud83c\\uddea\",\"[Full] Deliveroo Restaurant Pipeline \\ud83c\\udde6\\ud83c\\uddea\",\"[Full] Deliveroo Restaurant Pipeline \\ud83c\\udde6\\ud83c\\uddea\",\"[Full] Deliveroo Restaurant Pipeline \\ud83c\\udde6\\ud83c\\uddea\",\"[Full] Deliveroo Restaurant Pipeline \\ud83c\\udde6\\ud83c\\uddea\",\"[Full] Deliveroo Restaurant Pipeline \\ud83c\\udde6\\ud83c\\uddea\",\"[Full] Deliveroo Restaurant Pipeline \\ud83c\\udde6\\ud83c\\uddea\",\"[Full] Deliveroo Restaurant Pipeline \\ud83c\\udde6\\ud83c\\uddea\",\"[Full] Deliveroo Restaurant Pipeline \\ud83c\\udde6\\ud83c\\uddea\",\"[Full] Deliveroo Restaurant Pipeline \\ud83c\\udde6\\ud83c\\uddea\",\"[Full] Deliveroo Restaurant Pipeline \\ud83c\\udde6\\ud83c\\uddea\",\"[Full] Deliveroo Restaurant Pipeline \\ud83c\\udde6\\ud83c\\uddea\",\"[Full] Deliveroo Restaurant Pipeline \\ud83c\\udde6\\ud83c\\uddea\",\"[Full] Deliveroo Restaurant Pipeline \\ud83c\\udde6\\ud83c\\uddea\",\"[Full] Deliveroo Restaurant Pipeline \\ud83c\\udde6\\ud83c\\uddea\",\"[Full] Deliveroo Restaurant Pipeline \\ud83c\\udde6\\ud83c\\uddea\",\"[Full] Deliveroo Restaurant Pipeline \\ud83c\\udde6\\ud83c\\uddea\",\"[Full] Deliveroo Restaurant Pipeline \\ud83c\\udde6\\ud83c\\uddea\",\"[Full] Deliveroo Restaurant Pipeline \\ud83c\\udde6\\ud83c\\uddea\",\"[Full] Deliveroo Restaurant Pipeline \\ud83c\\udde6\\ud83c\\uddea\",\"[Full] Deliveroo Restaurant Pipeline \\ud83c\\udde6\\ud83c\\uddea\",\"[Full] Deliveroo Restaurant Pipeline \\ud83c\\udde6\\ud83c\\uddea\",\"[Full] Deliveroo Restaurant Pipeline \\ud83c\\udde6\\ud83c\\uddea\",\"[Full] Deliveroo Restaurant Pipeline \\ud83c\\udde6\\ud83c\\uddea\",\"[Full] Deliveroo Restaurant Pipeline \\ud83c\\udde6\\ud83c\\uddea\",\"[Full] Deliveroo Restaurant Pipeline \\ud83c\\udde6\\ud83c\\uddea\",\"[Full] Deliveroo Restaurant Pipeline \\ud83c\\udde6\\ud83c\\uddea\",\"[Full] Deliveroo Restaurant Pipeline \\ud83c\\udde6\\ud83c\\uddea\",\"[Full] Deliveroo Restaurant Pipeline \\ud83c\\udde6\\ud83c\\uddea\",\"[Full] Deliveroo Restaurant Pipeline \\ud83c\\udde6\\ud83c\\uddea\",\"[Full] Deliveroo Restaurant Pipeline \\ud83c\\udde6\\ud83c\\uddea\",\"[Full] Deliveroo Restaurant Pipeline \\ud83c\\udde6\\ud83c\\uddea\",\"[Full] Deliveroo Restaurant Pipeline \\ud83c\\udde6\\ud83c\\uddea\"],\"legendgroup\":\"[Full] Deliveroo Restaurant Pipeline \\ud83c\\udde6\\ud83c\\uddea\",\"marker\":{\"color\":\"#00cc96\",\"symbol\":\"circle\",\"size\":15},\"mode\":\"markers\",\"name\":\"[Full] Deliveroo Restaurant Pipeline \\ud83c\\udde6\\ud83c\\uddea\",\"orientation\":\"h\",\"showlegend\":true,\"x\":[16.015,16.015,16.015,16.015,16.015,16.015,16.015,16.015,16.015,16.015,16.015,16.015,16.015,16.015,16.015,16.015,16.015,16.015,16.015,16.015,16.015,16.015,16.015,16.015,16.015,16.015,16.015,16.015,16.015,16.015,16.015,16.015,16.015,16.015,16.015],\"xaxis\":\"x\",\"y\":[\"2023/10/01\",\"2023/10/02\",\"2023/10/03\",\"2023/10/04\",\"2023/10/05\",\"2023/10/06\",\"2023/10/07\",\"2023/10/08\",\"2023/10/09\",\"2023/10/10\",\"2023/10/11\",\"2023/10/12\",\"2023/10/13\",\"2023/10/14\",\"2023/10/15\",\"2023/10/16\",\"2023/10/17\",\"2023/10/18\",\"2023/10/19\",\"2023/10/20\",\"2023/10/21\",\"2023/10/22\",\"2023/10/23\",\"2023/10/24\",\"2023/10/25\",\"2023/10/26\",\"2023/10/27\",\"2023/10/28\",\"2023/10/29\",\"2023/10/30\",\"2023/10/31\",\"2023/11/01\",\"2023/11/02\",\"2023/11/03\",\"2023/11/04\"],\"yaxis\":\"y\",\"type\":\"scatter\"},{\"hovertemplate\":\"<b>%{hovertext}</b><br><br>workflow_category=[Full] Talabat Restaurant Pipeline \\ud83c\\udde6\\ud83c\\uddea<br>Time of Day (12-hour format)=%{x}<br>Date=%{y}<extra></extra>\",\"hovertext\":[\"[Full] Talabat Restaurant Pipeline \\ud83c\\udde6\\ud83c\\uddea\",\"[Full] Talabat Restaurant Pipeline \\ud83c\\udde6\\ud83c\\uddea\",\"[Full] Talabat Restaurant Pipeline \\ud83c\\udde6\\ud83c\\uddea\",\"[Full] Talabat Restaurant Pipeline \\ud83c\\udde6\\ud83c\\uddea\",\"[Full] Talabat Restaurant Pipeline \\ud83c\\udde6\\ud83c\\uddea\",\"[Full] Talabat Restaurant Pipeline \\ud83c\\udde6\\ud83c\\uddea\",\"[Full] Talabat Restaurant Pipeline \\ud83c\\udde6\\ud83c\\uddea\",\"[Full] Talabat Restaurant Pipeline \\ud83c\\udde6\\ud83c\\uddea\",\"[Full] Talabat Restaurant Pipeline \\ud83c\\udde6\\ud83c\\uddea\",\"[Full] Talabat Restaurant Pipeline \\ud83c\\udde6\\ud83c\\uddea\",\"[Full] Talabat Restaurant Pipeline \\ud83c\\udde6\\ud83c\\uddea\",\"[Full] Talabat Restaurant Pipeline \\ud83c\\udde6\\ud83c\\uddea\",\"[Full] Talabat Restaurant Pipeline \\ud83c\\udde6\\ud83c\\uddea\",\"[Full] Talabat Restaurant Pipeline \\ud83c\\udde6\\ud83c\\uddea\",\"[Full] Talabat Restaurant Pipeline \\ud83c\\udde6\\ud83c\\uddea\",\"[Full] Talabat Restaurant Pipeline \\ud83c\\udde6\\ud83c\\uddea\",\"[Full] Talabat Restaurant Pipeline \\ud83c\\udde6\\ud83c\\uddea\",\"[Full] Talabat Restaurant Pipeline \\ud83c\\udde6\\ud83c\\uddea\",\"[Full] Talabat Restaurant Pipeline \\ud83c\\udde6\\ud83c\\uddea\",\"[Full] Talabat Restaurant Pipeline \\ud83c\\udde6\\ud83c\\uddea\",\"[Full] Talabat Restaurant Pipeline \\ud83c\\udde6\\ud83c\\uddea\",\"[Full] Talabat Restaurant Pipeline \\ud83c\\udde6\\ud83c\\uddea\",\"[Full] Talabat Restaurant Pipeline \\ud83c\\udde6\\ud83c\\uddea\",\"[Full] Talabat Restaurant Pipeline \\ud83c\\udde6\\ud83c\\uddea\",\"[Full] Talabat Restaurant Pipeline \\ud83c\\udde6\\ud83c\\uddea\",\"[Full] Talabat Restaurant Pipeline \\ud83c\\udde6\\ud83c\\uddea\",\"[Full] Talabat Restaurant Pipeline \\ud83c\\udde6\\ud83c\\uddea\",\"[Full] Talabat Restaurant Pipeline \\ud83c\\udde6\\ud83c\\uddea\",\"[Full] Talabat Restaurant Pipeline \\ud83c\\udde6\\ud83c\\uddea\",\"[Full] Talabat Restaurant Pipeline \\ud83c\\udde6\\ud83c\\uddea\",\"[Full] Talabat Restaurant Pipeline \\ud83c\\udde6\\ud83c\\uddea\",\"[Full] Talabat Restaurant Pipeline \\ud83c\\udde6\\ud83c\\uddea\",\"[Full] Talabat Restaurant Pipeline \\ud83c\\udde6\\ud83c\\uddea\",\"[Full] Talabat Restaurant Pipeline \\ud83c\\udde6\\ud83c\\uddea\",\"[Full] Talabat Restaurant Pipeline \\ud83c\\udde6\\ud83c\\uddea\"],\"legendgroup\":\"[Full] Talabat Restaurant Pipeline \\ud83c\\udde6\\ud83c\\uddea\",\"marker\":{\"color\":\"#ab63fa\",\"symbol\":\"circle\",\"size\":15},\"mode\":\"markers\",\"name\":\"[Full] Talabat Restaurant Pipeline \\ud83c\\udde6\\ud83c\\uddea\",\"orientation\":\"h\",\"showlegend\":true,\"x\":[16.18166666666667,16.18166666666667,16.18166666666667,16.18166666666667,16.18166666666667,16.18166666666667,16.18166666666667,16.18166666666667,16.18166666666667,16.18166666666667,16.18166666666667,16.18166666666667,16.18166666666667,16.18166666666667,16.18166666666667,16.18166666666667,16.18166666666667,16.18166666666667,16.18166666666667,16.18166666666667,16.18166666666667,16.18166666666667,16.18166666666667,16.18166666666667,16.18166666666667,16.18166666666667,16.18166666666667,16.18166666666667,16.18166666666667,16.18166666666667,16.18166666666667,16.18166666666667,16.18166666666667,16.18166666666667,16.18166666666667],\"xaxis\":\"x\",\"y\":[\"2023/10/01\",\"2023/10/02\",\"2023/10/03\",\"2023/10/04\",\"2023/10/05\",\"2023/10/06\",\"2023/10/07\",\"2023/10/08\",\"2023/10/09\",\"2023/10/10\",\"2023/10/11\",\"2023/10/12\",\"2023/10/13\",\"2023/10/14\",\"2023/10/15\",\"2023/10/16\",\"2023/10/17\",\"2023/10/18\",\"2023/10/19\",\"2023/10/20\",\"2023/10/21\",\"2023/10/22\",\"2023/10/23\",\"2023/10/24\",\"2023/10/25\",\"2023/10/26\",\"2023/10/27\",\"2023/10/28\",\"2023/10/29\",\"2023/10/30\",\"2023/10/31\",\"2023/11/01\",\"2023/11/02\",\"2023/11/03\",\"2023/11/04\"],\"yaxis\":\"y\",\"type\":\"scatter\"},{\"hovertemplate\":\"<b>%{hovertext}</b><br><br>workflow_category=[Full] Propertyfinder Price Trends Pipeline \\ud83c\\udde6\\ud83c\\uddea<br>Time of Day (12-hour format)=%{x}<br>Date=%{y}<extra></extra>\",\"hovertext\":[\"[Full] Propertyfinder Price Trends Pipeline \\ud83c\\udde6\\ud83c\\uddea\",\"[Full] Propertyfinder Price Trends Pipeline \\ud83c\\udde6\\ud83c\\uddea\"],\"legendgroup\":\"[Full] Propertyfinder Price Trends Pipeline \\ud83c\\udde6\\ud83c\\uddea\",\"marker\":{\"color\":\"#FFA15A\",\"symbol\":\"circle\",\"size\":15},\"mode\":\"markers\",\"name\":\"[Full] Propertyfinder Price Trends Pipeline \\ud83c\\udde6\\ud83c\\uddea\",\"orientation\":\"h\",\"showlegend\":true,\"x\":[18.008333333333333,18.008333333333333],\"xaxis\":\"x\",\"y\":[\"2023/10/01\",\"2023/11/01\"],\"yaxis\":\"y\",\"type\":\"scatter\"},{\"hovertemplate\":\"<b>%{hovertext}</b><br><br>workflow_category=[Menu] Talabat Menu Parse \\ud83c\\udde6\\ud83c\\uddea<br>Time of Day (12-hour format)=%{x}<br>Date=%{y}<extra></extra>\",\"hovertext\":[\"[Menu] Talabat Menu Parse \\ud83c\\udde6\\ud83c\\uddea\",\"[Menu] Talabat Menu Parse \\ud83c\\udde6\\ud83c\\uddea\",\"[Menu] Talabat Menu Parse \\ud83c\\udde6\\ud83c\\uddea\",\"[Menu] Talabat Menu Parse \\ud83c\\udde6\\ud83c\\uddea\",\"[Menu] Talabat Menu Parse \\ud83c\\udde6\\ud83c\\uddea\"],\"legendgroup\":\"[Menu] Talabat Menu Parse \\ud83c\\udde6\\ud83c\\uddea\",\"marker\":{\"color\":\"#19d3f3\",\"symbol\":\"circle\",\"size\":15},\"mode\":\"markers\",\"name\":\"[Menu] Talabat Menu Parse \\ud83c\\udde6\\ud83c\\uddea\",\"orientation\":\"h\",\"showlegend\":true,\"x\":[0.001388888888888889,0.16805555555555554,0.001388888888888889,0.001388888888888889,0.16805555555555554],\"xaxis\":\"x\",\"y\":[\"2023/10/02\",\"2023/10/09\",\"2023/10/16\",\"2023/10/23\",\"2023/10/30\"],\"yaxis\":\"y\",\"type\":\"scatter\"},{\"hovertemplate\":\"<b>%{hovertext}</b><br><br>workflow_category=[Menu] Deliveroo Menu Parse \\ud83c\\udde6\\ud83c\\uddea<br>Time of Day (12-hour format)=%{x}<br>Date=%{y}<extra></extra>\",\"hovertext\":[\"[Menu] Deliveroo Menu Parse \\ud83c\\udde6\\ud83c\\uddea\",\"[Menu] Deliveroo Menu Parse \\ud83c\\udde6\\ud83c\\uddea\",\"[Menu] Deliveroo Menu Parse \\ud83c\\udde6\\ud83c\\uddea\",\"[Menu] Deliveroo Menu Parse \\ud83c\\udde6\\ud83c\\uddea\",\"[Menu] Deliveroo Menu Parse \\ud83c\\udde6\\ud83c\\uddea\"],\"legendgroup\":\"[Menu] Deliveroo Menu Parse \\ud83c\\udde6\\ud83c\\uddea\",\"marker\":{\"color\":\"#FF6692\",\"symbol\":\"circle\",\"size\":15},\"mode\":\"markers\",\"name\":\"[Menu] Deliveroo Menu Parse \\ud83c\\udde6\\ud83c\\uddea\",\"orientation\":\"h\",\"showlegend\":true,\"x\":[0.16805555555555554,0.001388888888888889,0.16805555555555554,0.16805555555555554,0.001388888888888889],\"xaxis\":\"x\",\"y\":[\"2023/10/02\",\"2023/10/09\",\"2023/10/16\",\"2023/10/23\",\"2023/10/30\"],\"yaxis\":\"y\",\"type\":\"scatter\"},{\"hovertemplate\":\"<b>%{hovertext}</b><br><br>workflow_category=[Full] Tripadvisor Pipeline \\ud83c\\udde6\\ud83c\\uddea<br>Time of Day (12-hour format)=%{x}<br>Date=%{y}<extra></extra>\",\"hovertext\":[\"[Full] Tripadvisor Pipeline \\ud83c\\udde6\\ud83c\\uddea\",\"[Full] Tripadvisor Pipeline \\ud83c\\udde6\\ud83c\\uddea\",\"[Full] Tripadvisor Pipeline \\ud83c\\udde6\\ud83c\\uddea\",\"[Full] Tripadvisor Pipeline \\ud83c\\udde6\\ud83c\\uddea\",\"[Full] Tripadvisor Pipeline \\ud83c\\udde6\\ud83c\\uddea\"],\"legendgroup\":\"[Full] Tripadvisor Pipeline \\ud83c\\udde6\\ud83c\\uddea\",\"marker\":{\"color\":\"#B6E880\",\"symbol\":\"circle\",\"size\":15},\"mode\":\"markers\",\"name\":\"[Full] Tripadvisor Pipeline \\ud83c\\udde6\\ud83c\\uddea\",\"orientation\":\"h\",\"showlegend\":true,\"x\":[0.3347222222222222,0.5013888888888889,0.3347222222222222,0.5013888888888889,0.3347222222222222],\"xaxis\":\"x\",\"y\":[\"2023/10/02\",\"2023/10/09\",\"2023/10/16\",\"2023/10/23\",\"2023/10/30\"],\"yaxis\":\"y\",\"type\":\"scatter\"},{\"hovertemplate\":\"<b>%{hovertext}</b><br><br>workflow_category=[Full] DesignMyNight Pipeline \\ud83c\\uddec\\ud83c\\udde7 (London)<br>Time of Day (12-hour format)=%{x}<br>Date=%{y}<extra></extra>\",\"hovertext\":[\"[Full] DesignMyNight Pipeline \\ud83c\\uddec\\ud83c\\udde7 (London)\",\"[Full] DesignMyNight Pipeline \\ud83c\\uddec\\ud83c\\udde7 (London)\",\"[Full] DesignMyNight Pipeline \\ud83c\\uddec\\ud83c\\udde7 (London)\",\"[Full] DesignMyNight Pipeline \\ud83c\\uddec\\ud83c\\udde7 (London)\",\"[Full] DesignMyNight Pipeline \\ud83c\\uddec\\ud83c\\udde7 (London)\"],\"legendgroup\":\"[Full] DesignMyNight Pipeline \\ud83c\\uddec\\ud83c\\udde7 (London)\",\"marker\":{\"color\":\"#FF97FF\",\"symbol\":\"circle\",\"size\":15},\"mode\":\"markers\",\"name\":\"[Full] DesignMyNight Pipeline \\ud83c\\uddec\\ud83c\\udde7 (London)\",\"orientation\":\"h\",\"showlegend\":true,\"x\":[0.5013888888888889,0.3347222222222222,0.5013888888888889,0.3347222222222222,0.5013888888888889],\"xaxis\":\"x\",\"y\":[\"2023/10/02\",\"2023/10/09\",\"2023/10/16\",\"2023/10/23\",\"2023/10/30\"],\"yaxis\":\"y\",\"type\":\"scatter\"},{\"hovertemplate\":\"<b>%{hovertext}</b><br><br>workflow_category=[Full] Tripadvisor Pipeline \\ud83c\\udde8\\ud83c\\udde6<br>Time of Day (12-hour format)=%{x}<br>Date=%{y}<extra></extra>\",\"hovertext\":[\"[Full] Tripadvisor Pipeline \\ud83c\\udde8\\ud83c\\udde6\",\"[Full] Tripadvisor Pipeline \\ud83c\\udde8\\ud83c\\udde6\"],\"legendgroup\":\"[Full] Tripadvisor Pipeline \\ud83c\\udde8\\ud83c\\udde6\",\"marker\":{\"color\":\"#FECB52\",\"symbol\":\"circle\",\"size\":15},\"mode\":\"markers\",\"name\":\"[Full] Tripadvisor Pipeline \\ud83c\\udde8\\ud83c\\udde6\",\"orientation\":\"h\",\"showlegend\":true,\"x\":[0.6680555555555555,0.006111111111111111],\"xaxis\":\"x\",\"y\":[\"2023/10/02\",\"2023/11/02\"],\"yaxis\":\"y\",\"type\":\"scatter\"},{\"hovertemplate\":\"<b>%{hovertext}</b><br><br>workflow_category=[Full] Talabat Pipeline \\ud83c\\udde7\\ud83c\\udded<br>Time of Day (12-hour format)=%{x}<br>Date=%{y}<extra></extra>\",\"hovertext\":[\"[Full] Talabat Pipeline \\ud83c\\udde7\\ud83c\\udded\",\"[Full] Talabat Pipeline \\ud83c\\udde7\\ud83c\\udded\",\"[Full] Talabat Pipeline \\ud83c\\udde7\\ud83c\\udded\",\"[Full] Talabat Pipeline \\ud83c\\udde7\\ud83c\\udded\",\"[Full] Talabat Pipeline \\ud83c\\udde7\\ud83c\\udded\"],\"legendgroup\":\"[Full] Talabat Pipeline \\ud83c\\udde7\\ud83c\\udded\",\"marker\":{\"color\":\"#636efa\",\"symbol\":\"circle\",\"size\":15},\"mode\":\"markers\",\"name\":\"[Full] Talabat Pipeline \\ud83c\\udde7\\ud83c\\udded\",\"orientation\":\"h\",\"showlegend\":true,\"x\":[0.8347222222222223,0.6680555555555555,0.6680555555555555,0.6680555555555555,0.6680555555555555],\"xaxis\":\"x\",\"y\":[\"2023/10/02\",\"2023/10/09\",\"2023/10/16\",\"2023/10/23\",\"2023/10/30\"],\"yaxis\":\"y\",\"type\":\"scatter\"},{\"hovertemplate\":\"<b>%{hovertext}</b><br><br>workflow_category=[Full] Opentable Pipeline \\ud83c\\udf0e<br>Time of Day (12-hour format)=%{x}<br>Date=%{y}<extra></extra>\",\"hovertext\":[\"[Full] Opentable Pipeline \\ud83c\\udf0e\",\"[Full] Opentable Pipeline \\ud83c\\udf0e\",\"[Full] Opentable Pipeline \\ud83c\\udf0e\",\"[Full] Opentable Pipeline \\ud83c\\udf0e\",\"[Full] Opentable Pipeline \\ud83c\\udf0e\"],\"legendgroup\":\"[Full] Opentable Pipeline \\ud83c\\udf0e\",\"marker\":{\"color\":\"#EF553B\",\"symbol\":\"circle\",\"size\":15},\"mode\":\"markers\",\"name\":\"[Full] Opentable Pipeline \\ud83c\\udf0e\",\"orientation\":\"h\",\"showlegend\":true,\"x\":[1.0013888888888889,1.0013888888888889,0.8347222222222223,1.0013888888888889,0.8347222222222223],\"xaxis\":\"x\",\"y\":[\"2023/10/02\",\"2023/10/09\",\"2023/10/16\",\"2023/10/23\",\"2023/10/30\"],\"yaxis\":\"y\",\"type\":\"scatter\"},{\"hovertemplate\":\"<b>%{hovertext}</b><br><br>workflow_category=[Full] Michelinguide Pipeline \\ud83c\\udf0e<br>Time of Day (12-hour format)=%{x}<br>Date=%{y}<extra></extra>\",\"hovertext\":[\"[Full] Michelinguide Pipeline \\ud83c\\udf0e\",\"[Full] Michelinguide Pipeline \\ud83c\\udf0e\",\"[Full] Michelinguide Pipeline \\ud83c\\udf0e\",\"[Full] Michelinguide Pipeline \\ud83c\\udf0e\",\"[Full] Michelinguide Pipeline \\ud83c\\udf0e\"],\"legendgroup\":\"[Full] Michelinguide Pipeline \\ud83c\\udf0e\",\"marker\":{\"color\":\"#00cc96\",\"symbol\":\"circle\",\"size\":15},\"mode\":\"markers\",\"name\":\"[Full] Michelinguide Pipeline \\ud83c\\udf0e\",\"orientation\":\"h\",\"showlegend\":true,\"x\":[1.1680555555555556,1.1680555555555556,1.1680555555555556,0.8347222222222223,1.1680555555555556],\"xaxis\":\"x\",\"y\":[\"2023/10/02\",\"2023/10/09\",\"2023/10/16\",\"2023/10/23\",\"2023/10/30\"],\"yaxis\":\"y\",\"type\":\"scatter\"},{\"hovertemplate\":\"<b>%{hovertext}</b><br><br>workflow_category=[Full] Ladiesnightdubai Pipeline \\ud83c\\udde6\\ud83c\\uddea<br>Time of Day (12-hour format)=%{x}<br>Date=%{y}<extra></extra>\",\"hovertext\":[\"[Full] Ladiesnightdubai Pipeline \\ud83c\\udde6\\ud83c\\uddea\",\"[Full] Ladiesnightdubai Pipeline \\ud83c\\udde6\\ud83c\\uddea\",\"[Full] Ladiesnightdubai Pipeline \\ud83c\\udde6\\ud83c\\uddea\",\"[Full] Ladiesnightdubai Pipeline \\ud83c\\udde6\\ud83c\\uddea\",\"[Full] Ladiesnightdubai Pipeline \\ud83c\\udde6\\ud83c\\uddea\"],\"legendgroup\":\"[Full] Ladiesnightdubai Pipeline \\ud83c\\udde6\\ud83c\\uddea\",\"marker\":{\"color\":\"#ab63fa\",\"symbol\":\"circle\",\"size\":15},\"mode\":\"markers\",\"name\":\"[Full] Ladiesnightdubai Pipeline \\ud83c\\udde6\\ud83c\\uddea\",\"orientation\":\"h\",\"showlegend\":true,\"x\":[1.3347222222222221,0.8347222222222223,1.0013888888888889,1.1680555555555556,1.0013888888888889],\"xaxis\":\"x\",\"y\":[\"2023/10/02\",\"2023/10/09\",\"2023/10/16\",\"2023/10/23\",\"2023/10/30\"],\"yaxis\":\"y\",\"type\":\"scatter\"},{\"hovertemplate\":\"<b>%{hovertext}</b><br><br>workflow_category=[Full] Zomato Restaurant Pipeline \\ud83c\\udde6\\ud83c\\uddea<br>Time of Day (12-hour format)=%{x}<br>Date=%{y}<extra></extra>\",\"hovertext\":[\"[Full] Zomato Restaurant Pipeline \\ud83c\\udde6\\ud83c\\uddea\",\"[Full] Zomato Restaurant Pipeline \\ud83c\\udde6\\ud83c\\uddea\",\"[Full] Zomato Restaurant Pipeline \\ud83c\\udde6\\ud83c\\uddea\",\"[Full] Zomato Restaurant Pipeline \\ud83c\\udde6\\ud83c\\uddea\",\"[Full] Zomato Restaurant Pipeline \\ud83c\\udde6\\ud83c\\uddea\"],\"legendgroup\":\"[Full] Zomato Restaurant Pipeline \\ud83c\\udde6\\ud83c\\uddea\",\"marker\":{\"color\":\"#FFA15A\",\"symbol\":\"circle\",\"size\":15},\"mode\":\"markers\",\"name\":\"[Full] Zomato Restaurant Pipeline \\ud83c\\udde6\\ud83c\\uddea\",\"orientation\":\"h\",\"showlegend\":true,\"x\":[1.5013888888888889,1.3347222222222221,1.3347222222222221,1.3347222222222221,1.3347222222222221],\"xaxis\":\"x\",\"y\":[\"2023/10/02\",\"2023/10/09\",\"2023/10/16\",\"2023/10/23\",\"2023/10/30\"],\"yaxis\":\"y\",\"type\":\"scatter\"},{\"hovertemplate\":\"<b>%{hovertext}</b><br><br>workflow_category=[Clients] PropAI Data Delivery \\ud83c\\udde6\\ud83c\\uddea<br>Time of Day (12-hour format)=%{x}<br>Date=%{y}<extra></extra>\",\"hovertext\":[\"[Clients] PropAI Data Delivery \\ud83c\\udde6\\ud83c\\uddea\",\"[Clients] PropAI Data Delivery \\ud83c\\udde6\\ud83c\\uddea\",\"[Clients] PropAI Data Delivery \\ud83c\\udde6\\ud83c\\uddea\",\"[Clients] PropAI Data Delivery \\ud83c\\udde6\\ud83c\\uddea\",\"[Clients] PropAI Data Delivery \\ud83c\\udde6\\ud83c\\uddea\"],\"legendgroup\":\"[Clients] PropAI Data Delivery \\ud83c\\udde6\\ud83c\\uddea\",\"marker\":{\"color\":\"#19d3f3\",\"symbol\":\"circle\",\"size\":15},\"mode\":\"markers\",\"name\":\"[Clients] PropAI Data Delivery \\ud83c\\udde6\\ud83c\\uddea\",\"orientation\":\"h\",\"showlegend\":true,\"x\":[2.502222222222222,2.502222222222222,2.502222222222222,2.502222222222222,2.502222222222222],\"xaxis\":\"x\",\"y\":[\"2023/10/02\",\"2023/10/09\",\"2023/10/16\",\"2023/10/23\",\"2023/10/30\"],\"yaxis\":\"y\",\"type\":\"scatter\"},{\"hovertemplate\":\"<b>%{hovertext}</b><br><br>workflow_category=[Full] Talabat Pipeline \\ud83c\\uddf0\\ud83c\\uddfc<br>Time of Day (12-hour format)=%{x}<br>Date=%{y}<extra></extra>\",\"hovertext\":[\"[Full] Talabat Pipeline \\ud83c\\uddf0\\ud83c\\uddfc\",\"[Full] Talabat Pipeline \\ud83c\\uddf0\\ud83c\\uddfc\",\"[Full] Talabat Pipeline \\ud83c\\uddf0\\ud83c\\uddfc\",\"[Full] Talabat Pipeline \\ud83c\\uddf0\\ud83c\\uddfc\",\"[Full] Talabat Pipeline \\ud83c\\uddf0\\ud83c\\uddfc\"],\"legendgroup\":\"[Full] Talabat Pipeline \\ud83c\\uddf0\\ud83c\\uddfc\",\"marker\":{\"color\":\"#FF6692\",\"symbol\":\"circle\",\"size\":15},\"mode\":\"markers\",\"name\":\"[Full] Talabat Pipeline \\ud83c\\uddf0\\ud83c\\uddfc\",\"orientation\":\"h\",\"showlegend\":true,\"x\":[3.0025,3.0025,3.0025,3.0025,3.0025],\"xaxis\":\"x\",\"y\":[\"2023/10/02\",\"2023/10/09\",\"2023/10/16\",\"2023/10/23\",\"2023/10/30\"],\"yaxis\":\"y\",\"type\":\"scatter\"},{\"hovertemplate\":\"<b>%{hovertext}</b><br><br>workflow_category=[Full] Deliveroo Pipeline \\ud83c\\uddf0\\ud83c\\uddfc<br>Time of Day (12-hour format)=%{x}<br>Date=%{y}<extra></extra>\",\"hovertext\":[\"[Full] Deliveroo Pipeline \\ud83c\\uddf0\\ud83c\\uddfc\",\"[Full] Deliveroo Pipeline \\ud83c\\uddf0\\ud83c\\uddfc\",\"[Full] Deliveroo Pipeline \\ud83c\\uddf0\\ud83c\\uddfc\",\"[Full] Deliveroo Pipeline \\ud83c\\uddf0\\ud83c\\uddfc\",\"[Full] Deliveroo Pipeline \\ud83c\\uddf0\\ud83c\\uddfc\"],\"legendgroup\":\"[Full] Deliveroo Pipeline \\ud83c\\uddf0\\ud83c\\uddfc\",\"marker\":{\"color\":\"#B6E880\",\"symbol\":\"circle\",\"size\":15},\"mode\":\"markers\",\"name\":\"[Full] Deliveroo Pipeline \\ud83c\\uddf0\\ud83c\\uddfc\",\"orientation\":\"h\",\"showlegend\":true,\"x\":[3.1691666666666665,3.1691666666666665,3.1691666666666665,3.1691666666666665,3.1691666666666665],\"xaxis\":\"x\",\"y\":[\"2023/10/02\",\"2023/10/09\",\"2023/10/16\",\"2023/10/23\",\"2023/10/30\"],\"yaxis\":\"y\",\"type\":\"scatter\"},{\"hovertemplate\":\"<b>%{hovertext}</b><br><br>workflow_category=[Full] Talabat Pipeline \\ud83c\\uddf6\\ud83c\\udde6<br>Time of Day (12-hour format)=%{x}<br>Date=%{y}<extra></extra>\",\"hovertext\":[\"[Full] Talabat Pipeline \\ud83c\\uddf6\\ud83c\\udde6\",\"[Full] Talabat Pipeline \\ud83c\\uddf6\\ud83c\\udde6\",\"[Full] Talabat Pipeline \\ud83c\\uddf6\\ud83c\\udde6\",\"[Full] Talabat Pipeline \\ud83c\\uddf6\\ud83c\\udde6\",\"[Full] Talabat Pipeline \\ud83c\\uddf6\\ud83c\\udde6\"],\"legendgroup\":\"[Full] Talabat Pipeline \\ud83c\\uddf6\\ud83c\\udde6\",\"marker\":{\"color\":\"#FF97FF\",\"symbol\":\"circle\",\"size\":15},\"mode\":\"markers\",\"name\":\"[Full] Talabat Pipeline \\ud83c\\uddf6\\ud83c\\udde6\",\"orientation\":\"h\",\"showlegend\":true,\"x\":[6.008611111111111,6.008611111111111,6.008611111111111,6.008611111111111,6.008611111111111],\"xaxis\":\"x\",\"y\":[\"2023/10/02\",\"2023/10/09\",\"2023/10/16\",\"2023/10/23\",\"2023/10/30\"],\"yaxis\":\"y\",\"type\":\"scatter\"},{\"hovertemplate\":\"<b>%{hovertext}</b><br><br>workflow_category=[Full] Tripadvisor Pipeline \\ud83c\\uddf8\\ud83c\\udde6<br>Time of Day (12-hour format)=%{x}<br>Date=%{y}<extra></extra>\",\"hovertext\":[\"[Full] Tripadvisor Pipeline \\ud83c\\uddf8\\ud83c\\udde6\",\"[Full] Tripadvisor Pipeline \\ud83c\\uddf8\\ud83c\\udde6\",\"[Full] Tripadvisor Pipeline \\ud83c\\uddf8\\ud83c\\udde6\",\"[Full] Tripadvisor Pipeline \\ud83c\\uddf8\\ud83c\\udde6\",\"[Full] Tripadvisor Pipeline \\ud83c\\uddf8\\ud83c\\udde6\"],\"legendgroup\":\"[Full] Tripadvisor Pipeline \\ud83c\\uddf8\\ud83c\\udde6\",\"marker\":{\"color\":\"#FECB52\",\"symbol\":\"circle\",\"size\":15},\"mode\":\"markers\",\"name\":\"[Full] Tripadvisor Pipeline \\ud83c\\uddf8\\ud83c\\udde6\",\"orientation\":\"h\",\"showlegend\":true,\"x\":[6.175277777777778,6.175277777777778,6.175277777777778,6.175277777777778,6.175277777777778],\"xaxis\":\"x\",\"y\":[\"2023/10/02\",\"2023/10/09\",\"2023/10/16\",\"2023/10/23\",\"2023/10/30\"],\"yaxis\":\"y\",\"type\":\"scatter\"},{\"hovertemplate\":\"<b>%{hovertext}</b><br><br>workflow_category=[Full] Tripadvisor Pipeline \\ud83c\\uddf0\\ud83c\\uddfc<br>Time of Day (12-hour format)=%{x}<br>Date=%{y}<extra></extra>\",\"hovertext\":[\"[Full] Tripadvisor Pipeline \\ud83c\\uddf0\\ud83c\\uddfc\",\"[Full] Tripadvisor Pipeline \\ud83c\\uddf0\\ud83c\\uddfc\",\"[Full] Tripadvisor Pipeline \\ud83c\\uddf0\\ud83c\\uddfc\",\"[Full] Tripadvisor Pipeline \\ud83c\\uddf0\\ud83c\\uddfc\",\"[Full] Tripadvisor Pipeline \\ud83c\\uddf0\\ud83c\\uddfc\"],\"legendgroup\":\"[Full] Tripadvisor Pipeline \\ud83c\\uddf0\\ud83c\\uddfc\",\"marker\":{\"color\":\"#636efa\",\"symbol\":\"circle\",\"size\":15},\"mode\":\"markers\",\"name\":\"[Full] Tripadvisor Pipeline \\ud83c\\uddf0\\ud83c\\uddfc\",\"orientation\":\"h\",\"showlegend\":true,\"x\":[8.007777777777777,8.007777777777777,8.007777777777777,8.007777777777777,8.007777777777777],\"xaxis\":\"x\",\"y\":[\"2023/10/02\",\"2023/10/09\",\"2023/10/16\",\"2023/10/23\",\"2023/10/30\"],\"yaxis\":\"y\",\"type\":\"scatter\"},{\"hovertemplate\":\"<b>%{hovertext}</b><br><br>workflow_category=[Full] Talabat Pipeline \\ud83c\\uddf8\\ud83c\\udde6<br>Time of Day (12-hour format)=%{x}<br>Date=%{y}<extra></extra>\",\"hovertext\":[\"[Full] Talabat Pipeline \\ud83c\\uddf8\\ud83c\\udde6\",\"[Full] Talabat Pipeline \\ud83c\\uddf8\\ud83c\\udde6\",\"[Full] Talabat Pipeline \\ud83c\\uddf8\\ud83c\\udde6\",\"[Full] Talabat Pipeline \\ud83c\\uddf8\\ud83c\\udde6\",\"[Full] Talabat Pipeline \\ud83c\\uddf8\\ud83c\\udde6\"],\"legendgroup\":\"[Full] Talabat Pipeline \\ud83c\\uddf8\\ud83c\\udde6\",\"marker\":{\"color\":\"#EF553B\",\"symbol\":\"circle\",\"size\":15},\"mode\":\"markers\",\"name\":\"[Full] Talabat Pipeline \\ud83c\\uddf8\\ud83c\\udde6\",\"orientation\":\"h\",\"showlegend\":true,\"x\":[9.016388888888889,9.016388888888889,9.016388888888889,9.016388888888889,9.016388888888889],\"xaxis\":\"x\",\"y\":[\"2023/10/02\",\"2023/10/09\",\"2023/10/16\",\"2023/10/23\",\"2023/10/30\"],\"yaxis\":\"y\",\"type\":\"scatter\"},{\"hovertemplate\":\"<b>%{hovertext}</b><br><br>workflow_category=[Full] Tripadvisor Pipeline \\ud83c\\uddf6\\ud83c\\udde6<br>Time of Day (12-hour format)=%{x}<br>Date=%{y}<extra></extra>\",\"hovertext\":[\"[Full] Tripadvisor Pipeline \\ud83c\\uddf6\\ud83c\\udde6\",\"[Full] Tripadvisor Pipeline \\ud83c\\uddf6\\ud83c\\udde6\",\"[Full] Tripadvisor Pipeline \\ud83c\\uddf6\\ud83c\\udde6\",\"[Full] Tripadvisor Pipeline \\ud83c\\uddf6\\ud83c\\udde6\",\"[Full] Tripadvisor Pipeline \\ud83c\\uddf6\\ud83c\\udde6\"],\"legendgroup\":\"[Full] Tripadvisor Pipeline \\ud83c\\uddf6\\ud83c\\udde6\",\"marker\":{\"color\":\"#00cc96\",\"symbol\":\"circle\",\"size\":15},\"mode\":\"markers\",\"name\":\"[Full] Tripadvisor Pipeline \\ud83c\\uddf6\\ud83c\\udde6\",\"orientation\":\"h\",\"showlegend\":true,\"x\":[10.007777777777777,10.007777777777777,10.007777777777777,10.007777777777777,10.007777777777777],\"xaxis\":\"x\",\"y\":[\"2023/10/02\",\"2023/10/09\",\"2023/10/16\",\"2023/10/23\",\"2023/10/30\"],\"yaxis\":\"y\",\"type\":\"scatter\"},{\"hovertemplate\":\"<b>%{hovertext}</b><br><br>workflow_category=[Full] Deliveroo Pipeline \\ud83c\\uddf8\\ud83c\\uddec<br>Time of Day (12-hour format)=%{x}<br>Date=%{y}<extra></extra>\",\"hovertext\":[\"[Full] Deliveroo Pipeline \\ud83c\\uddf8\\ud83c\\uddec\",\"[Full] Deliveroo Pipeline \\ud83c\\uddf8\\ud83c\\uddec\",\"[Full] Deliveroo Pipeline \\ud83c\\uddf8\\ud83c\\uddec\",\"[Full] Deliveroo Pipeline \\ud83c\\uddf8\\ud83c\\uddec\",\"[Full] Deliveroo Pipeline \\ud83c\\uddf8\\ud83c\\uddec\"],\"legendgroup\":\"[Full] Deliveroo Pipeline \\ud83c\\uddf8\\ud83c\\uddec\",\"marker\":{\"color\":\"#ab63fa\",\"symbol\":\"circle\",\"size\":15},\"mode\":\"markers\",\"name\":\"[Full] Deliveroo Pipeline \\ud83c\\uddf8\\ud83c\\uddec\",\"orientation\":\"h\",\"showlegend\":true,\"x\":[12.004722222222222,12.004722222222222,12.004722222222222,12.004722222222222,12.004722222222222],\"xaxis\":\"x\",\"y\":[\"2023/10/02\",\"2023/10/09\",\"2023/10/16\",\"2023/10/23\",\"2023/10/30\"],\"yaxis\":\"y\",\"type\":\"scatter\"},{\"hovertemplate\":\"<b>%{hovertext}</b><br><br>workflow_category=[Full] Tripadvisor Pipeline \\ud83c\\udde7\\ud83c\\udded<br>Time of Day (12-hour format)=%{x}<br>Date=%{y}<extra></extra>\",\"hovertext\":[\"[Full] Tripadvisor Pipeline \\ud83c\\udde7\\ud83c\\udded\",\"[Full] Tripadvisor Pipeline \\ud83c\\udde7\\ud83c\\udded\",\"[Full] Tripadvisor Pipeline \\ud83c\\udde7\\ud83c\\udded\",\"[Full] Tripadvisor Pipeline \\ud83c\\udde7\\ud83c\\udded\",\"[Full] Tripadvisor Pipeline \\ud83c\\udde7\\ud83c\\udded\"],\"legendgroup\":\"[Full] Tripadvisor Pipeline \\ud83c\\udde7\\ud83c\\udded\",\"marker\":{\"color\":\"#FFA15A\",\"symbol\":\"circle\",\"size\":15},\"mode\":\"markers\",\"name\":\"[Full] Tripadvisor Pipeline \\ud83c\\udde7\\ud83c\\udded\",\"orientation\":\"h\",\"showlegend\":true,\"x\":[12.171388888888888,12.171388888888888,12.171388888888888,12.171388888888888,12.171388888888888],\"xaxis\":\"x\",\"y\":[\"2023/10/02\",\"2023/10/09\",\"2023/10/16\",\"2023/10/23\",\"2023/10/30\"],\"yaxis\":\"y\",\"type\":\"scatter\"},{\"hovertemplate\":\"<b>%{hovertext}</b><br><br>workflow_category=[Full] Deliveroo Pipeline \\ud83c\\udded\\ud83c\\uddf0<br>Time of Day (12-hour format)=%{x}<br>Date=%{y}<extra></extra>\",\"hovertext\":[\"[Full] Deliveroo Pipeline \\ud83c\\udded\\ud83c\\uddf0\",\"[Full] Deliveroo Pipeline \\ud83c\\udded\\ud83c\\uddf0\",\"[Full] Deliveroo Pipeline \\ud83c\\udded\\ud83c\\uddf0\",\"[Full] Deliveroo Pipeline \\ud83c\\udded\\ud83c\\uddf0\",\"[Full] Deliveroo Pipeline \\ud83c\\udded\\ud83c\\uddf0\"],\"legendgroup\":\"[Full] Deliveroo Pipeline \\ud83c\\udded\\ud83c\\uddf0\",\"marker\":{\"color\":\"#19d3f3\",\"symbol\":\"circle\",\"size\":15},\"mode\":\"markers\",\"name\":\"[Full] Deliveroo Pipeline \\ud83c\\udded\\ud83c\\uddf0\",\"orientation\":\"h\",\"showlegend\":true,\"x\":[14.015555555555556,14.015555555555556,14.015555555555556,14.015555555555556,14.015555555555556],\"xaxis\":\"x\",\"y\":[\"2023/10/02\",\"2023/10/09\",\"2023/10/16\",\"2023/10/23\",\"2023/10/30\"],\"yaxis\":\"y\",\"type\":\"scatter\"},{\"hovertemplate\":\"<b>%{hovertext}</b><br><br>workflow_category=[Full] Deliveroo Pipeline \\ud83c\\uddee\\ud83c\\uddea<br>Time of Day (12-hour format)=%{x}<br>Date=%{y}<extra></extra>\",\"hovertext\":[\"[Full] Deliveroo Pipeline \\ud83c\\uddee\\ud83c\\uddea\",\"[Full] Deliveroo Pipeline \\ud83c\\uddee\\ud83c\\uddea\",\"[Full] Deliveroo Pipeline \\ud83c\\uddee\\ud83c\\uddea\",\"[Full] Deliveroo Pipeline \\ud83c\\uddee\\ud83c\\uddea\",\"[Full] Deliveroo Pipeline \\ud83c\\uddee\\ud83c\\uddea\"],\"legendgroup\":\"[Full] Deliveroo Pipeline \\ud83c\\uddee\\ud83c\\uddea\",\"marker\":{\"color\":\"#FF6692\",\"symbol\":\"circle\",\"size\":15},\"mode\":\"markers\",\"name\":\"[Full] Deliveroo Pipeline \\ud83c\\uddee\\ud83c\\uddea\",\"orientation\":\"h\",\"showlegend\":true,\"x\":[19.015555555555554,19.015555555555554,19.015555555555554,19.015555555555554,19.015555555555554],\"xaxis\":\"x\",\"y\":[\"2023/10/02\",\"2023/10/09\",\"2023/10/16\",\"2023/10/23\",\"2023/10/30\"],\"yaxis\":\"y\",\"type\":\"scatter\"},{\"hovertemplate\":\"<b>%{hovertext}</b><br><br>workflow_category=[Full] Deliveroo Pipeline \\ud83c\\uddec\\ud83c\\udde7<br>Time of Day (12-hour format)=%{x}<br>Date=%{y}<extra></extra>\",\"hovertext\":[\"[Full] Deliveroo Pipeline \\ud83c\\uddec\\ud83c\\udde7\",\"[Full] Deliveroo Pipeline \\ud83c\\uddec\\ud83c\\udde7\",\"[Full] Deliveroo Pipeline \\ud83c\\uddec\\ud83c\\udde7\",\"[Full] Deliveroo Pipeline \\ud83c\\uddec\\ud83c\\udde7\",\"[Full] Deliveroo Pipeline \\ud83c\\uddec\\ud83c\\udde7\"],\"legendgroup\":\"[Full] Deliveroo Pipeline \\ud83c\\uddec\\ud83c\\udde7\",\"marker\":{\"color\":\"#B6E880\",\"symbol\":\"circle\",\"size\":15},\"mode\":\"markers\",\"name\":\"[Full] Deliveroo Pipeline \\ud83c\\uddec\\ud83c\\udde7\",\"orientation\":\"h\",\"showlegend\":true,\"x\":[20.015555555555554,20.015555555555554,20.015555555555554,20.015555555555554,20.015555555555554],\"xaxis\":\"x\",\"y\":[\"2023/10/02\",\"2023/10/09\",\"2023/10/16\",\"2023/10/23\",\"2023/10/30\"],\"yaxis\":\"y\",\"type\":\"scatter\"},{\"hovertemplate\":\"<b>%{hovertext}</b><br><br>workflow_category=[Full] Deliveroo Pipeline \\ud83c\\uddeb\\ud83c\\uddf7<br>Time of Day (12-hour format)=%{x}<br>Date=%{y}<extra></extra>\",\"hovertext\":[\"[Full] Deliveroo Pipeline \\ud83c\\uddeb\\ud83c\\uddf7\",\"[Full] Deliveroo Pipeline \\ud83c\\uddeb\\ud83c\\uddf7\",\"[Full] Deliveroo Pipeline \\ud83c\\uddeb\\ud83c\\uddf7\",\"[Full] Deliveroo Pipeline \\ud83c\\uddeb\\ud83c\\uddf7\",\"[Full] Deliveroo Pipeline \\ud83c\\uddeb\\ud83c\\uddf7\"],\"legendgroup\":\"[Full] Deliveroo Pipeline \\ud83c\\uddeb\\ud83c\\uddf7\",\"marker\":{\"color\":\"#FF97FF\",\"symbol\":\"circle\",\"size\":15},\"mode\":\"markers\",\"name\":\"[Full] Deliveroo Pipeline \\ud83c\\uddeb\\ud83c\\uddf7\",\"orientation\":\"h\",\"showlegend\":true,\"x\":[20.015555555555554,20.015555555555554,20.015555555555554,20.015555555555554,20.015555555555554],\"xaxis\":\"x\",\"y\":[\"2023/10/03\",\"2023/10/10\",\"2023/10/17\",\"2023/10/24\",\"2023/10/31\"],\"yaxis\":\"y\",\"type\":\"scatter\"},{\"hovertemplate\":\"<b>%{hovertext}</b><br><br>workflow_category=[Full] Deliveroo Pipeline \\ud83c\\udde7\\ud83c\\uddea<br>Time of Day (12-hour format)=%{x}<br>Date=%{y}<extra></extra>\",\"hovertext\":[\"[Full] Deliveroo Pipeline \\ud83c\\udde7\\ud83c\\uddea\",\"[Full] Deliveroo Pipeline \\ud83c\\udde7\\ud83c\\uddea\",\"[Full] Deliveroo Pipeline \\ud83c\\udde7\\ud83c\\uddea\",\"[Full] Deliveroo Pipeline \\ud83c\\udde7\\ud83c\\uddea\",\"[Full] Deliveroo Pipeline \\ud83c\\udde7\\ud83c\\uddea\"],\"legendgroup\":\"[Full] Deliveroo Pipeline \\ud83c\\udde7\\ud83c\\uddea\",\"marker\":{\"color\":\"#FECB52\",\"symbol\":\"circle\",\"size\":15},\"mode\":\"markers\",\"name\":\"[Full] Deliveroo Pipeline \\ud83c\\udde7\\ud83c\\uddea\",\"orientation\":\"h\",\"showlegend\":true,\"x\":[19.015555555555554,19.015555555555554,19.015555555555554,19.015555555555554,19.015555555555554],\"xaxis\":\"x\",\"y\":[\"2023/10/04\",\"2023/10/11\",\"2023/10/18\",\"2023/10/25\",\"2023/11/01\"],\"yaxis\":\"y\",\"type\":\"scatter\"},{\"hovertemplate\":\"<b>%{hovertext}</b><br><br>workflow_category=[Full] Deliveroo Pipeline \\ud83c\\uddee\\ud83c\\uddf9<br>Time of Day (12-hour format)=%{x}<br>Date=%{y}<extra></extra>\",\"hovertext\":[\"[Full] Deliveroo Pipeline \\ud83c\\uddee\\ud83c\\uddf9\",\"[Full] Deliveroo Pipeline \\ud83c\\uddee\\ud83c\\uddf9\",\"[Full] Deliveroo Pipeline \\ud83c\\uddee\\ud83c\\uddf9\",\"[Full] Deliveroo Pipeline \\ud83c\\uddee\\ud83c\\uddf9\",\"[Full] Deliveroo Pipeline \\ud83c\\uddee\\ud83c\\uddf9\"],\"legendgroup\":\"[Full] Deliveroo Pipeline \\ud83c\\uddee\\ud83c\\uddf9\",\"marker\":{\"color\":\"#636efa\",\"symbol\":\"circle\",\"size\":15},\"mode\":\"markers\",\"name\":\"[Full] Deliveroo Pipeline \\ud83c\\uddee\\ud83c\\uddf9\",\"orientation\":\"h\",\"showlegend\":true,\"x\":[21.015555555555554,21.015555555555554,21.015555555555554,21.015555555555554,21.015555555555554],\"xaxis\":\"x\",\"y\":[\"2023/10/04\",\"2023/10/11\",\"2023/10/18\",\"2023/10/25\",\"2023/11/01\"],\"yaxis\":\"y\",\"type\":\"scatter\"},{\"hovertemplate\":\"<b>%{hovertext}</b><br><br>workflow_category=[Full] Bayut Listings Pipeline \\ud83c\\udde6\\ud83c\\uddea<br>Time of Day (12-hour format)=%{x}<br>Date=%{y}<extra></extra>\",\"hovertext\":[\"[Full] Bayut Listings Pipeline \\ud83c\\udde6\\ud83c\\uddea\",\"[Full] Bayut Listings Pipeline \\ud83c\\udde6\\ud83c\\uddea\",\"[Full] Bayut Listings Pipeline \\ud83c\\udde6\\ud83c\\uddea\",\"[Full] Bayut Listings Pipeline \\ud83c\\udde6\\ud83c\\uddea\",\"[Full] Bayut Listings Pipeline \\ud83c\\udde6\\ud83c\\uddea\"],\"legendgroup\":\"[Full] Bayut Listings Pipeline \\ud83c\\udde6\\ud83c\\uddea\",\"marker\":{\"color\":\"#EF553B\",\"symbol\":\"circle\",\"size\":15},\"mode\":\"markers\",\"name\":\"[Full] Bayut Listings Pipeline \\ud83c\\udde6\\ud83c\\uddea\",\"orientation\":\"h\",\"showlegend\":true,\"x\":[18.006944444444443,18.006944444444443,18.006944444444443,18.006944444444443,18.006944444444443],\"xaxis\":\"x\",\"y\":[\"2023/10/05\",\"2023/10/12\",\"2023/10/19\",\"2023/10/26\",\"2023/11/02\"],\"yaxis\":\"y\",\"type\":\"scatter\"},{\"hovertemplate\":\"<b>%{hovertext}</b><br><br>workflow_category=[Full] Wasalt Pipeline \\ud83c\\uddf8\\ud83c\\udde6<br>Time of Day (12-hour format)=%{x}<br>Date=%{y}<extra></extra>\",\"hovertext\":[\"[Full] Wasalt Pipeline \\ud83c\\uddf8\\ud83c\\udde6\",\"[Full] Wasalt Pipeline \\ud83c\\uddf8\\ud83c\\udde6\",\"[Full] Wasalt Pipeline \\ud83c\\uddf8\\ud83c\\udde6\",\"[Full] Wasalt Pipeline \\ud83c\\uddf8\\ud83c\\udde6\",\"[Full] Wasalt Pipeline \\ud83c\\uddf8\\ud83c\\udde6\"],\"legendgroup\":\"[Full] Wasalt Pipeline \\ud83c\\uddf8\\ud83c\\udde6\",\"marker\":{\"color\":\"#00cc96\",\"symbol\":\"circle\",\"size\":15},\"mode\":\"markers\",\"name\":\"[Full] Wasalt Pipeline \\ud83c\\uddf8\\ud83c\\udde6\",\"orientation\":\"h\",\"showlegend\":true,\"x\":[0.004722222222222222,0.004722222222222222,0.17055555555555554,0.004722222222222222,0.004722222222222222],\"xaxis\":\"x\",\"y\":[\"2023/10/06\",\"2023/10/13\",\"2023/10/20\",\"2023/10/27\",\"2023/11/03\"],\"yaxis\":\"y\",\"type\":\"scatter\"},{\"hovertemplate\":\"<b>%{hovertext}</b><br><br>workflow_category=[Full] Propertyfinder Listings Pipeline \\ud83c\\udde6\\ud83c\\uddea<br>Time of Day (12-hour format)=%{x}<br>Date=%{y}<extra></extra>\",\"hovertext\":[\"[Full] Propertyfinder Listings Pipeline \\ud83c\\udde6\\ud83c\\uddea\",\"[Full] Propertyfinder Listings Pipeline \\ud83c\\udde6\\ud83c\\uddea\",\"[Full] Propertyfinder Listings Pipeline \\ud83c\\udde6\\ud83c\\uddea\",\"[Full] Propertyfinder Listings Pipeline \\ud83c\\udde6\\ud83c\\uddea\",\"[Full] Propertyfinder Listings Pipeline \\ud83c\\udde6\\ud83c\\uddea\"],\"legendgroup\":\"[Full] Propertyfinder Listings Pipeline \\ud83c\\udde6\\ud83c\\uddea\",\"marker\":{\"color\":\"#ab63fa\",\"symbol\":\"circle\",\"size\":15},\"mode\":\"markers\",\"name\":\"[Full] Propertyfinder Listings Pipeline \\ud83c\\udde6\\ud83c\\uddea\",\"orientation\":\"h\",\"showlegend\":true,\"x\":[0.17138888888888887,0.17138888888888887,0.3372222222222222,0.17138888888888887,0.17138888888888887],\"xaxis\":\"x\",\"y\":[\"2023/10/06\",\"2023/10/13\",\"2023/10/20\",\"2023/10/27\",\"2023/11/03\"],\"yaxis\":\"y\",\"type\":\"scatter\"},{\"hovertemplate\":\"<b>%{hovertext}</b><br><br>workflow_category=[Full] Zoomproperty Pipeline \\ud83c\\udde6\\ud83c\\uddea<br>Time of Day (12-hour format)=%{x}<br>Date=%{y}<extra></extra>\",\"hovertext\":[\"[Full] Zoomproperty Pipeline \\ud83c\\udde6\\ud83c\\uddea\",\"[Full] Zoomproperty Pipeline \\ud83c\\udde6\\ud83c\\uddea\",\"[Full] Zoomproperty Pipeline \\ud83c\\udde6\\ud83c\\uddea\",\"[Full] Zoomproperty Pipeline \\ud83c\\udde6\\ud83c\\uddea\",\"[Full] Zoomproperty Pipeline \\ud83c\\udde6\\ud83c\\uddea\"],\"legendgroup\":\"[Full] Zoomproperty Pipeline \\ud83c\\udde6\\ud83c\\uddea\",\"marker\":{\"color\":\"#FFA15A\",\"symbol\":\"circle\",\"size\":15},\"mode\":\"markers\",\"name\":\"[Full] Zoomproperty Pipeline \\ud83c\\udde6\\ud83c\\uddea\",\"orientation\":\"h\",\"showlegend\":true,\"x\":[0.33805555555555555,0.33805555555555555,0.5038888888888889,0.33805555555555555,0.33805555555555555],\"xaxis\":\"x\",\"y\":[\"2023/10/06\",\"2023/10/13\",\"2023/10/20\",\"2023/10/27\",\"2023/11/03\"],\"yaxis\":\"y\",\"type\":\"scatter\"},{\"hovertemplate\":\"<b>%{hovertext}</b><br><br>workflow_category=[Full] Bayut Supplementary Data Pipeline \\ud83c\\udde6\\ud83c\\uddea<br>Time of Day (12-hour format)=%{x}<br>Date=%{y}<extra></extra>\",\"hovertext\":[\"[Full] Bayut Supplementary Data Pipeline \\ud83c\\udde6\\ud83c\\uddea\",\"[Full] Bayut Supplementary Data Pipeline \\ud83c\\udde6\\ud83c\\uddea\",\"[Full] Bayut Supplementary Data Pipeline \\ud83c\\udde6\\ud83c\\uddea\",\"[Full] Bayut Supplementary Data Pipeline \\ud83c\\udde6\\ud83c\\uddea\",\"[Full] Bayut Supplementary Data Pipeline \\ud83c\\udde6\\ud83c\\uddea\"],\"legendgroup\":\"[Full] Bayut Supplementary Data Pipeline \\ud83c\\udde6\\ud83c\\uddea\",\"marker\":{\"color\":\"#19d3f3\",\"symbol\":\"circle\",\"size\":15},\"mode\":\"markers\",\"name\":\"[Full] Bayut Supplementary Data Pipeline \\ud83c\\udde6\\ud83c\\uddea\",\"orientation\":\"h\",\"showlegend\":true,\"x\":[18.004166666666666,18.004166666666666,18.004166666666666,18.004166666666666,18.004166666666666],\"xaxis\":\"x\",\"y\":[\"2023/10/06\",\"2023/10/13\",\"2023/10/20\",\"2023/10/27\",\"2023/11/03\"],\"yaxis\":\"y\",\"type\":\"scatter\"},{\"hovertemplate\":\"<b>%{hovertext}</b><br><br>workflow_category=[Full] Tripadvisor Pipeline \\ud83c\\udde6\\ud83c\\uddfa<br>Time of Day (12-hour format)=%{x}<br>Date=%{y}<extra></extra>\",\"hovertext\":[\"[Full] Tripadvisor Pipeline \\ud83c\\udde6\\ud83c\\uddfa\"],\"legendgroup\":\"[Full] Tripadvisor Pipeline \\ud83c\\udde6\\ud83c\\uddfa\",\"marker\":{\"color\":\"#FF6692\",\"symbol\":\"circle\",\"size\":15},\"mode\":\"markers\",\"name\":\"[Full] Tripadvisor Pipeline \\ud83c\\udde6\\ud83c\\uddfa\",\"orientation\":\"h\",\"showlegend\":true,\"x\":[18.00583333333333],\"xaxis\":\"x\",\"y\":[\"2023/10/07\"],\"yaxis\":\"y\",\"type\":\"scatter\"},{\"hovertemplate\":\"<b>%{hovertext}</b><br><br>workflow_category=[Slack] Weekly Swarm Report \\ud83d\\udc1d<br>Time of Day (12-hour format)=%{x}<br>Date=%{y}<extra></extra>\",\"hovertext\":[\"[Slack] Weekly Swarm Report \\ud83d\\udc1d\",\"[Slack] Weekly Swarm Report \\ud83d\\udc1d\",\"[Slack] Weekly Swarm Report \\ud83d\\udc1d\",\"[Slack] Weekly Swarm Report \\ud83d\\udc1d\"],\"legendgroup\":\"[Slack] Weekly Swarm Report \\ud83d\\udc1d\",\"marker\":{\"color\":\"#B6E880\",\"symbol\":\"circle\",\"size\":15},\"mode\":\"markers\",\"name\":\"[Slack] Weekly Swarm Report \\ud83d\\udc1d\",\"orientation\":\"h\",\"showlegend\":true,\"x\":[18.00027777777778,18.00027777777778,18.00027777777778,18.00027777777778],\"xaxis\":\"x\",\"y\":[\"2023/10/08\",\"2023/10/15\",\"2023/10/22\",\"2023/10/29\"],\"yaxis\":\"y\",\"type\":\"scatter\"},{\"hovertemplate\":\"<b>%{hovertext}</b><br><br>workflow_category=[Full] Tripadvisor Pipeline \\ud83c\\uddec\\ud83c\\udde7<br>Time of Day (12-hour format)=%{x}<br>Date=%{y}<extra></extra>\",\"hovertext\":[\"[Full] Tripadvisor Pipeline \\ud83c\\uddec\\ud83c\\udde7\"],\"legendgroup\":\"[Full] Tripadvisor Pipeline \\ud83c\\uddec\\ud83c\\udde7\",\"marker\":{\"color\":\"#FF97FF\",\"symbol\":\"circle\",\"size\":15},\"mode\":\"markers\",\"name\":\"[Full] Tripadvisor Pipeline \\ud83c\\uddec\\ud83c\\udde7\",\"orientation\":\"h\",\"showlegend\":true,\"x\":[18.000833333333333],\"xaxis\":\"x\",\"y\":[\"2023/10/10\"],\"yaxis\":\"y\",\"type\":\"scatter\"},{\"hovertemplate\":\"<b>%{hovertext}</b><br><br>workflow_category=[Full] Doordash Pipeline \\ud83c\\udde8\\ud83c\\udde6<br>Time of Day (12-hour format)=%{x}<br>Date=%{y}<extra></extra>\",\"hovertext\":[\"[Full] Doordash Pipeline \\ud83c\\udde8\\ud83c\\udde6\"],\"legendgroup\":\"[Full] Doordash Pipeline \\ud83c\\udde8\\ud83c\\udde6\",\"marker\":{\"color\":\"#FECB52\",\"symbol\":\"circle\",\"size\":15},\"mode\":\"markers\",\"name\":\"[Full] Doordash Pipeline \\ud83c\\udde8\\ud83c\\udde6\",\"orientation\":\"h\",\"showlegend\":true,\"x\":[0.008611111111111111],\"xaxis\":\"x\",\"y\":[\"2023/10/12\"],\"yaxis\":\"y\",\"type\":\"scatter\"},{\"hovertemplate\":\"<b>%{hovertext}</b><br><br>workflow_category=[Full] Tripadvisor Pipeline \\ud83c\\uddfa\\ud83c\\uddf8<br>Time of Day (12-hour format)=%{x}<br>Date=%{y}<extra></extra>\",\"hovertext\":[\"[Full] Tripadvisor Pipeline \\ud83c\\uddfa\\ud83c\\uddf8\"],\"legendgroup\":\"[Full] Tripadvisor Pipeline \\ud83c\\uddfa\\ud83c\\uddf8\",\"marker\":{\"color\":\"#636efa\",\"symbol\":\"circle\",\"size\":15},\"mode\":\"markers\",\"name\":\"[Full] Tripadvisor Pipeline \\ud83c\\uddfa\\ud83c\\uddf8\",\"orientation\":\"h\",\"showlegend\":true,\"x\":[0.0038888888888888888],\"xaxis\":\"x\",\"y\":[\"2023/10/20\"],\"yaxis\":\"y\",\"type\":\"scatter\"},{\"hovertemplate\":\"<b>%{hovertext}</b><br><br>workflow_category=[Full] Yelp Pipeline \\ud83c\\uddfa\\ud83c\\uddf8<br>Time of Day (12-hour format)=%{x}<br>Date=%{y}<extra></extra>\",\"hovertext\":[\"[Full] Yelp Pipeline \\ud83c\\uddfa\\ud83c\\uddf8\"],\"legendgroup\":\"[Full] Yelp Pipeline \\ud83c\\uddfa\\ud83c\\uddf8\",\"marker\":{\"color\":\"#EF553B\",\"symbol\":\"circle\",\"size\":15},\"mode\":\"markers\",\"name\":\"[Full] Yelp Pipeline \\ud83c\\uddfa\\ud83c\\uddf8\",\"orientation\":\"h\",\"showlegend\":true,\"x\":[0.6705555555555556],\"xaxis\":\"x\",\"y\":[\"2023/10/20\"],\"yaxis\":\"y\",\"type\":\"scatter\"},{\"hovertemplate\":\"<b>%{hovertext}</b><br><br>workflow_category=[Full] Doordash Pipeline \\ud83c\\uddfa\\ud83c\\uddf8<br>Time of Day (12-hour format)=%{x}<br>Date=%{y}<extra></extra>\",\"hovertext\":[\"[Full] Doordash Pipeline \\ud83c\\uddfa\\ud83c\\uddf8\"],\"legendgroup\":\"[Full] Doordash Pipeline \\ud83c\\uddfa\\ud83c\\uddf8\",\"marker\":{\"color\":\"#00cc96\",\"symbol\":\"circle\",\"size\":15},\"mode\":\"markers\",\"name\":\"[Full] Doordash Pipeline \\ud83c\\uddfa\\ud83c\\uddf8\",\"orientation\":\"h\",\"showlegend\":true,\"x\":[0.006666666666666667],\"xaxis\":\"x\",\"y\":[\"2023/10/25\"],\"yaxis\":\"y\",\"type\":\"scatter\"}],                        {\"template\":{\"data\":{\"barpolar\":[{\"marker\":{\"line\":{\"color\":\"white\",\"width\":0.5},\"pattern\":{\"fillmode\":\"overlay\",\"size\":10,\"solidity\":0.2}},\"type\":\"barpolar\"}],\"bar\":[{\"error_x\":{\"color\":\"#2a3f5f\"},\"error_y\":{\"color\":\"#2a3f5f\"},\"marker\":{\"line\":{\"color\":\"white\",\"width\":0.5},\"pattern\":{\"fillmode\":\"overlay\",\"size\":10,\"solidity\":0.2}},\"type\":\"bar\"}],\"carpet\":[{\"aaxis\":{\"endlinecolor\":\"#2a3f5f\",\"gridcolor\":\"#C8D4E3\",\"linecolor\":\"#C8D4E3\",\"minorgridcolor\":\"#C8D4E3\",\"startlinecolor\":\"#2a3f5f\"},\"baxis\":{\"endlinecolor\":\"#2a3f5f\",\"gridcolor\":\"#C8D4E3\",\"linecolor\":\"#C8D4E3\",\"minorgridcolor\":\"#C8D4E3\",\"startlinecolor\":\"#2a3f5f\"},\"type\":\"carpet\"}],\"choropleth\":[{\"colorbar\":{\"outlinewidth\":0,\"ticks\":\"\"},\"type\":\"choropleth\"}],\"contourcarpet\":[{\"colorbar\":{\"outlinewidth\":0,\"ticks\":\"\"},\"type\":\"contourcarpet\"}],\"contour\":[{\"colorbar\":{\"outlinewidth\":0,\"ticks\":\"\"},\"colorscale\":[[0.0,\"#0d0887\"],[0.1111111111111111,\"#46039f\"],[0.2222222222222222,\"#7201a8\"],[0.3333333333333333,\"#9c179e\"],[0.4444444444444444,\"#bd3786\"],[0.5555555555555556,\"#d8576b\"],[0.6666666666666666,\"#ed7953\"],[0.7777777777777778,\"#fb9f3a\"],[0.8888888888888888,\"#fdca26\"],[1.0,\"#f0f921\"]],\"type\":\"contour\"}],\"heatmapgl\":[{\"colorbar\":{\"outlinewidth\":0,\"ticks\":\"\"},\"colorscale\":[[0.0,\"#0d0887\"],[0.1111111111111111,\"#46039f\"],[0.2222222222222222,\"#7201a8\"],[0.3333333333333333,\"#9c179e\"],[0.4444444444444444,\"#bd3786\"],[0.5555555555555556,\"#d8576b\"],[0.6666666666666666,\"#ed7953\"],[0.7777777777777778,\"#fb9f3a\"],[0.8888888888888888,\"#fdca26\"],[1.0,\"#f0f921\"]],\"type\":\"heatmapgl\"}],\"heatmap\":[{\"colorbar\":{\"outlinewidth\":0,\"ticks\":\"\"},\"colorscale\":[[0.0,\"#0d0887\"],[0.1111111111111111,\"#46039f\"],[0.2222222222222222,\"#7201a8\"],[0.3333333333333333,\"#9c179e\"],[0.4444444444444444,\"#bd3786\"],[0.5555555555555556,\"#d8576b\"],[0.6666666666666666,\"#ed7953\"],[0.7777777777777778,\"#fb9f3a\"],[0.8888888888888888,\"#fdca26\"],[1.0,\"#f0f921\"]],\"type\":\"heatmap\"}],\"histogram2dcontour\":[{\"colorbar\":{\"outlinewidth\":0,\"ticks\":\"\"},\"colorscale\":[[0.0,\"#0d0887\"],[0.1111111111111111,\"#46039f\"],[0.2222222222222222,\"#7201a8\"],[0.3333333333333333,\"#9c179e\"],[0.4444444444444444,\"#bd3786\"],[0.5555555555555556,\"#d8576b\"],[0.6666666666666666,\"#ed7953\"],[0.7777777777777778,\"#fb9f3a\"],[0.8888888888888888,\"#fdca26\"],[1.0,\"#f0f921\"]],\"type\":\"histogram2dcontour\"}],\"histogram2d\":[{\"colorbar\":{\"outlinewidth\":0,\"ticks\":\"\"},\"colorscale\":[[0.0,\"#0d0887\"],[0.1111111111111111,\"#46039f\"],[0.2222222222222222,\"#7201a8\"],[0.3333333333333333,\"#9c179e\"],[0.4444444444444444,\"#bd3786\"],[0.5555555555555556,\"#d8576b\"],[0.6666666666666666,\"#ed7953\"],[0.7777777777777778,\"#fb9f3a\"],[0.8888888888888888,\"#fdca26\"],[1.0,\"#f0f921\"]],\"type\":\"histogram2d\"}],\"histogram\":[{\"marker\":{\"pattern\":{\"fillmode\":\"overlay\",\"size\":10,\"solidity\":0.2}},\"type\":\"histogram\"}],\"mesh3d\":[{\"colorbar\":{\"outlinewidth\":0,\"ticks\":\"\"},\"type\":\"mesh3d\"}],\"parcoords\":[{\"line\":{\"colorbar\":{\"outlinewidth\":0,\"ticks\":\"\"}},\"type\":\"parcoords\"}],\"pie\":[{\"automargin\":true,\"type\":\"pie\"}],\"scatter3d\":[{\"line\":{\"colorbar\":{\"outlinewidth\":0,\"ticks\":\"\"}},\"marker\":{\"colorbar\":{\"outlinewidth\":0,\"ticks\":\"\"}},\"type\":\"scatter3d\"}],\"scattercarpet\":[{\"marker\":{\"colorbar\":{\"outlinewidth\":0,\"ticks\":\"\"}},\"type\":\"scattercarpet\"}],\"scattergeo\":[{\"marker\":{\"colorbar\":{\"outlinewidth\":0,\"ticks\":\"\"}},\"type\":\"scattergeo\"}],\"scattergl\":[{\"marker\":{\"colorbar\":{\"outlinewidth\":0,\"ticks\":\"\"}},\"type\":\"scattergl\"}],\"scattermapbox\":[{\"marker\":{\"colorbar\":{\"outlinewidth\":0,\"ticks\":\"\"}},\"type\":\"scattermapbox\"}],\"scatterpolargl\":[{\"marker\":{\"colorbar\":{\"outlinewidth\":0,\"ticks\":\"\"}},\"type\":\"scatterpolargl\"}],\"scatterpolar\":[{\"marker\":{\"colorbar\":{\"outlinewidth\":0,\"ticks\":\"\"}},\"type\":\"scatterpolar\"}],\"scatter\":[{\"fillpattern\":{\"fillmode\":\"overlay\",\"size\":10,\"solidity\":0.2},\"type\":\"scatter\"}],\"scatterternary\":[{\"marker\":{\"colorbar\":{\"outlinewidth\":0,\"ticks\":\"\"}},\"type\":\"scatterternary\"}],\"surface\":[{\"colorbar\":{\"outlinewidth\":0,\"ticks\":\"\"},\"colorscale\":[[0.0,\"#0d0887\"],[0.1111111111111111,\"#46039f\"],[0.2222222222222222,\"#7201a8\"],[0.3333333333333333,\"#9c179e\"],[0.4444444444444444,\"#bd3786\"],[0.5555555555555556,\"#d8576b\"],[0.6666666666666666,\"#ed7953\"],[0.7777777777777778,\"#fb9f3a\"],[0.8888888888888888,\"#fdca26\"],[1.0,\"#f0f921\"]],\"type\":\"surface\"}],\"table\":[{\"cells\":{\"fill\":{\"color\":\"#EBF0F8\"},\"line\":{\"color\":\"white\"}},\"header\":{\"fill\":{\"color\":\"#C8D4E3\"},\"line\":{\"color\":\"white\"}},\"type\":\"table\"}]},\"layout\":{\"annotationdefaults\":{\"arrowcolor\":\"#2a3f5f\",\"arrowhead\":0,\"arrowwidth\":1},\"autotypenumbers\":\"strict\",\"coloraxis\":{\"colorbar\":{\"outlinewidth\":0,\"ticks\":\"\"}},\"colorscale\":{\"diverging\":[[0,\"#8e0152\"],[0.1,\"#c51b7d\"],[0.2,\"#de77ae\"],[0.3,\"#f1b6da\"],[0.4,\"#fde0ef\"],[0.5,\"#f7f7f7\"],[0.6,\"#e6f5d0\"],[0.7,\"#b8e186\"],[0.8,\"#7fbc41\"],[0.9,\"#4d9221\"],[1,\"#276419\"]],\"sequential\":[[0.0,\"#0d0887\"],[0.1111111111111111,\"#46039f\"],[0.2222222222222222,\"#7201a8\"],[0.3333333333333333,\"#9c179e\"],[0.4444444444444444,\"#bd3786\"],[0.5555555555555556,\"#d8576b\"],[0.6666666666666666,\"#ed7953\"],[0.7777777777777778,\"#fb9f3a\"],[0.8888888888888888,\"#fdca26\"],[1.0,\"#f0f921\"]],\"sequentialminus\":[[0.0,\"#0d0887\"],[0.1111111111111111,\"#46039f\"],[0.2222222222222222,\"#7201a8\"],[0.3333333333333333,\"#9c179e\"],[0.4444444444444444,\"#bd3786\"],[0.5555555555555556,\"#d8576b\"],[0.6666666666666666,\"#ed7953\"],[0.7777777777777778,\"#fb9f3a\"],[0.8888888888888888,\"#fdca26\"],[1.0,\"#f0f921\"]]},\"colorway\":[\"#636efa\",\"#EF553B\",\"#00cc96\",\"#ab63fa\",\"#FFA15A\",\"#19d3f3\",\"#FF6692\",\"#B6E880\",\"#FF97FF\",\"#FECB52\"],\"font\":{\"color\":\"#2a3f5f\"},\"geo\":{\"bgcolor\":\"white\",\"lakecolor\":\"white\",\"landcolor\":\"white\",\"showlakes\":true,\"showland\":true,\"subunitcolor\":\"#C8D4E3\"},\"hoverlabel\":{\"align\":\"left\"},\"hovermode\":\"closest\",\"mapbox\":{\"style\":\"light\"},\"paper_bgcolor\":\"white\",\"plot_bgcolor\":\"white\",\"polar\":{\"angularaxis\":{\"gridcolor\":\"#EBF0F8\",\"linecolor\":\"#EBF0F8\",\"ticks\":\"\"},\"bgcolor\":\"white\",\"radialaxis\":{\"gridcolor\":\"#EBF0F8\",\"linecolor\":\"#EBF0F8\",\"ticks\":\"\"}},\"scene\":{\"xaxis\":{\"backgroundcolor\":\"white\",\"gridcolor\":\"#DFE8F3\",\"gridwidth\":2,\"linecolor\":\"#EBF0F8\",\"showbackground\":true,\"ticks\":\"\",\"zerolinecolor\":\"#EBF0F8\"},\"yaxis\":{\"backgroundcolor\":\"white\",\"gridcolor\":\"#DFE8F3\",\"gridwidth\":2,\"linecolor\":\"#EBF0F8\",\"showbackground\":true,\"ticks\":\"\",\"zerolinecolor\":\"#EBF0F8\"},\"zaxis\":{\"backgroundcolor\":\"white\",\"gridcolor\":\"#DFE8F3\",\"gridwidth\":2,\"linecolor\":\"#EBF0F8\",\"showbackground\":true,\"ticks\":\"\",\"zerolinecolor\":\"#EBF0F8\"}},\"shapedefaults\":{\"line\":{\"color\":\"#2a3f5f\"}},\"ternary\":{\"aaxis\":{\"gridcolor\":\"#DFE8F3\",\"linecolor\":\"#A2B1C6\",\"ticks\":\"\"},\"baxis\":{\"gridcolor\":\"#DFE8F3\",\"linecolor\":\"#A2B1C6\",\"ticks\":\"\"},\"bgcolor\":\"white\",\"caxis\":{\"gridcolor\":\"#DFE8F3\",\"linecolor\":\"#A2B1C6\",\"ticks\":\"\"}},\"title\":{\"x\":0.05},\"xaxis\":{\"automargin\":true,\"gridcolor\":\"#EBF0F8\",\"linecolor\":\"#EBF0F8\",\"ticks\":\"\",\"title\":{\"standoff\":15},\"zerolinecolor\":\"#EBF0F8\",\"zerolinewidth\":2},\"yaxis\":{\"automargin\":true,\"gridcolor\":\"#EBF0F8\",\"linecolor\":\"#EBF0F8\",\"ticks\":\"\",\"title\":{\"standoff\":15},\"zerolinecolor\":\"#EBF0F8\",\"zerolinewidth\":2}}},\"xaxis\":{\"anchor\":\"y\",\"domain\":[0.0,1.0],\"title\":{\"text\":\"Time of Day (12-hour format)\"},\"tickmode\":\"array\",\"tickvals\":[1,2,3,4,5,6,7,8,9,10,11,12,13,14,15,16,17,18,19,20,21,22,23,24],\"ticktext\":[\"12 AM\",\"01 AM\",\"02 AM\",\"03 AM\",\"04 AM\",\"05 AM\",\"06 AM\",\"07 AM\",\"08 AM\",\"09 AM\",\"10 AM\",\"11 AM\",\"12 PM\",\"01 PM\",\"02 PM\",\"03 PM\",\"04 PM\",\"05 PM\",\"06 PM\",\"07 PM\",\"08 PM\",\"09 PM\",\"10 PM\",\"11 PM\"]},\"yaxis\":{\"anchor\":\"x\",\"domain\":[0.0,1.0],\"title\":{\"text\":\"Date\"},\"tickmode\":\"array\",\"tickvals\":[0,1,2,3,4,5,6,7,8,9,10,11,12,13,14,15,16,17,18,19,20,21,22,23,24,25,26,27,28,29,30,31,32,33,34,35,36,37,38,39,40,41,42,43]},\"legend\":{\"title\":{\"text\":\"Workflow category\"},\"tracegroupgap\":0},\"title\":{\"text\":\"All Workflow runs scheduled from 2023-10-01 to 2023-11-05\"},\"showlegend\":true,\"height\":700,\"width\":2000},                        {\"responsive\": true}                    )                };                            </script>        </div>\n",
       "</body>\n",
       "</html>"
      ]
     },
     "metadata": {},
     "output_type": "display_data"
    }
   ],
   "source": [
    "# Adjust the plot dimensions here\n",
    "PLOT_HEIGHT = 700\n",
    "PLOT_WIDTH = 2000\n",
    "POINT_SIZE = 15\n",
    "\n",
    "\n",
    "df = pd.DataFrame(all_scheduled_runs)\n",
    "\n",
    "df[\"start_datetime\"] = pd.to_datetime(df[\"start_datetime\"])\n",
    "\n",
    "# Sort DataFrame by 'start_datetime'\n",
    "df.sort_values(by=\"start_datetime\", inplace=True)\n",
    "\n",
    "# jitter closeby points\n",
    "df = jitterPoints(df)\n",
    "\n",
    "# Increase the size of all points by adjusting the marker size\n",
    "point_size = POINT_SIZE  # Adjust the size as needed\n",
    "\n",
    "# Create an interactive scatter plot using Plotly Express\n",
    "fig = px.scatter(\n",
    "    df,\n",
    "    x=df[\"start_datetime\"].dt.hour\n",
    "    + df[\"start_datetime\"].dt.minute / 60\n",
    "    + df[\"start_datetime\"].dt.second / 3600,\n",
    "    y=df[\"start_datetime\"].dt.strftime(\"%Y/%m/%d\"),\n",
    "    color=\"workflow_category\",  # Color points by 'workflow_category' column\n",
    "    hover_name=\"name\",  # Display event name on hover\n",
    "    labels={\"x\": \"Time of Day (12-hour format)\", \"y\": \"Date\"},\n",
    "    title=f\"All Workflow runs scheduled from {start_date.strftime('%Y-%m-%d')} to {end_date.strftime('%Y-%m-%d')}\",\n",
    "    template=\"plotly_white\",\n",
    ")\n",
    "\n",
    "# Customize the appearance of the plot\n",
    "fig.update_layout(\n",
    "    xaxis=dict(\n",
    "        tickmode=\"array\",\n",
    "        tickvals=list(range(1, 25)),\n",
    "        ticktext=[\n",
    "            \"12 AM\",\n",
    "            \"01 AM\",\n",
    "            \"02 AM\",\n",
    "            \"03 AM\",\n",
    "            \"04 AM\",\n",
    "            \"05 AM\",\n",
    "            \"06 AM\",\n",
    "            \"07 AM\",\n",
    "            \"08 AM\",\n",
    "            \"09 AM\",\n",
    "            \"10 AM\",\n",
    "            \"11 AM\",\n",
    "            \"12 PM\",\n",
    "            \"01 PM\",\n",
    "            \"02 PM\",\n",
    "            \"03 PM\",\n",
    "            \"04 PM\",\n",
    "            \"05 PM\",\n",
    "            \"06 PM\",\n",
    "            \"07 PM\",\n",
    "            \"08 PM\",\n",
    "            \"09 PM\",\n",
    "            \"10 PM\",\n",
    "            \"11 PM\",\n",
    "        ],\n",
    "    ),\n",
    "    yaxis=dict(\n",
    "        tickmode=\"array\",\n",
    "        tickvals=list(\n",
    "            range(\n",
    "                0,\n",
    "                int((df[\"start_datetime\"].iloc[-1] - df[\"start_datetime\"].iloc[0]).days)\n",
    "                + 10,\n",
    "            )\n",
    "        ),\n",
    "    ),\n",
    "    showlegend=True,\n",
    "    legend_title_text=\"Workflow category\",\n",
    "    height=PLOT_HEIGHT,  # Height of the plot\n",
    "    width=PLOT_WIDTH,  # Width of the plot\n",
    ")\n",
    "\n",
    "# Increase the marker size for all points\n",
    "fig.update_traces(marker=dict(size=point_size))\n",
    "\n",
    "# Show the interactive plot\n",
    "fig.show()"
   ]
  },
  {
   "cell_type": "markdown",
   "metadata": {
    "application/vnd.databricks.v1+cell": {
     "cellMetadata": {},
     "inputWidgets": {},
     "nuid": "bb306f7b-fa82-4949-a4de-b1f77e35d015",
     "showTitle": false,
     "title": ""
    }
   },
   "source": [
    "## List workflow runs\n",
    "#### Fetch all workflow runs that have taken place since the mentioned start date. Making sure to parse the necessary info\n",
    "<a href=\"https://docs.databricks.com/api/workspace/jobs/listruns\">API Docs</a>\n",
    "\n",
    "\n"
   ]
  },
  {
   "cell_type": "code",
   "execution_count": null,
   "metadata": {
    "application/vnd.databricks.v1+cell": {
     "cellMetadata": {
      "byteLimit": 2048000,
      "rowLimit": 10000
     },
     "inputWidgets": {},
     "nuid": "26076b8c-d7d9-4ac4-b398-2f1a587801e8",
     "showTitle": false,
     "title": ""
    }
   },
   "outputs": [],
   "source": [
    "all_runs_info = []\n",
    "\n",
    "\n",
    "def getAllRuns(list_runs_url: int) -> None:\n",
    "    \"\"\"\n",
    "    Fetches all the run and metadata about a given workflow.\n",
    "    input:\n",
    "        lists_jobs_url [str]: Databricks API used to fetch all the runs belonging to a given job.\n",
    "    output:\n",
    "        None\n",
    "    \"\"\"\n",
    "\n",
    "    response = requests.get(\n",
    "        list_runs_url,\n",
    "        headers=headers,\n",
    "    )\n",
    "    assert response.status_code == 200\n",
    "\n",
    "    response_data = response.json()\n",
    "    pattern = r\"job_id=([\\w-]+)\"\n",
    "    matched = re.search(pattern, list_runs_url)\n",
    "    job_id = int(matched.group(1))\n",
    "\n",
    "    if \"runs\" in response_data:\n",
    "        for run_info in response_data[\"runs\"]:\n",
    "            if (\n",
    "                \"start_time\" in run_info\n",
    "                and \"end_time\" in run_info\n",
    "                and run_info[\"end_time\"]\n",
    "            ):\n",
    "                all_runs_info.append(\n",
    "                    {\n",
    "                        \"Task\": jobs[job_id][\"name\"],\n",
    "                        \"Start\": datetime.datetime.fromtimestamp(\n",
    "                            run_info[\"start_time\"] / 1000\n",
    "                        ),\n",
    "                        \"Finish\": datetime.datetime.fromtimestamp(\n",
    "                            run_info[\"end_time\"] / 1000\n",
    "                        ),\n",
    "                        \"Duration\": (\n",
    "                            datetime.datetime.fromtimestamp(run_info[\"end_time\"] / 1000)\n",
    "                            - datetime.datetime.fromtimestamp(\n",
    "                                run_info[\"start_time\"] / 1000\n",
    "                            )\n",
    "                        ).total_seconds()\n",
    "                        / 3600,\n",
    "                        \"workflow_category\": jobs[job_id][\"workflow_category\"],\n",
    "                    }\n",
    "                )\n",
    "\n",
    "    paginate(\n",
    "        response_data.get(\"has_more\", False),\n",
    "        response_data.get(\"next_page_token\"),\n",
    "        list_runs_url,\n",
    "        getAllRuns,\n",
    "    )\n",
    "\n",
    "\n",
    "job_ids = list(jobs.keys())\n",
    "list_runs_urls = [\n",
    "    f\"{databricks_url}/api/2.1/jobs/runs/list?job_id={job_id}&limit={query_params.get('LIST_RUNS_LIMIT')}&expand_tasks={query_params.get('EXPAND_RUNS')}&start_time_from={start_date.timestamp()*1000}\"\n",
    "    for job_id in job_ids\n",
    "]\n",
    "\n",
    "for url in list_runs_urls:\n",
    "    getAllRuns(url)"
   ]
  },
  {
   "cell_type": "markdown",
   "metadata": {
    "application/vnd.databricks.v1+cell": {
     "cellMetadata": {},
     "inputWidgets": {},
     "nuid": "d88250c7-78d4-4555-97ff-fcccb17aabc0",
     "showTitle": false,
     "title": ""
    }
   },
   "source": [
    "## Plot the result"
   ]
  },
  {
   "cell_type": "code",
   "execution_count": null,
   "metadata": {
    "application/vnd.databricks.v1+cell": {
     "cellMetadata": {
      "byteLimit": 2048000,
      "rowLimit": 10000
     },
     "inputWidgets": {},
     "nuid": "73b8e1b9-01d4-4a76-a746-2e5cdd67315b",
     "showTitle": false,
     "title": ""
    }
   },
   "outputs": [
    {
     "data": {
      "text/html": [
       "<html>\n",
       "<head><meta charset=\"utf-8\" /></head>\n",
       "<body>\n",
       "    <div>            <script src=\"https://cdnjs.cloudflare.com/ajax/libs/mathjax/2.7.5/MathJax.js?config=TeX-AMS-MML_SVG\"></script><script type=\"text/javascript\">if (window.MathJax && window.MathJax.Hub && window.MathJax.Hub.Config) {window.MathJax.Hub.Config({SVG: {font: \"STIX-Web\"}});}</script>                <script type=\"text/javascript\">window.PlotlyConfig = {MathJaxConfig: 'local'};</script>\n",
       "        <script src=\"https://cdn.plot.ly/plotly-2.12.1.min.js\"></script>                <div id=\"d9fd303f-1130-476c-acb8-a07ee2661fd1\" class=\"plotly-graph-div\" style=\"height:1500px; width:2000px;\"></div>            <script type=\"text/javascript\">                                    window.PLOTLYENV=window.PLOTLYENV || {};                                    if (document.getElementById(\"d9fd303f-1130-476c-acb8-a07ee2661fd1\")) {                    Plotly.newPlot(                        \"d9fd303f-1130-476c-acb8-a07ee2661fd1\",                        [{\"fill\":\"toself\",\"fillcolor\":\"rgb(127, 127, 127)\",\"hoverinfo\":\"name\",\"legendgroup\":\"rgb(127, 127, 127)\",\"mode\":\"none\",\"name\":\"[Full] Tripadvisor Pipeline \\ud83c\\uddf6\\ud83c\\udde6\",\"x\":[\"2023-10-06T16:00:54.234000\",\"2023-10-06T17:01:35.924000\",\"2023-10-06T17:01:35.924000\",\"2023-10-06T16:00:54.234000\",\"2023-10-06T16:00:54.234000\",\"2023-10-11T16:00:58.892000\",\"2023-10-11T16:13:25.113000\",\"2023-10-11T16:13:25.113000\",\"2023-10-11T16:00:58.892000\",\"2023-10-11T16:00:58.892000\",\"2023-10-09T02:30:08.295000\",\"2023-10-09T02:53:17.712000\",\"2023-10-09T02:53:17.712000\",\"2023-10-09T02:30:08.295000\",\"2023-10-09T02:30:08.295000\",\"2023-10-09T19:00:56.491000\",\"2023-10-09T19:28:42.551000\",\"2023-10-09T19:28:42.551000\",\"2023-10-09T19:00:56.491000\",\"2023-10-09T19:00:56.491000\",\"2023-10-09T10:00:28.543000\",\"2023-10-09T10:14:16.074000\",\"2023-10-09T10:14:16.074000\",\"2023-10-09T10:00:28.543000\"],\"y\":[6.8,6.8,7.2,7.2,null,16.8,16.8,17.2,17.2,null,26.8,26.8,27.2,27.2,null,36.8,36.8,37.2,37.2,null,46.8,46.8,47.2,47.2],\"type\":\"scatter\"},{\"fill\":\"toself\",\"fillcolor\":\"rgb(140, 86, 75)\",\"hoverinfo\":\"name\",\"legendgroup\":\"rgb(140, 86, 75)\",\"mode\":\"none\",\"name\":\"[Full] Deliveroo Pipeline \\ud83c\\udded\\ud83c\\uddf0\",\"x\":[\"2023-10-08T16:00:54.372000\",\"2023-10-08T16:49:46.511000\",\"2023-10-08T16:49:46.511000\",\"2023-10-08T16:00:54.372000\",\"2023-10-08T16:00:54.372000\",\"2023-10-09T00:00:22.474000\",\"2023-10-09T00:13:11.396000\",\"2023-10-09T00:13:11.396000\",\"2023-10-09T00:00:22.474000\",\"2023-10-09T00:00:22.474000\",\"2023-10-09T20:00:56.498000\",\"2023-10-10T04:12:08.052000\",\"2023-10-10T04:12:08.052000\",\"2023-10-09T20:00:56.498000\",\"2023-10-09T20:00:56.498000\",\"2023-10-11T19:00:56.554000\",\"2023-10-11T19:36:26.157000\",\"2023-10-11T19:36:26.157000\",\"2023-10-11T19:00:56.554000\",\"2023-10-11T19:00:56.554000\",\"2023-10-09T14:00:56.221000\",\"2023-10-09T15:16:45.179000\",\"2023-10-09T15:16:45.179000\",\"2023-10-09T14:00:56.221000\"],\"y\":[4.8,4.8,5.2,5.2,null,14.8,14.8,15.2,15.2,null,24.8,24.8,25.2,25.2,null,34.8,34.8,35.2,35.2,null,44.8,44.8,45.2,45.2],\"type\":\"scatter\"},{\"fill\":\"toself\",\"fillcolor\":\"rgb(148, 103, 189)\",\"hoverinfo\":\"name\",\"legendgroup\":\"rgb(148, 103, 189)\",\"mode\":\"none\",\"name\":\"[Full] Tripadvisor Pipeline \\ud83c\\udde7\\ud83c\\udded\",\"x\":[\"2023-10-09T16:00:54.574000\",\"2023-10-09T16:49:55.806000\",\"2023-10-09T16:49:55.806000\",\"2023-10-09T16:00:54.574000\",\"2023-10-09T16:00:54.574000\",\"2023-10-10T18:00:06.599000\",\"2023-10-11T22:19:36.868000\",\"2023-10-11T22:19:36.868000\",\"2023-10-10T18:00:06.599000\",\"2023-10-10T18:00:06.599000\",\"2023-10-09T00:00:37.269000\",\"2023-10-09T12:00:44.558000\",\"2023-10-09T12:00:44.558000\",\"2023-10-09T00:00:37.269000\",\"2023-10-09T00:00:37.269000\",\"2023-10-10T20:00:56.477000\",\"2023-10-10T23:32:52.688000\",\"2023-10-10T23:32:52.688000\",\"2023-10-10T20:00:56.477000\",\"2023-10-10T20:00:56.477000\",\"2023-10-09T12:00:28.465000\",\"2023-10-09T12:18:21.097000\",\"2023-10-09T12:18:21.097000\",\"2023-10-09T12:00:28.465000\"],\"y\":[3.8,3.8,4.2,4.2,null,13.8,13.8,14.2,14.2,null,23.8,23.8,24.2,24.2,null,33.8,33.8,34.2,34.2,null,43.8,43.8,44.2,44.2],\"type\":\"scatter\"},{\"fill\":\"toself\",\"fillcolor\":\"rgb(188, 189, 34)\",\"hoverinfo\":\"name\",\"legendgroup\":\"rgb(188, 189, 34)\",\"mode\":\"none\",\"name\":\"[Full] Deliveroo Pipeline \\ud83c\\uddf0\\ud83c\\uddfc\",\"x\":[\"2023-10-05T16:00:57.445000\",\"2023-10-05T17:04:05.411000\",\"2023-10-05T17:04:05.411000\",\"2023-10-05T16:00:57.445000\",\"2023-10-05T16:00:57.445000\",\"2023-10-10T16:00:58.471000\",\"2023-10-10T16:51:00.682000\",\"2023-10-10T16:51:00.682000\",\"2023-10-10T16:00:58.471000\",\"2023-10-10T16:00:58.471000\",\"2023-10-09T00:00:36.568000\",\"2023-10-09T00:12:04.177000\",\"2023-10-09T00:12:04.177000\",\"2023-10-09T00:00:36.568000\",\"2023-10-09T00:00:36.568000\",\"2023-10-09T03:00:57.639000\",\"2023-10-09T03:45:43.139000\",\"2023-10-09T03:45:43.139000\",\"2023-10-09T03:00:57.639000\"],\"y\":[7.8,7.8,8.2,8.2,null,17.8,17.8,18.2,18.2,null,27.8,27.8,28.2,28.2,null,37.8,37.8,38.2,38.2],\"type\":\"scatter\"},{\"fill\":\"toself\",\"fillcolor\":\"rgb(214, 39, 40)\",\"hoverinfo\":\"name\",\"legendgroup\":\"rgb(214, 39, 40)\",\"mode\":\"none\",\"name\":\"[Full] Tripadvisor Pipeline \\ud83c\\udde6\\ud83c\\uddfa\",\"x\":[\"2023-10-10T16:00:54.550000\",\"2023-10-10T17:27:42.269000\",\"2023-10-10T17:27:42.269000\",\"2023-10-10T16:00:54.550000\",\"2023-10-10T16:00:54.550000\",\"2023-10-09T00:00:22.518000\",\"2023-10-09T01:31:19.645000\",\"2023-10-09T01:31:19.645000\",\"2023-10-09T00:00:22.518000\",\"2023-10-09T00:00:22.518000\",\"2023-10-05T16:00:59.495000\",\"2023-10-05T20:07:16.397000\",\"2023-10-05T20:07:16.397000\",\"2023-10-05T16:00:59.495000\",\"2023-10-05T16:00:59.495000\",\"2023-10-09T00:00:47.149000\",\"2023-10-09T08:19:30.925000\",\"2023-10-09T08:19:30.925000\",\"2023-10-09T00:00:47.149000\",\"2023-10-09T00:00:47.149000\",\"2023-10-07T18:00:21.256000\",\"2023-10-08T02:58:18.698000\",\"2023-10-08T02:58:18.698000\",\"2023-10-07T18:00:21.256000\"],\"y\":[2.8,2.8,3.2,3.2,null,12.8,12.8,13.2,13.2,null,22.8,22.8,23.2,23.2,null,32.8,32.8,33.2,33.2,null,42.8,42.8,43.2,43.2],\"type\":\"scatter\"},{\"fill\":\"toself\",\"fillcolor\":\"rgb(227, 119, 194)\",\"hoverinfo\":\"name\",\"legendgroup\":\"rgb(227, 119, 194)\",\"mode\":\"none\",\"name\":\"[Full] Tripadvisor Pipeline \\ud83c\\uddf0\\ud83c\\uddfc\",\"x\":[\"2023-10-07T16:00:54.134000\",\"2023-10-07T16:49:24.255000\",\"2023-10-07T16:49:24.255000\",\"2023-10-07T16:00:54.134000\",\"2023-10-07T16:00:54.134000\",\"2023-10-12T00:00:41.667000\",\"2023-10-12T01:17:01.008000\",\"2023-10-12T01:17:01.008000\",\"2023-10-12T00:00:41.667000\",\"2023-10-12T00:00:41.667000\",\"2023-10-09T12:00:17.354000\",\"2023-10-09T12:58:47.989000\",\"2023-10-09T12:58:47.989000\",\"2023-10-09T12:00:17.354000\",\"2023-10-09T12:00:17.354000\",\"2023-10-11T21:00:56.350000\",\"2023-10-11T23:13:13.732000\",\"2023-10-11T23:13:13.732000\",\"2023-10-11T21:00:56.350000\",\"2023-10-11T21:00:56.350000\",\"2023-10-09T08:00:28.413000\",\"2023-10-09T08:14:58.851000\",\"2023-10-09T08:14:58.851000\",\"2023-10-09T08:00:28.413000\"],\"y\":[5.8,5.8,6.2,6.2,null,15.8,15.8,16.2,16.2,null,25.8,25.8,26.2,26.2,null,35.8,35.8,36.2,36.2,null,45.8,45.8,46.2,46.2],\"type\":\"scatter\"},{\"fill\":\"toself\",\"fillcolor\":\"rgb(23, 190, 207)\",\"hoverinfo\":\"name\",\"legendgroup\":\"rgb(23, 190, 207)\",\"mode\":\"none\",\"name\":\"[Full] Bayut Supplementary Data Pipeline \\ud83c\\udde6\\ud83c\\uddea\",\"x\":[\"2023-10-06T00:00:27.577000\",\"2023-10-06T11:22:23.682000\",\"2023-10-06T11:22:23.682000\",\"2023-10-06T00:00:27.577000\",\"2023-10-06T00:00:27.577000\",\"2023-10-09T16:00:58.387000\",\"2023-10-09T16:13:04.149000\",\"2023-10-09T16:13:04.149000\",\"2023-10-09T16:00:58.387000\",\"2023-10-09T16:00:58.387000\",\"2023-10-09T03:00:09.112000\",\"2023-10-09T03:12:20.862000\",\"2023-10-09T03:12:20.862000\",\"2023-10-09T03:00:09.112000\",\"2023-10-09T03:00:09.112000\",\"2023-10-06T09:37:51.417000\",\"2023-10-06T17:23:51.060000\",\"2023-10-06T17:23:51.060000\",\"2023-10-06T09:37:51.417000\"],\"y\":[8.8,8.8,9.2,9.2,null,18.8,18.8,19.2,19.2,null,28.8,28.8,29.2,29.2,null,38.8,38.8,39.2,39.2],\"type\":\"scatter\"},{\"fill\":\"toself\",\"fillcolor\":\"rgb(255, 127, 14)\",\"hoverinfo\":\"name\",\"legendgroup\":\"rgb(255, 127, 14)\",\"mode\":\"none\",\"name\":\"[Menu] Talabat Menu Parse \\ud83c\\udde6\\ud83c\\uddea\",\"x\":[\"2023-10-09T00:00:37.396000\",\"2023-10-09T00:13:03.104000\",\"2023-10-09T00:13:03.104000\",\"2023-10-09T00:00:37.396000\",\"2023-10-09T00:00:37.396000\",\"2023-10-05T18:00:25.916000\",\"2023-10-06T17:36:28.715000\",\"2023-10-06T17:36:28.715000\",\"2023-10-05T18:00:25.916000\",\"2023-10-05T18:00:25.916000\",\"2023-10-07T16:00:58.422000\",\"2023-10-07T16:13:49.054000\",\"2023-10-07T16:13:49.054000\",\"2023-10-07T16:00:58.422000\",\"2023-10-07T16:00:58.422000\",\"2023-10-09T06:00:31.487000\",\"2023-10-09T06:11:44.332000\",\"2023-10-09T06:11:44.332000\",\"2023-10-09T06:00:31.487000\",\"2023-10-09T06:00:31.487000\",\"2023-10-09T00:00:07.801000\",\"2023-10-09T00:30:34.695000\",\"2023-10-09T00:30:34.695000\",\"2023-10-09T00:00:07.801000\"],\"y\":[0.8,0.8,1.2,1.2,null,10.8,10.8,11.2,11.2,null,20.8,20.8,21.2,21.2,null,30.8,30.8,31.2,31.2,null,40.8,40.8,41.2,41.2],\"type\":\"scatter\"},{\"fill\":\"toself\",\"fillcolor\":\"rgb(31, 119, 180)\",\"hoverinfo\":\"name\",\"legendgroup\":\"rgb(31, 119, 180)\",\"mode\":\"none\",\"name\":\"[Slack] Weekly Swarm Report \\ud83d\\udc1d\",\"x\":[\"2023-10-09T08:19:23.773000\",\"2023-10-09T08:25:37.844000\",\"2023-10-09T08:25:37.844000\",\"2023-10-09T08:19:23.773000\",\"2023-10-09T08:19:23.773000\",\"2023-10-06T00:00:45.188000\",\"2023-10-06T07:23:13.856000\",\"2023-10-06T07:23:13.856000\",\"2023-10-06T00:00:45.188000\",\"2023-10-06T00:00:45.188000\",\"2023-10-08T16:00:58.522000\",\"2023-10-08T16:12:45.817000\",\"2023-10-08T16:12:45.817000\",\"2023-10-08T16:00:58.522000\",\"2023-10-08T16:00:58.522000\",\"2023-10-09T09:00:59.454000\",\"2023-10-09T09:12:20.581000\",\"2023-10-09T09:12:20.581000\",\"2023-10-09T09:00:59.454000\",\"2023-10-09T09:00:59.454000\",\"2023-10-08T18:00:05.619000\",\"2023-10-08T18:10:19.754000\",\"2023-10-08T18:10:19.754000\",\"2023-10-08T18:00:05.619000\"],\"y\":[-0.2,-0.2,0.2,0.2,null,9.8,9.8,10.2,10.2,null,19.8,19.8,20.2,20.2,null,29.8,29.8,30.2,30.2,null,39.8,39.8,40.2,40.2],\"type\":\"scatter\"},{\"fill\":\"toself\",\"fillcolor\":\"rgb(44, 160, 44)\",\"hoverinfo\":\"name\",\"legendgroup\":\"rgb(44, 160, 44)\",\"mode\":\"none\",\"name\":\"[Menu] Deliveroo Menu Parse \\ud83c\\udde6\\ud83c\\uddea\",\"x\":[\"2023-10-11T16:00:54.911000\",\"2023-10-11T16:49:34.981000\",\"2023-10-11T16:49:34.981000\",\"2023-10-11T16:00:54.911000\",\"2023-10-11T16:00:54.911000\",\"2023-10-06T00:00:22.958000\",\"2023-10-06T00:11:47.685000\",\"2023-10-06T00:11:47.685000\",\"2023-10-06T00:00:22.958000\",\"2023-10-06T00:00:22.958000\",\"2023-10-06T16:00:58.613000\",\"2023-10-06T16:13:54.110000\",\"2023-10-06T16:13:54.110000\",\"2023-10-06T16:00:58.613000\",\"2023-10-06T16:00:58.613000\",\"2023-10-09T06:00:50.538000\",\"2023-10-09T06:38:19.125000\",\"2023-10-09T06:38:19.125000\",\"2023-10-09T06:00:50.538000\",\"2023-10-09T06:00:50.538000\",\"2023-10-09T00:00:06.622000\",\"2023-10-09T00:53:42.413000\",\"2023-10-09T00:53:42.413000\",\"2023-10-09T00:00:06.622000\"],\"y\":[1.8,1.8,2.2,2.2,null,11.8,11.8,12.2,12.2,null,21.8,21.8,22.2,22.2,null,31.8,31.8,32.2,32.2,null,41.8,41.8,42.2,42.2],\"type\":\"scatter\"},{\"legendgroup\":\"rgb(127, 127, 127)\",\"marker\":{\"color\":\"rgb(127, 127, 127)\",\"opacity\":0,\"size\":1},\"mode\":\"markers\",\"name\":\"\",\"showlegend\":false,\"text\":[null,null,null,null,null,null,null,null,null,null],\"x\":[\"2023-10-06T16:00:54.234000\",\"2023-10-06T17:01:35.924000\",\"2023-10-11T16:00:58.892000\",\"2023-10-11T16:13:25.113000\",\"2023-10-09T02:30:08.295000\",\"2023-10-09T02:53:17.712000\",\"2023-10-09T19:00:56.491000\",\"2023-10-09T19:28:42.551000\",\"2023-10-09T10:00:28.543000\",\"2023-10-09T10:14:16.074000\"],\"y\":[7,7,17,17,27,27,37,37,47,47],\"type\":\"scatter\"},{\"legendgroup\":\"rgb(140, 86, 75)\",\"marker\":{\"color\":\"rgb(140, 86, 75)\",\"opacity\":0,\"size\":1},\"mode\":\"markers\",\"name\":\"\",\"showlegend\":false,\"text\":[null,null,null,null,null,null,null,null,null,null],\"x\":[\"2023-10-08T16:00:54.372000\",\"2023-10-08T16:49:46.511000\",\"2023-10-09T00:00:22.474000\",\"2023-10-09T00:13:11.396000\",\"2023-10-09T20:00:56.498000\",\"2023-10-10T04:12:08.052000\",\"2023-10-11T19:00:56.554000\",\"2023-10-11T19:36:26.157000\",\"2023-10-09T14:00:56.221000\",\"2023-10-09T15:16:45.179000\"],\"y\":[5,5,15,15,25,25,35,35,45,45],\"type\":\"scatter\"},{\"legendgroup\":\"rgb(148, 103, 189)\",\"marker\":{\"color\":\"rgb(148, 103, 189)\",\"opacity\":0,\"size\":1},\"mode\":\"markers\",\"name\":\"\",\"showlegend\":false,\"text\":[null,null,null,null,null,null,null,null,null,null],\"x\":[\"2023-10-09T16:00:54.574000\",\"2023-10-09T16:49:55.806000\",\"2023-10-10T18:00:06.599000\",\"2023-10-11T22:19:36.868000\",\"2023-10-09T00:00:37.269000\",\"2023-10-09T12:00:44.558000\",\"2023-10-10T20:00:56.477000\",\"2023-10-10T23:32:52.688000\",\"2023-10-09T12:00:28.465000\",\"2023-10-09T12:18:21.097000\"],\"y\":[4,4,14,14,24,24,34,34,44,44],\"type\":\"scatter\"},{\"legendgroup\":\"rgb(188, 189, 34)\",\"marker\":{\"color\":\"rgb(188, 189, 34)\",\"opacity\":0,\"size\":1},\"mode\":\"markers\",\"name\":\"\",\"showlegend\":false,\"text\":[null,null,null,null,null,null,null,null],\"x\":[\"2023-10-05T16:00:57.445000\",\"2023-10-05T17:04:05.411000\",\"2023-10-10T16:00:58.471000\",\"2023-10-10T16:51:00.682000\",\"2023-10-09T00:00:36.568000\",\"2023-10-09T00:12:04.177000\",\"2023-10-09T03:00:57.639000\",\"2023-10-09T03:45:43.139000\"],\"y\":[8,8,18,18,28,28,38,38],\"type\":\"scatter\"},{\"legendgroup\":\"rgb(214, 39, 40)\",\"marker\":{\"color\":\"rgb(214, 39, 40)\",\"opacity\":0,\"size\":1},\"mode\":\"markers\",\"name\":\"\",\"showlegend\":false,\"text\":[null,null,null,null,null,null,null,null,null,null],\"x\":[\"2023-10-10T16:00:54.550000\",\"2023-10-10T17:27:42.269000\",\"2023-10-09T00:00:22.518000\",\"2023-10-09T01:31:19.645000\",\"2023-10-05T16:00:59.495000\",\"2023-10-05T20:07:16.397000\",\"2023-10-09T00:00:47.149000\",\"2023-10-09T08:19:30.925000\",\"2023-10-07T18:00:21.256000\",\"2023-10-08T02:58:18.698000\"],\"y\":[3,3,13,13,23,23,33,33,43,43],\"type\":\"scatter\"},{\"legendgroup\":\"rgb(227, 119, 194)\",\"marker\":{\"color\":\"rgb(227, 119, 194)\",\"opacity\":0,\"size\":1},\"mode\":\"markers\",\"name\":\"\",\"showlegend\":false,\"text\":[null,null,null,null,null,null,null,null,null,null],\"x\":[\"2023-10-07T16:00:54.134000\",\"2023-10-07T16:49:24.255000\",\"2023-10-12T00:00:41.667000\",\"2023-10-12T01:17:01.008000\",\"2023-10-09T12:00:17.354000\",\"2023-10-09T12:58:47.989000\",\"2023-10-11T21:00:56.350000\",\"2023-10-11T23:13:13.732000\",\"2023-10-09T08:00:28.413000\",\"2023-10-09T08:14:58.851000\"],\"y\":[6,6,16,16,26,26,36,36,46,46],\"type\":\"scatter\"},{\"legendgroup\":\"rgb(23, 190, 207)\",\"marker\":{\"color\":\"rgb(23, 190, 207)\",\"opacity\":0,\"size\":1},\"mode\":\"markers\",\"name\":\"\",\"showlegend\":false,\"text\":[null,null,null,null,null,null,null,null],\"x\":[\"2023-10-06T00:00:27.577000\",\"2023-10-06T11:22:23.682000\",\"2023-10-09T16:00:58.387000\",\"2023-10-09T16:13:04.149000\",\"2023-10-09T03:00:09.112000\",\"2023-10-09T03:12:20.862000\",\"2023-10-06T09:37:51.417000\",\"2023-10-06T17:23:51.060000\"],\"y\":[9,9,19,19,29,29,39,39],\"type\":\"scatter\"},{\"legendgroup\":\"rgb(255, 127, 14)\",\"marker\":{\"color\":\"rgb(255, 127, 14)\",\"opacity\":0,\"size\":1},\"mode\":\"markers\",\"name\":\"\",\"showlegend\":false,\"text\":[null,null,null,null,null,null,null,null,null,null],\"x\":[\"2023-10-09T00:00:37.396000\",\"2023-10-09T00:13:03.104000\",\"2023-10-05T18:00:25.916000\",\"2023-10-06T17:36:28.715000\",\"2023-10-07T16:00:58.422000\",\"2023-10-07T16:13:49.054000\",\"2023-10-09T06:00:31.487000\",\"2023-10-09T06:11:44.332000\",\"2023-10-09T00:00:07.801000\",\"2023-10-09T00:30:34.695000\"],\"y\":[1,1,11,11,21,21,31,31,41,41],\"type\":\"scatter\"},{\"legendgroup\":\"rgb(31, 119, 180)\",\"marker\":{\"color\":\"rgb(31, 119, 180)\",\"opacity\":0,\"size\":1},\"mode\":\"markers\",\"name\":\"\",\"showlegend\":false,\"text\":[null,null,null,null,null,null,null,null,null,null],\"x\":[\"2023-10-09T08:19:23.773000\",\"2023-10-09T08:25:37.844000\",\"2023-10-06T00:00:45.188000\",\"2023-10-06T07:23:13.856000\",\"2023-10-08T16:00:58.522000\",\"2023-10-08T16:12:45.817000\",\"2023-10-09T09:00:59.454000\",\"2023-10-09T09:12:20.581000\",\"2023-10-08T18:00:05.619000\",\"2023-10-08T18:10:19.754000\"],\"y\":[0,0,10,10,20,20,30,30,40,40],\"type\":\"scatter\"},{\"legendgroup\":\"rgb(44, 160, 44)\",\"marker\":{\"color\":\"rgb(44, 160, 44)\",\"opacity\":0,\"size\":1},\"mode\":\"markers\",\"name\":\"\",\"showlegend\":false,\"text\":[null,null,null,null,null,null,null,null,null,null],\"x\":[\"2023-10-11T16:00:54.911000\",\"2023-10-11T16:49:34.981000\",\"2023-10-06T00:00:22.958000\",\"2023-10-06T00:11:47.685000\",\"2023-10-06T16:00:58.613000\",\"2023-10-06T16:13:54.110000\",\"2023-10-09T06:00:50.538000\",\"2023-10-09T06:38:19.125000\",\"2023-10-09T00:00:06.622000\",\"2023-10-09T00:53:42.413000\"],\"y\":[2,2,12,12,22,22,32,32,42,42],\"type\":\"scatter\"}],                        {\"height\":1500,\"hovermode\":\"closest\",\"showlegend\":false,\"title\":{\"text\":\"Task Duration Gantt Chart\"},\"xaxis\":{\"rangeselector\":{\"buttons\":[{\"count\":7,\"label\":\"1w\",\"step\":\"day\",\"stepmode\":\"backward\"},{\"count\":1,\"label\":\"1m\",\"step\":\"month\",\"stepmode\":\"backward\"},{\"count\":6,\"label\":\"6m\",\"step\":\"month\",\"stepmode\":\"backward\"},{\"count\":1,\"label\":\"YTD\",\"step\":\"year\",\"stepmode\":\"todate\"},{\"count\":1,\"label\":\"1y\",\"step\":\"year\",\"stepmode\":\"backward\"},{\"step\":\"all\"}]},\"showgrid\":true,\"type\":\"date\",\"zeroline\":false,\"gridcolor\":\"lightgray\"},\"yaxis\":{\"autorange\":false,\"range\":[-1,49],\"showgrid\":true,\"ticktext\":[\"[Full] Michelinguide Pipeline \\ud83c\\udf0e\",\"[Full] Ladiesnightdubai Pipeline \\ud83c\\udde6\\ud83c\\uddea\",\"[Full] Deliveroo Restaurant Pipeline \\ud83c\\udde6\\ud83c\\uddea\",\"[Full] Deliveroo Restaurant Pipeline \\ud83c\\udde6\\ud83c\\uddea\",\"[Full] Deliveroo Restaurant Pipeline \\ud83c\\udde6\\ud83c\\uddea\",\"[Full] Deliveroo Restaurant Pipeline \\ud83c\\udde6\\ud83c\\uddea\",\"[Full] Deliveroo Restaurant Pipeline \\ud83c\\udde6\\ud83c\\uddea\",\"[Full] Deliveroo Restaurant Pipeline \\ud83c\\udde6\\ud83c\\uddea\",\"[Full] Deliveroo Restaurant Pipeline \\ud83c\\udde6\\ud83c\\uddea\",\"[Full] Propertyfinder Listings Pipeline \\ud83c\\udde6\\ud83c\\uddea\",\"[Full] Zoomproperty Pipeline \\ud83c\\udde6\\ud83c\\uddea\",\"[Full] Bayut Listings Pipeline \\ud83c\\udde6\\ud83c\\uddea\",\"[Full] Wasalt Pipeline \\ud83c\\uddf8\\ud83c\\udde6\",\"[Full] Tripadvisor Pipeline \\ud83c\\udde6\\ud83c\\uddea\",\"[Full] Tripadvisor Pipeline \\ud83c\\uddec\\ud83c\\udde7\",\"[Full] DesignMyNight Pipeline \\ud83c\\uddec\\ud83c\\udde7 (London)\",\"[Full] Doordash Pipeline \\ud83c\\udde8\\ud83c\\udde6\",\"[Full] Talabat Restaurant Pipeline \\ud83c\\udde6\\ud83c\\uddea\",\"[Full] Talabat Restaurant Pipeline \\ud83c\\udde6\\ud83c\\uddea\",\"[Full] Talabat Restaurant Pipeline \\ud83c\\udde6\\ud83c\\uddea\",\"[Full] Talabat Restaurant Pipeline \\ud83c\\udde6\\ud83c\\uddea\",\"[Full] Talabat Restaurant Pipeline \\ud83c\\udde6\\ud83c\\uddea\",\"[Full] Talabat Restaurant Pipeline \\ud83c\\udde6\\ud83c\\uddea\",\"[Full] Talabat Restaurant Pipeline \\ud83c\\udde6\\ud83c\\uddea\",\"[Full] Opentable Pipeline \\ud83c\\udf0e\",\"[Full] Deliveroo Pipeline \\ud83c\\uddec\\ud83c\\udde7\",\"[Full] Deliveroo Pipeline \\ud83c\\uddf8\\ud83c\\uddec\",\"[Clients] PropAI Data Delivery \\ud83c\\udde6\\ud83c\\uddea\",\"[Full] Talabat Pipeline \\ud83c\\udde7\\ud83c\\udded\",\"[Full] Talabat Pipeline \\ud83c\\uddf0\\ud83c\\uddfc\",\"[Full] Talabat Pipeline \\ud83c\\uddf8\\ud83c\\udde6\",\"[Full] Talabat Pipeline \\ud83c\\uddf6\\ud83c\\udde6\",\"[Full] Tripadvisor Pipeline \\ud83c\\uddf8\\ud83c\\udde6\",\"[Full] Zomato Restaurant Pipeline \\ud83c\\udde6\\ud83c\\uddea\",\"[Full] Deliveroo Pipeline \\ud83c\\uddeb\\ud83c\\uddf7\",\"[Full] Deliveroo Pipeline \\ud83c\\udde7\\ud83c\\uddea\",\"[Full] Deliveroo Pipeline \\ud83c\\uddee\\ud83c\\uddf9\",\"[Full] Deliveroo Pipeline \\ud83c\\uddee\\ud83c\\uddea\",\"[Full] Deliveroo Pipeline \\ud83c\\uddf0\\ud83c\\uddfc\",\"[Full] Bayut Supplementary Data Pipeline \\ud83c\\udde6\\ud83c\\uddea\",\"[Slack] Weekly Swarm Report \\ud83d\\udc1d\",\"[Menu] Talabat Menu Parse \\ud83c\\udde6\\ud83c\\uddea\",\"[Menu] Deliveroo Menu Parse \\ud83c\\udde6\\ud83c\\uddea\",\"[Full] Tripadvisor Pipeline \\ud83c\\udde6\\ud83c\\uddfa\",\"[Full] Tripadvisor Pipeline \\ud83c\\udde7\\ud83c\\udded\",\"[Full] Deliveroo Pipeline \\ud83c\\udded\\ud83c\\uddf0\",\"[Full] Tripadvisor Pipeline \\ud83c\\uddf0\\ud83c\\uddfc\",\"[Full] Tripadvisor Pipeline \\ud83c\\uddf6\\ud83c\\udde6\"],\"tickvals\":[0,1,2,3,4,5,6,7,8,9,10,11,12,13,14,15,16,17,18,19,20,21,22,23,24,25,26,27,28,29,30,31,32,33,34,35,36,37,38,39,40,41,42,43,44,45,46,47],\"zeroline\":false,\"gridcolor\":\"lightgray\"},\"template\":{\"data\":{\"histogram2dcontour\":[{\"type\":\"histogram2dcontour\",\"colorbar\":{\"outlinewidth\":0,\"ticks\":\"\"},\"colorscale\":[[0.0,\"#0d0887\"],[0.1111111111111111,\"#46039f\"],[0.2222222222222222,\"#7201a8\"],[0.3333333333333333,\"#9c179e\"],[0.4444444444444444,\"#bd3786\"],[0.5555555555555556,\"#d8576b\"],[0.6666666666666666,\"#ed7953\"],[0.7777777777777778,\"#fb9f3a\"],[0.8888888888888888,\"#fdca26\"],[1.0,\"#f0f921\"]]}],\"choropleth\":[{\"type\":\"choropleth\",\"colorbar\":{\"outlinewidth\":0,\"ticks\":\"\"}}],\"histogram2d\":[{\"type\":\"histogram2d\",\"colorbar\":{\"outlinewidth\":0,\"ticks\":\"\"},\"colorscale\":[[0.0,\"#0d0887\"],[0.1111111111111111,\"#46039f\"],[0.2222222222222222,\"#7201a8\"],[0.3333333333333333,\"#9c179e\"],[0.4444444444444444,\"#bd3786\"],[0.5555555555555556,\"#d8576b\"],[0.6666666666666666,\"#ed7953\"],[0.7777777777777778,\"#fb9f3a\"],[0.8888888888888888,\"#fdca26\"],[1.0,\"#f0f921\"]]}],\"heatmap\":[{\"type\":\"heatmap\",\"colorbar\":{\"outlinewidth\":0,\"ticks\":\"\"},\"colorscale\":[[0.0,\"#0d0887\"],[0.1111111111111111,\"#46039f\"],[0.2222222222222222,\"#7201a8\"],[0.3333333333333333,\"#9c179e\"],[0.4444444444444444,\"#bd3786\"],[0.5555555555555556,\"#d8576b\"],[0.6666666666666666,\"#ed7953\"],[0.7777777777777778,\"#fb9f3a\"],[0.8888888888888888,\"#fdca26\"],[1.0,\"#f0f921\"]]}],\"heatmapgl\":[{\"type\":\"heatmapgl\",\"colorbar\":{\"outlinewidth\":0,\"ticks\":\"\"},\"colorscale\":[[0.0,\"#0d0887\"],[0.1111111111111111,\"#46039f\"],[0.2222222222222222,\"#7201a8\"],[0.3333333333333333,\"#9c179e\"],[0.4444444444444444,\"#bd3786\"],[0.5555555555555556,\"#d8576b\"],[0.6666666666666666,\"#ed7953\"],[0.7777777777777778,\"#fb9f3a\"],[0.8888888888888888,\"#fdca26\"],[1.0,\"#f0f921\"]]}],\"contourcarpet\":[{\"type\":\"contourcarpet\",\"colorbar\":{\"outlinewidth\":0,\"ticks\":\"\"}}],\"contour\":[{\"type\":\"contour\",\"colorbar\":{\"outlinewidth\":0,\"ticks\":\"\"},\"colorscale\":[[0.0,\"#0d0887\"],[0.1111111111111111,\"#46039f\"],[0.2222222222222222,\"#7201a8\"],[0.3333333333333333,\"#9c179e\"],[0.4444444444444444,\"#bd3786\"],[0.5555555555555556,\"#d8576b\"],[0.6666666666666666,\"#ed7953\"],[0.7777777777777778,\"#fb9f3a\"],[0.8888888888888888,\"#fdca26\"],[1.0,\"#f0f921\"]]}],\"surface\":[{\"type\":\"surface\",\"colorbar\":{\"outlinewidth\":0,\"ticks\":\"\"},\"colorscale\":[[0.0,\"#0d0887\"],[0.1111111111111111,\"#46039f\"],[0.2222222222222222,\"#7201a8\"],[0.3333333333333333,\"#9c179e\"],[0.4444444444444444,\"#bd3786\"],[0.5555555555555556,\"#d8576b\"],[0.6666666666666666,\"#ed7953\"],[0.7777777777777778,\"#fb9f3a\"],[0.8888888888888888,\"#fdca26\"],[1.0,\"#f0f921\"]]}],\"mesh3d\":[{\"type\":\"mesh3d\",\"colorbar\":{\"outlinewidth\":0,\"ticks\":\"\"}}],\"scatter\":[{\"fillpattern\":{\"fillmode\":\"overlay\",\"size\":10,\"solidity\":0.2},\"type\":\"scatter\"}],\"parcoords\":[{\"type\":\"parcoords\",\"line\":{\"colorbar\":{\"outlinewidth\":0,\"ticks\":\"\"}}}],\"scatterpolargl\":[{\"type\":\"scatterpolargl\",\"marker\":{\"colorbar\":{\"outlinewidth\":0,\"ticks\":\"\"}}}],\"bar\":[{\"error_x\":{\"color\":\"#2a3f5f\"},\"error_y\":{\"color\":\"#2a3f5f\"},\"marker\":{\"line\":{\"color\":\"#E5ECF6\",\"width\":0.5},\"pattern\":{\"fillmode\":\"overlay\",\"size\":10,\"solidity\":0.2}},\"type\":\"bar\"}],\"scattergeo\":[{\"type\":\"scattergeo\",\"marker\":{\"colorbar\":{\"outlinewidth\":0,\"ticks\":\"\"}}}],\"scatterpolar\":[{\"type\":\"scatterpolar\",\"marker\":{\"colorbar\":{\"outlinewidth\":0,\"ticks\":\"\"}}}],\"histogram\":[{\"marker\":{\"pattern\":{\"fillmode\":\"overlay\",\"size\":10,\"solidity\":0.2}},\"type\":\"histogram\"}],\"scattergl\":[{\"type\":\"scattergl\",\"marker\":{\"colorbar\":{\"outlinewidth\":0,\"ticks\":\"\"}}}],\"scatter3d\":[{\"type\":\"scatter3d\",\"line\":{\"colorbar\":{\"outlinewidth\":0,\"ticks\":\"\"}},\"marker\":{\"colorbar\":{\"outlinewidth\":0,\"ticks\":\"\"}}}],\"scattermapbox\":[{\"type\":\"scattermapbox\",\"marker\":{\"colorbar\":{\"outlinewidth\":0,\"ticks\":\"\"}}}],\"scatterternary\":[{\"type\":\"scatterternary\",\"marker\":{\"colorbar\":{\"outlinewidth\":0,\"ticks\":\"\"}}}],\"scattercarpet\":[{\"type\":\"scattercarpet\",\"marker\":{\"colorbar\":{\"outlinewidth\":0,\"ticks\":\"\"}}}],\"carpet\":[{\"aaxis\":{\"endlinecolor\":\"#2a3f5f\",\"gridcolor\":\"white\",\"linecolor\":\"white\",\"minorgridcolor\":\"white\",\"startlinecolor\":\"#2a3f5f\"},\"baxis\":{\"endlinecolor\":\"#2a3f5f\",\"gridcolor\":\"white\",\"linecolor\":\"white\",\"minorgridcolor\":\"white\",\"startlinecolor\":\"#2a3f5f\"},\"type\":\"carpet\"}],\"table\":[{\"cells\":{\"fill\":{\"color\":\"#EBF0F8\"},\"line\":{\"color\":\"white\"}},\"header\":{\"fill\":{\"color\":\"#C8D4E3\"},\"line\":{\"color\":\"white\"}},\"type\":\"table\"}],\"barpolar\":[{\"marker\":{\"line\":{\"color\":\"#E5ECF6\",\"width\":0.5},\"pattern\":{\"fillmode\":\"overlay\",\"size\":10,\"solidity\":0.2}},\"type\":\"barpolar\"}],\"pie\":[{\"automargin\":true,\"type\":\"pie\"}]},\"layout\":{\"autotypenumbers\":\"strict\",\"colorway\":[\"#636efa\",\"#EF553B\",\"#00cc96\",\"#ab63fa\",\"#FFA15A\",\"#19d3f3\",\"#FF6692\",\"#B6E880\",\"#FF97FF\",\"#FECB52\"],\"font\":{\"color\":\"#2a3f5f\"},\"hovermode\":\"closest\",\"hoverlabel\":{\"align\":\"left\"},\"paper_bgcolor\":\"white\",\"plot_bgcolor\":\"#E5ECF6\",\"polar\":{\"bgcolor\":\"#E5ECF6\",\"angularaxis\":{\"gridcolor\":\"white\",\"linecolor\":\"white\",\"ticks\":\"\"},\"radialaxis\":{\"gridcolor\":\"white\",\"linecolor\":\"white\",\"ticks\":\"\"}},\"ternary\":{\"bgcolor\":\"#E5ECF6\",\"aaxis\":{\"gridcolor\":\"white\",\"linecolor\":\"white\",\"ticks\":\"\"},\"baxis\":{\"gridcolor\":\"white\",\"linecolor\":\"white\",\"ticks\":\"\"},\"caxis\":{\"gridcolor\":\"white\",\"linecolor\":\"white\",\"ticks\":\"\"}},\"coloraxis\":{\"colorbar\":{\"outlinewidth\":0,\"ticks\":\"\"}},\"colorscale\":{\"sequential\":[[0.0,\"#0d0887\"],[0.1111111111111111,\"#46039f\"],[0.2222222222222222,\"#7201a8\"],[0.3333333333333333,\"#9c179e\"],[0.4444444444444444,\"#bd3786\"],[0.5555555555555556,\"#d8576b\"],[0.6666666666666666,\"#ed7953\"],[0.7777777777777778,\"#fb9f3a\"],[0.8888888888888888,\"#fdca26\"],[1.0,\"#f0f921\"]],\"sequentialminus\":[[0.0,\"#0d0887\"],[0.1111111111111111,\"#46039f\"],[0.2222222222222222,\"#7201a8\"],[0.3333333333333333,\"#9c179e\"],[0.4444444444444444,\"#bd3786\"],[0.5555555555555556,\"#d8576b\"],[0.6666666666666666,\"#ed7953\"],[0.7777777777777778,\"#fb9f3a\"],[0.8888888888888888,\"#fdca26\"],[1.0,\"#f0f921\"]],\"diverging\":[[0,\"#8e0152\"],[0.1,\"#c51b7d\"],[0.2,\"#de77ae\"],[0.3,\"#f1b6da\"],[0.4,\"#fde0ef\"],[0.5,\"#f7f7f7\"],[0.6,\"#e6f5d0\"],[0.7,\"#b8e186\"],[0.8,\"#7fbc41\"],[0.9,\"#4d9221\"],[1,\"#276419\"]]},\"xaxis\":{\"gridcolor\":\"white\",\"linecolor\":\"white\",\"ticks\":\"\",\"title\":{\"standoff\":15},\"zerolinecolor\":\"white\",\"automargin\":true,\"zerolinewidth\":2},\"yaxis\":{\"gridcolor\":\"white\",\"linecolor\":\"white\",\"ticks\":\"\",\"title\":{\"standoff\":15},\"zerolinecolor\":\"white\",\"automargin\":true,\"zerolinewidth\":2},\"scene\":{\"xaxis\":{\"backgroundcolor\":\"#E5ECF6\",\"gridcolor\":\"white\",\"linecolor\":\"white\",\"showbackground\":true,\"ticks\":\"\",\"zerolinecolor\":\"white\",\"gridwidth\":2},\"yaxis\":{\"backgroundcolor\":\"#E5ECF6\",\"gridcolor\":\"white\",\"linecolor\":\"white\",\"showbackground\":true,\"ticks\":\"\",\"zerolinecolor\":\"white\",\"gridwidth\":2},\"zaxis\":{\"backgroundcolor\":\"#E5ECF6\",\"gridcolor\":\"white\",\"linecolor\":\"white\",\"showbackground\":true,\"ticks\":\"\",\"zerolinecolor\":\"white\",\"gridwidth\":2}},\"shapedefaults\":{\"line\":{\"color\":\"#2a3f5f\"}},\"annotationdefaults\":{\"arrowcolor\":\"#2a3f5f\",\"arrowhead\":0,\"arrowwidth\":1},\"geo\":{\"bgcolor\":\"white\",\"landcolor\":\"#E5ECF6\",\"subunitcolor\":\"white\",\"showland\":true,\"showlakes\":true,\"lakecolor\":\"white\"},\"title\":{\"x\":0.05},\"mapbox\":{\"style\":\"light\"}}},\"width\":2000,\"plot_bgcolor\":\"white\",\"paper_bgcolor\":\"white\"},                        {\"responsive\": true}                    )                };                            </script>        </div>\n",
       "</body>\n",
       "</html>"
      ]
     },
     "metadata": {},
     "output_type": "display_data"
    }
   ],
   "source": [
    "# Adjust accordingly\n",
    "PLOT_HEIGHT = 1500\n",
    "PLOT_WIDTH = 2000\n",
    "\n",
    "runs_df = pd.DataFrame(all_runs_info)\n",
    "\n",
    "runs_df[\"Start\"] = pd.to_datetime(runs_df[\"Start\"])\n",
    "runs_df[\"Finish\"] = pd.to_datetime(runs_df[\"Finish\"])\n",
    "\n",
    "runs_df[\"Duration\"] = (\n",
    "    runs_df[\"Finish\"] - runs_df[\"Start\"]\n",
    ").dt.total_seconds() / 3600  # Duration in hours\n",
    "\n",
    "# Create a new column 'Day' representing the day for each task\n",
    "runs_df[\"Day\"] = runs_df[\"Start\"].dt.date\n",
    "runs_df.head()\n",
    "\n",
    "# Extract task, start, and end dates\n",
    "tasks = runs_df[\"Task\"].tolist()\n",
    "start_dates = runs_df[\"Start\"].tolist()\n",
    "end_dates = runs_df[\"Finish\"].tolist()\n",
    "\n",
    "# Create the Gantt chart\n",
    "fig = ff.create_gantt(\n",
    "    runs_df,\n",
    "    title=\"Task Duration Gantt Chart\",\n",
    ")\n",
    "\n",
    "fig.update_layout(\n",
    "    height=PLOT_HEIGHT,\n",
    "    width=PLOT_WIDTH,\n",
    "    plot_bgcolor=\"white\",\n",
    "    paper_bgcolor=\"white\",\n",
    "    yaxis=dict(showgrid=True, gridcolor=\"lightgray\"),\n",
    "    xaxis=dict(showgrid=True, gridcolor=\"lightgray\"),\n",
    ")\n",
    "\n",
    "fig.show()"
   ]
  }
 ],
 "metadata": {
  "application/vnd.databricks.v1+notebook": {
   "dashboards": [
    {
     "elements": [
      {
       "dashboardResultIndex": 0,
       "elementNUID": "da04d5ee-cf9d-441c-a1d2-95bab6a46eed",
       "elementType": "command",
       "guid": "1806ca8a-35e7-4bde-b268-8ae24f5a9614",
       "options": null,
       "position": {
        "height": 8,
        "width": 24,
        "x": 0,
        "y": 8,
        "z": null
       },
       "resultIndex": null
      },
      {
       "dashboardResultIndex": 0,
       "elementNUID": "73b8e1b9-01d4-4a76-a746-2e5cdd67315b",
       "elementType": "command",
       "guid": "1c1a7f68-0a81-454d-b94b-6e00aa1fdda2",
       "options": null,
       "position": {
        "height": 17,
        "width": 24,
        "x": 0,
        "y": 16,
        "z": null
       },
       "resultIndex": null
      },
      {
       "dashboardResultIndex": 0,
       "elementNUID": "4d3b675a-9a3f-41ec-8551-2900c7616383",
       "elementType": "command",
       "guid": "3badc786-a3b5-43a9-83bc-61236ea1cd0d",
       "options": {
        "autoScaleImg": false,
        "scale": 0,
        "showRunButton": false,
        "showTitle": false,
        "titleAlign": "center"
       },
       "position": {
        "height": 8,
        "width": 24,
        "x": 0,
        "y": 0,
        "z": null
       },
       "resultIndex": null
      }
     ],
     "globalVars": {},
     "guid": "",
     "layoutOption": {
      "grid": true,
      "stack": true
     },
     "nuid": "89804740-c7b6-44b4-9c72-2e1c14be2084",
     "origId": 0,
     "title": "Schedule Viz",
     "version": "DashboardViewV1",
     "width": 1440
    }
   ],
   "language": "python",
   "notebookMetadata": {
    "mostRecentlyExecutedCommandWithImplicitDF": {
     "commandId": 1634724413475231,
     "dataframes": [
      "_sqldf"
     ]
    },
    "pythonIndentUnit": 4
   },
   "notebookName": "Jobs Schedule Calendar",
   "widgets": {
    "databricks_url": {
     "currentValue": "",
     "nuid": "1252ccd1-8501-4afb-96d1-fd2d12a60852",
     "widgetInfo": {
      "defaultValue": "",
      "label": null,
      "name": "databricks_url",
      "options": {
       "validationRegex": null,
       "widgetType": "text"
      },
      "widgetType": "text"
     }
    },
    "databricks_workspace_token": {
     "currentValue": "",
     "nuid": "7944ddb4-88e5-4041-8773-64bf5327fd25",
     "widgetInfo": {
      "defaultValue": "",
      "label": null,
      "name": "databricks_workspace_token",
      "options": {
       "validationRegex": null,
       "widgetType": "text"
      },
      "widgetType": "text"
     }
    },
    "end_date": {
     "currentValue": "2023-11-05",
     "nuid": "dc84215a-1528-4af8-83de-d407d7bcc6ad",
     "widgetInfo": {
      "defaultValue": "2023-11-05",
      "label": null,
      "name": "end_date",
      "options": {
       "validationRegex": null,
       "widgetType": "text"
      },
      "widgetType": "text"
     }
    },
    "start_date": {
     "currentValue": "2023-10-01",
     "nuid": "a254d69f-7ac4-4911-b323-5f60de54125b",
     "widgetInfo": {
      "defaultValue": "2023-10-01",
      "label": null,
      "name": "start_date",
      "options": {
       "validationRegex": null,
       "widgetType": "text"
      },
      "widgetType": "text"
     }
    }
   }
  },
  "language_info": {
   "name": "python"
  }
 },
 "nbformat": 4,
 "nbformat_minor": 0
}
